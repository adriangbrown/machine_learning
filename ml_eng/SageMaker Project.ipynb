{
 "cells": [
  {
   "cell_type": "markdown",
   "metadata": {},
   "source": [
    "# Creating a Sentiment Analysis Web App\n",
    "## Using PyTorch and SageMaker\n",
    "\n",
    "_Deep Learning Nanodegree Program | Deployment_\n",
    "\n",
    "---\n",
    "\n",
    "Now that we have a basic understanding of how SageMaker works we will try to use it to construct a complete project from end to end. Our goal will be to have a simple web page which a user can use to enter a movie review. The web page will then send the review off to our deployed model which will predict the sentiment of the entered review.\n",
    "\n",
    "## Instructions\n",
    "\n",
    "Some template code has already been provided for you, and you will need to implement additional functionality to successfully complete this notebook. You will not need to modify the included code beyond what is requested. Sections that begin with '**TODO**' in the header indicate that you need to complete or implement some portion within them. Instructions will be provided for each section and the specifics of the implementation are marked in the code block with a `# TODO: ...` comment. Please be sure to read the instructions carefully!\n",
    "\n",
    "In addition to implementing code, there will be questions for you to answer which relate to the task and your implementation. Each section where you will answer a question is preceded by a '**Question:**' header. Carefully read each question and provide your answer below the '**Answer:**' header by editing the Markdown cell.\n",
    "\n",
    "> **Note**: Code and Markdown cells can be executed using the **Shift+Enter** keyboard shortcut. In addition, a cell can be edited by typically clicking it (double-click for Markdown cells) or by pressing **Enter** while it is highlighted.\n",
    "\n",
    "## General Outline\n",
    "\n",
    "Recall the general outline for SageMaker projects using a notebook instance.\n",
    "\n",
    "1. Download or otherwise retrieve the data.\n",
    "2. Process / Prepare the data.\n",
    "3. Upload the processed data to S3.\n",
    "4. Train a chosen model.\n",
    "5. Test the trained model (typically using a batch transform job).\n",
    "6. Deploy the trained model.\n",
    "7. Use the deployed model.\n",
    "\n",
    "For this project, you will be following the steps in the general outline with some modifications. \n",
    "\n",
    "First, you will not be testing the model in its own step. You will still be testing the model, however, you will do it by deploying your model and then using the deployed model by sending the test data to it. One of the reasons for doing this is so that you can make sure that your deployed model is working correctly before moving forward.\n",
    "\n",
    "In addition, you will deploy and use your trained model a second time. In the second iteration you will customize the way that your trained model is deployed by including some of your own code. In addition, your newly deployed model will be used in the sentiment analysis web app."
   ]
  },
  {
   "cell_type": "code",
   "execution_count": 1,
   "metadata": {},
   "outputs": [
    {
     "name": "stdout",
     "output_type": "stream",
     "text": [
      "Collecting sagemaker==1.72.0\n",
      "  Downloading sagemaker-1.72.0.tar.gz (297 kB)\n",
      "\u001b[K     |████████████████████████████████| 297 kB 10.1 MB/s eta 0:00:01\n",
      "\u001b[?25hRequirement already satisfied: boto3>=1.14.12 in /home/ec2-user/anaconda3/envs/pytorch_p36/lib/python3.6/site-packages (from sagemaker==1.72.0) (1.17.74)\n",
      "Requirement already satisfied: numpy>=1.9.0 in /home/ec2-user/anaconda3/envs/pytorch_p36/lib/python3.6/site-packages (from sagemaker==1.72.0) (1.19.5)\n",
      "Requirement already satisfied: protobuf>=3.1 in /home/ec2-user/anaconda3/envs/pytorch_p36/lib/python3.6/site-packages (from sagemaker==1.72.0) (3.15.2)\n",
      "Requirement already satisfied: scipy>=0.19.0 in /home/ec2-user/anaconda3/envs/pytorch_p36/lib/python3.6/site-packages (from sagemaker==1.72.0) (1.5.3)\n",
      "Requirement already satisfied: protobuf3-to-dict>=0.1.5 in /home/ec2-user/anaconda3/envs/pytorch_p36/lib/python3.6/site-packages (from sagemaker==1.72.0) (0.1.5)\n",
      "Collecting smdebug-rulesconfig==0.1.4\n",
      "  Downloading smdebug_rulesconfig-0.1.4-py2.py3-none-any.whl (10 kB)\n",
      "Requirement already satisfied: importlib-metadata>=1.4.0 in /home/ec2-user/anaconda3/envs/pytorch_p36/lib/python3.6/site-packages (from sagemaker==1.72.0) (3.7.0)\n",
      "Requirement already satisfied: packaging>=20.0 in /home/ec2-user/anaconda3/envs/pytorch_p36/lib/python3.6/site-packages (from sagemaker==1.72.0) (20.9)\n",
      "Requirement already satisfied: jmespath<1.0.0,>=0.7.1 in /home/ec2-user/anaconda3/envs/pytorch_p36/lib/python3.6/site-packages (from boto3>=1.14.12->sagemaker==1.72.0) (0.10.0)\n",
      "Requirement already satisfied: botocore<1.21.0,>=1.20.74 in /home/ec2-user/anaconda3/envs/pytorch_p36/lib/python3.6/site-packages (from boto3>=1.14.12->sagemaker==1.72.0) (1.20.74)\n",
      "Requirement already satisfied: s3transfer<0.5.0,>=0.4.0 in /home/ec2-user/anaconda3/envs/pytorch_p36/lib/python3.6/site-packages (from boto3>=1.14.12->sagemaker==1.72.0) (0.4.2)\n",
      "Requirement already satisfied: python-dateutil<3.0.0,>=2.1 in /home/ec2-user/anaconda3/envs/pytorch_p36/lib/python3.6/site-packages (from botocore<1.21.0,>=1.20.74->boto3>=1.14.12->sagemaker==1.72.0) (2.8.1)\n",
      "Requirement already satisfied: urllib3<1.27,>=1.25.4 in /home/ec2-user/anaconda3/envs/pytorch_p36/lib/python3.6/site-packages (from botocore<1.21.0,>=1.20.74->boto3>=1.14.12->sagemaker==1.72.0) (1.26.4)\n",
      "Requirement already satisfied: typing-extensions>=3.6.4 in /home/ec2-user/anaconda3/envs/pytorch_p36/lib/python3.6/site-packages (from importlib-metadata>=1.4.0->sagemaker==1.72.0) (3.7.4.3)\n",
      "Requirement already satisfied: zipp>=0.5 in /home/ec2-user/anaconda3/envs/pytorch_p36/lib/python3.6/site-packages (from importlib-metadata>=1.4.0->sagemaker==1.72.0) (3.4.0)\n",
      "Requirement already satisfied: pyparsing>=2.0.2 in /home/ec2-user/anaconda3/envs/pytorch_p36/lib/python3.6/site-packages (from packaging>=20.0->sagemaker==1.72.0) (2.4.7)\n",
      "Requirement already satisfied: six>=1.9 in /home/ec2-user/anaconda3/envs/pytorch_p36/lib/python3.6/site-packages (from protobuf>=3.1->sagemaker==1.72.0) (1.15.0)\n",
      "Building wheels for collected packages: sagemaker\n",
      "  Building wheel for sagemaker (setup.py) ... \u001b[?25ldone\n",
      "\u001b[?25h  Created wheel for sagemaker: filename=sagemaker-1.72.0-py2.py3-none-any.whl size=386358 sha256=0fd2e0d3ae7c4f459b6385163b2aefd6de66769a9f3564d749072e5e4e6421d7\n",
      "  Stored in directory: /home/ec2-user/.cache/pip/wheels/c3/58/70/85faf4437568bfaa4c419937569ba1fe54d44c5db42406bbd7\n",
      "Successfully built sagemaker\n",
      "Installing collected packages: smdebug-rulesconfig, sagemaker\n",
      "  Attempting uninstall: smdebug-rulesconfig\n",
      "    Found existing installation: smdebug-rulesconfig 1.0.1\n",
      "    Uninstalling smdebug-rulesconfig-1.0.1:\n",
      "      Successfully uninstalled smdebug-rulesconfig-1.0.1\n",
      "  Attempting uninstall: sagemaker\n",
      "    Found existing installation: sagemaker 2.41.0\n",
      "    Uninstalling sagemaker-2.41.0:\n",
      "      Successfully uninstalled sagemaker-2.41.0\n",
      "Successfully installed sagemaker-1.72.0 smdebug-rulesconfig-0.1.4\n",
      "Collecting pandas==0.22\n",
      "  Using cached pandas-0.22.0-cp36-cp36m-manylinux1_x86_64.whl (26.2 MB)\n",
      "Requirement already satisfied: numpy>=1.9.0 in /home/ec2-user/anaconda3/envs/pytorch_p36/lib/python3.6/site-packages (from pandas==0.22) (1.19.5)\n",
      "Requirement already satisfied: python-dateutil>=2 in /home/ec2-user/anaconda3/envs/pytorch_p36/lib/python3.6/site-packages (from pandas==0.22) (2.8.1)\n",
      "Requirement already satisfied: pytz>=2011k in /home/ec2-user/anaconda3/envs/pytorch_p36/lib/python3.6/site-packages (from pandas==0.22) (2021.1)\n",
      "Requirement already satisfied: six>=1.5 in /home/ec2-user/anaconda3/envs/pytorch_p36/lib/python3.6/site-packages (from python-dateutil>=2->pandas==0.22) (1.15.0)\n",
      "Installing collected packages: pandas\n",
      "  Attempting uninstall: pandas\n",
      "    Found existing installation: pandas 1.1.5\n",
      "    Uninstalling pandas-1.1.5:\n",
      "      Successfully uninstalled pandas-1.1.5\n",
      "\u001b[31mERROR: pip's dependency resolver does not currently take into account all the packages that are installed. This behaviour is the source of the following dependency conflicts.\n",
      "fastai 1.0.61 requires nvidia-ml-py3, which is not installed.\n",
      "seaborn 0.11.1 requires pandas>=0.23, but you have pandas 0.22.0 which is incompatible.\u001b[0m\n",
      "Successfully installed pandas-0.22.0\n"
     ]
    }
   ],
   "source": [
    "# Make sure that we use SageMaker 1.x\n",
    "!pip install sagemaker==1.72.0\n",
    "!pip install pandas==0.22"
   ]
  },
  {
   "cell_type": "markdown",
   "metadata": {},
   "source": [
    "## Step 1: Downloading the data\n",
    "\n",
    "As in the XGBoost in SageMaker notebook, we will be using the [IMDb dataset](http://ai.stanford.edu/~amaas/data/sentiment/)\n",
    "\n",
    "> Maas, Andrew L., et al. [Learning Word Vectors for Sentiment Analysis](http://ai.stanford.edu/~amaas/data/sentiment/). In _Proceedings of the 49th Annual Meeting of the Association for Computational Linguistics: Human Language Technologies_. Association for Computational Linguistics, 2011."
   ]
  },
  {
   "cell_type": "code",
   "execution_count": 2,
   "metadata": {},
   "outputs": [
    {
     "name": "stdout",
     "output_type": "stream",
     "text": [
      "mkdir: cannot create directory ‘../data’: File exists\n",
      "--2021-05-21 18:27:50--  http://ai.stanford.edu/~amaas/data/sentiment/aclImdb_v1.tar.gz\n",
      "Resolving ai.stanford.edu (ai.stanford.edu)... 171.64.68.10\n",
      "Connecting to ai.stanford.edu (ai.stanford.edu)|171.64.68.10|:80... connected.\n",
      "HTTP request sent, awaiting response... 200 OK\n",
      "Length: 84125825 (80M) [application/x-gzip]\n",
      "Saving to: ‘../data/aclImdb_v1.tar.gz’\n",
      "\n",
      "../data/aclImdb_v1. 100%[===================>]  80.23M  26.2MB/s    in 3.1s    \n",
      "\n",
      "2021-05-21 18:27:53 (26.2 MB/s) - ‘../data/aclImdb_v1.tar.gz’ saved [84125825/84125825]\n",
      "\n"
     ]
    }
   ],
   "source": [
    "%mkdir ../data\n",
    "!wget -O ../data/aclImdb_v1.tar.gz http://ai.stanford.edu/~amaas/data/sentiment/aclImdb_v1.tar.gz\n",
    "!tar -zxf ../data/aclImdb_v1.tar.gz -C ../data"
   ]
  },
  {
   "cell_type": "markdown",
   "metadata": {},
   "source": [
    "## Step 2: Preparing and Processing the data\n",
    "\n",
    "Also, as in the XGBoost notebook, we will be doing some initial data processing. The first few steps are the same as in the XGBoost example. To begin with, we will read in each of the reviews and combine them into a single input structure. Then, we will split the dataset into a training set and a testing set."
   ]
  },
  {
   "cell_type": "code",
   "execution_count": 3,
   "metadata": {},
   "outputs": [],
   "source": [
    "import os\n",
    "import glob\n",
    "\n",
    "def read_imdb_data(data_dir='../data/aclImdb'):\n",
    "    data = {}\n",
    "    labels = {}\n",
    "    \n",
    "    for data_type in ['train', 'test']:\n",
    "        data[data_type] = {}\n",
    "        labels[data_type] = {}\n",
    "        \n",
    "        for sentiment in ['pos', 'neg']:\n",
    "            data[data_type][sentiment] = []\n",
    "            labels[data_type][sentiment] = []\n",
    "            \n",
    "            path = os.path.join(data_dir, data_type, sentiment, '*.txt')\n",
    "            files = glob.glob(path)\n",
    "            \n",
    "            for f in files:\n",
    "                with open(f) as review:\n",
    "                    data[data_type][sentiment].append(review.read())\n",
    "                    # Here we represent a positive review by '1' and a negative review by '0'\n",
    "                    labels[data_type][sentiment].append(1 if sentiment == 'pos' else 0)\n",
    "                    \n",
    "            assert len(data[data_type][sentiment]) == len(labels[data_type][sentiment]), \\\n",
    "                    \"{}/{} data size does not match labels size\".format(data_type, sentiment)\n",
    "                \n",
    "    return data, labels"
   ]
  },
  {
   "cell_type": "code",
   "execution_count": 4,
   "metadata": {},
   "outputs": [
    {
     "name": "stdout",
     "output_type": "stream",
     "text": [
      "IMDB reviews: train = 12500 pos / 12500 neg, test = 12500 pos / 12500 neg\n"
     ]
    }
   ],
   "source": [
    "data, labels = read_imdb_data()\n",
    "print(\"IMDB reviews: train = {} pos / {} neg, test = {} pos / {} neg\".format(\n",
    "            len(data['train']['pos']), len(data['train']['neg']),\n",
    "            len(data['test']['pos']), len(data['test']['neg'])))"
   ]
  },
  {
   "cell_type": "markdown",
   "metadata": {},
   "source": [
    "Now that we've read the raw training and testing data from the downloaded dataset, we will combine the positive and negative reviews and shuffle the resulting records."
   ]
  },
  {
   "cell_type": "code",
   "execution_count": 5,
   "metadata": {},
   "outputs": [],
   "source": [
    "from sklearn.utils import shuffle\n",
    "\n",
    "def prepare_imdb_data(data, labels):\n",
    "    \"\"\"Prepare training and test sets from IMDb movie reviews.\"\"\"\n",
    "    \n",
    "    #Combine positive and negative reviews and labels\n",
    "    data_train = data['train']['pos'] + data['train']['neg']\n",
    "    data_test = data['test']['pos'] + data['test']['neg']\n",
    "    labels_train = labels['train']['pos'] + labels['train']['neg']\n",
    "    labels_test = labels['test']['pos'] + labels['test']['neg']\n",
    "    \n",
    "    #Shuffle reviews and corresponding labels within training and test sets\n",
    "    data_train, labels_train = shuffle(data_train, labels_train)\n",
    "    data_test, labels_test = shuffle(data_test, labels_test)\n",
    "    \n",
    "    # Return a unified training data, test data, training labels, test labets\n",
    "    return data_train, data_test, labels_train, labels_test"
   ]
  },
  {
   "cell_type": "code",
   "execution_count": 6,
   "metadata": {},
   "outputs": [
    {
     "name": "stdout",
     "output_type": "stream",
     "text": [
      "IMDb reviews (combined): train = 25000, test = 25000\n"
     ]
    }
   ],
   "source": [
    "train_X, test_X, train_y, test_y = prepare_imdb_data(data, labels)\n",
    "print(\"IMDb reviews (combined): train = {}, test = {}\".format(len(train_X), len(test_X)))"
   ]
  },
  {
   "cell_type": "markdown",
   "metadata": {},
   "source": [
    "Now that we have our training and testing sets unified and prepared, we should do a quick check and see an example of the data our model will be trained on. This is generally a good idea as it allows you to see how each of the further processing steps affects the reviews and it also ensures that the data has been loaded correctly."
   ]
  },
  {
   "cell_type": "code",
   "execution_count": 7,
   "metadata": {},
   "outputs": [
    {
     "name": "stdout",
     "output_type": "stream",
     "text": [
      "Not since Spongebob Squarepants have i seen a greater cartoon on TV. The colors are great, the voices could't be better, the characters are so original, great great cartoon. Hope Nickolodean continues to develop this cartoon. Hope the Season DVD comes out soon!!! I love cartoons like this and I hope more people tune in to se this great cartoon. It is very hard to find the Season DVD, so if somebody finds a store that is selling it please let me Know. The only Catscratch merchandise available on Nick Shop is a great lookin shirt, but very very very expensive!!! If you love Spongebob; and who doesn''t?; you'll love Catscratch too!\n",
      "1\n"
     ]
    }
   ],
   "source": [
    "# Explore data sets\n",
    "print(train_X[100])\n",
    "print(train_y[100])"
   ]
  },
  {
   "cell_type": "markdown",
   "metadata": {},
   "source": [
    "The first step in processing the reviews is to make sure that any html tags that appear should be removed. In addition we wish to tokenize our input, that way words such as *entertained* and *entertaining* are considered the same with regard to sentiment analysis."
   ]
  },
  {
   "cell_type": "code",
   "execution_count": 8,
   "metadata": {},
   "outputs": [],
   "source": [
    "import nltk\n",
    "from nltk.corpus import stopwords\n",
    "from nltk.stem.porter import *\n",
    "\n",
    "import re\n",
    "from bs4 import BeautifulSoup\n",
    "\n",
    "def review_to_words(review):\n",
    "    nltk.download(\"stopwords\", quiet=True)\n",
    "    stemmer = PorterStemmer()\n",
    "    \n",
    "    text = BeautifulSoup(review, \"html.parser\").get_text() # Remove HTML tags\n",
    "    text = re.sub(r\"[^a-zA-Z0-9]\", \" \", text.lower()) # Convert to lower case\n",
    "    words = text.split() # Split string into words\n",
    "    words = [w for w in words if w not in stopwords.words(\"english\")] # Remove stopwords\n",
    "    words = [PorterStemmer().stem(w) for w in words] # stem\n",
    "    \n",
    "    return words"
   ]
  },
  {
   "cell_type": "markdown",
   "metadata": {},
   "source": [
    "The `review_to_words` method defined above uses `BeautifulSoup` to remove any html tags that appear and uses the `nltk` package to tokenize the reviews. As a check to ensure we know how everything is working, try applying `review_to_words` to one of the reviews in the training set."
   ]
  },
  {
   "cell_type": "code",
   "execution_count": 9,
   "metadata": {},
   "outputs": [
    {
     "name": "stdout",
     "output_type": "stream",
     "text": [
      "['sinc', 'spongebob', 'squarep', 'seen', 'greater', 'cartoon', 'tv', 'color', 'great', 'voic', 'could', 'better', 'charact', 'origin', 'great', 'great', 'cartoon', 'hope', 'nickolodean', 'continu', 'develop', 'cartoon', 'hope', 'season', 'dvd', 'come', 'soon', 'love', 'cartoon', 'like', 'hope', 'peopl', 'tune', 'se', 'great', 'cartoon', 'hard', 'find', 'season', 'dvd', 'somebodi', 'find', 'store', 'sell', 'pleas', 'let', 'know', 'catscratch', 'merchandis', 'avail', 'nick', 'shop', 'great', 'lookin', 'shirt', 'expens', 'love', 'spongebob', 'love', 'catscratch']\n"
     ]
    }
   ],
   "source": [
    "# TODO: Apply review_to_words to a review (train_X[100] or any other review)\n",
    "print(review_to_words(train_X[100]))"
   ]
  },
  {
   "cell_type": "markdown",
   "metadata": {},
   "source": [
    "**Question:** Above we mentioned that `review_to_words` method removes html formatting and allows us to tokenize the words found in a review, for example, converting *entertained* and *entertaining* into *entertain* so that they are treated as though they are the same word. What else, if anything, does this method do to the input?"
   ]
  },
  {
   "cell_type": "markdown",
   "metadata": {},
   "source": [
    "**Answer:**\n",
    "Removes stop words or commonly used in any language:  'and', 'the', 'is'.  Truncates the words or stems them to remove tenses."
   ]
  },
  {
   "cell_type": "markdown",
   "metadata": {},
   "source": [
    "The method below applies the `review_to_words` method to each of the reviews in the training and testing datasets. In addition it caches the results. This is because performing this processing step can take a long time. This way if you are unable to complete the notebook in the current session, you can come back without needing to process the data a second time."
   ]
  },
  {
   "cell_type": "code",
   "execution_count": 10,
   "metadata": {},
   "outputs": [],
   "source": [
    "import pickle\n",
    "\n",
    "cache_dir = os.path.join(\"../cache\", \"sentiment_analysis\")  # where to store cache files\n",
    "os.makedirs(cache_dir, exist_ok=True)  # ensure cache directory exists\n",
    "\n",
    "def preprocess_data(data_train, data_test, labels_train, labels_test,\n",
    "                    cache_dir=cache_dir, cache_file=\"preprocessed_data.pkl\"):\n",
    "    \"\"\"Convert each review to words; read from cache if available.\"\"\"\n",
    "\n",
    "    # If cache_file is not None, try to read from it first\n",
    "    cache_data = None\n",
    "    if cache_file is not None:\n",
    "        try:\n",
    "            with open(os.path.join(cache_dir, cache_file), \"rb\") as f:\n",
    "                cache_data = pickle.load(f)\n",
    "            print(\"Read preprocessed data from cache file:\", cache_file)\n",
    "        except:\n",
    "            pass  # unable to read from cache, but that's okay\n",
    "    \n",
    "    # If cache is missing, then do the heavy lifting\n",
    "    if cache_data is None:\n",
    "        # Preprocess training and test data to obtain words for each review\n",
    "        #words_train = list(map(review_to_words, data_train))\n",
    "        #words_test = list(map(review_to_words, data_test))\n",
    "        words_train = [review_to_words(review) for review in data_train]\n",
    "        words_test = [review_to_words(review) for review in data_test]\n",
    "        \n",
    "        # Write to cache file for future runs\n",
    "        if cache_file is not None:\n",
    "            cache_data = dict(words_train=words_train, words_test=words_test,\n",
    "                              labels_train=labels_train, labels_test=labels_test)\n",
    "            with open(os.path.join(cache_dir, cache_file), \"wb\") as f:\n",
    "                pickle.dump(cache_data, f)\n",
    "            print(\"Wrote preprocessed data to cache file:\", cache_file)\n",
    "    else:\n",
    "        # Unpack data loaded from cache file\n",
    "        words_train, words_test, labels_train, labels_test = (cache_data['words_train'],\n",
    "                cache_data['words_test'], cache_data['labels_train'], cache_data['labels_test'])\n",
    "    \n",
    "    return words_train, words_test, labels_train, labels_test"
   ]
  },
  {
   "cell_type": "code",
   "execution_count": 11,
   "metadata": {},
   "outputs": [
    {
     "name": "stdout",
     "output_type": "stream",
     "text": [
      "Read preprocessed data from cache file: preprocessed_data.pkl\n"
     ]
    }
   ],
   "source": [
    "# Preprocess data\n",
    "train_X, test_X, train_y, test_y = preprocess_data(train_X, test_X, train_y, test_y)\n"
   ]
  },
  {
   "cell_type": "markdown",
   "metadata": {},
   "source": [
    "## Transform the data\n",
    "\n",
    "In the XGBoost notebook we transformed the data from its word representation to a bag-of-words feature representation. For the model we are going to construct in this notebook we will construct a feature representation which is very similar. To start, we will represent each word as an integer. Of course, some of the words that appear in the reviews occur very infrequently and so likely don't contain much information for the purposes of sentiment analysis. The way we will deal with this problem is that we will fix the size of our working vocabulary and we will only include the words that appear most frequently. We will then combine all of the infrequent words into a single category and, in our case, we will label it as `1`.\n",
    "\n",
    "Since we will be using a recurrent neural network, it will be convenient if the length of each review is the same. To do this, we will fix a size for our reviews and then pad short reviews with the category 'no word' (which we will label `0`) and truncate long reviews."
   ]
  },
  {
   "cell_type": "markdown",
   "metadata": {},
   "source": [
    "### (TODO) Create a word dictionary\n",
    "\n",
    "To begin with, we need to construct a way to map words that appear in the reviews to integers. Here we fix the size of our vocabulary (including the 'no word' and 'infrequent' categories) to be `5000` but you may wish to change this to see how it affects the model.\n",
    "\n",
    "> **TODO:** Complete the implementation for the `build_dict()` method below. Note that even though the vocab_size is set to `5000`, we only want to construct a mapping for the most frequently appearing `4998` words. This is because we want to reserve the special labels `0` for 'no word' and `1` for 'infrequent word'."
   ]
  },
  {
   "cell_type": "code",
   "execution_count": 13,
   "metadata": {},
   "outputs": [],
   "source": [
    "from collections import Counter\n",
    "import numpy as np\n",
    "train_sample = train_X[100:102]\n",
    "\n",
    "word_count = Counter(np.concatenate(train_sample, axis=0))\n",
    "\n",
    "\n",
    "sorted_words = sorted(word_count, key=word_count.get, reverse=True)\n",
    "\n",
    "word_dict = {} # This is what we are building, a dictionary that translates words into integers\n",
    "for idx, word in enumerate(sorted_words[:5000 - 2]): # The -2 is so that we save room for the 'no word'\n",
    "    word_dict[word] = idx + 2 \n"
   ]
  },
  {
   "cell_type": "code",
   "execution_count": 15,
   "metadata": {},
   "outputs": [],
   "source": [
    "from collections import Counter\n",
    "train_sample = train_X[100:102]\n",
    "word_count = Counter(np.concatenate(train_sample, axis=0))\n",
    "sorted_words = sorted(word_count, key=word_count.get, reverse=True)\n"
   ]
  },
  {
   "cell_type": "code",
   "execution_count": 16,
   "metadata": {},
   "outputs": [],
   "source": [
    "from collections import Counter\n",
    "import numpy as np\n",
    "\n",
    "def build_dict(data, vocab_size = 5000):\n",
    "    \"\"\"Construct and return a dictionary mapping each of the most frequently appearing words to a unique integer.\"\"\"\n",
    "    \n",
    "    # TODO: Determine how often each word appears in `data`. Note that `data` is a list of sentences and that a\n",
    "    #       sentence is a list of words.\n",
    "    \n",
    "    word_count = Counter(np.concatenate(data, axis=0))\n",
    "    \n",
    "    \n",
    "    sorted_words = sorted(word_count, key=word_count.get, reverse=True)\n",
    "\n",
    "    #Use sorted method and pass lambda function to device item\n",
    "    #sorted_words = sorted(word_count.items(), key=lambda item: (-item[1], item[0]))\n",
    "    #print(sorted_words[0:5])\n",
    "    word_dict = {} # This is what we are building, a dictionary that translates words into integers\n",
    "    for idx, word in enumerate(sorted_words[:vocab_size - 2]): # The -2 is so that we save room for the 'no word'\n",
    "        word_dict[word] = idx + 2                              # 'infrequent' labels\n",
    "        \n",
    "    return word_dict\n",
    "\n",
    "word_dict = build_dict(train_X)\n"
   ]
  },
  {
   "cell_type": "markdown",
   "metadata": {},
   "source": [
    "**Question:** What are the five most frequently appearing (tokenized) words in the training set? Does it makes sense that these words appear frequently in the training set?"
   ]
  },
  {
   "cell_type": "markdown",
   "metadata": {},
   "source": [
    "**Answer:**\n",
    "seem, pretti, especi, littl, almost\n",
    "It does appear that these appear to be adjective and/or adverbs which makes sense"
   ]
  },
  {
   "cell_type": "code",
   "execution_count": 18,
   "metadata": {},
   "outputs": [
    {
     "name": "stdout",
     "output_type": "stream",
     "text": [
      "[('movi', 2), ('film', 3), ('one', 4), ('like', 5), ('time', 6)]\n"
     ]
    }
   ],
   "source": [
    "# TODO: Use this space to determine the five most frequently appearing words in the training set.\n",
    "items = word_dict.items()\n",
    "print(list(items)[0:5])"
   ]
  },
  {
   "cell_type": "markdown",
   "metadata": {},
   "source": [
    "### Save `word_dict`\n",
    "\n",
    "Later on when we construct an endpoint which processes a submitted review we will need to make use of the `word_dict` which we have created. As such, we will save it to a file now for future use."
   ]
  },
  {
   "cell_type": "code",
   "execution_count": 19,
   "metadata": {},
   "outputs": [],
   "source": [
    "data_dir = '../data/pytorch' # The folder we will use for storing data\n",
    "if not os.path.exists(data_dir): # Make sure that the folder exists\n",
    "    os.makedirs(data_dir)"
   ]
  },
  {
   "cell_type": "code",
   "execution_count": 20,
   "metadata": {},
   "outputs": [],
   "source": [
    "with open(os.path.join(data_dir, 'word_dict.pkl'), \"wb\") as f:\n",
    "    pickle.dump(word_dict, f)"
   ]
  },
  {
   "cell_type": "code",
   "execution_count": 21,
   "metadata": {},
   "outputs": [
    {
     "name": "stdout",
     "output_type": "stream",
     "text": [
      "{'movi': 2, 'film': 3, 'one': 4, 'like': 5, 'time': 6, 'good': 7, 'make': 8, 'charact': 9, 'get': 10, 'see': 11, 'watch': 12, 'stori': 13, 'even': 14, 'would': 15, 'realli': 16, 'well': 17, 'scene': 18, 'look': 19, 'show': 20, 'much': 21, 'end': 22, 'peopl': 23, 'bad': 24, 'go': 25, 'great': 26, 'also': 27, 'first': 28, 'love': 29, 'think': 30, 'way': 31, 'act': 32, 'play': 33, 'made': 34, 'thing': 35, 'could': 36, 'know': 37, 'say': 38, 'seem': 39, 'work': 40, 'plot': 41, 'two': 42, 'actor': 43, 'year': 44, 'come': 45, 'mani': 46, 'seen': 47, 'take': 48, 'want': 49, 'life': 50, 'never': 51, 'littl': 52, 'best': 53, 'tri': 54, 'man': 55, 'ever': 56, 'give': 57, 'better': 58, 'still': 59, 'perform': 60, 'find': 61, 'feel': 62, 'part': 63, 'back': 64, 'use': 65, 'someth': 66, 'director': 67, 'actual': 68, 'interest': 69, 'lot': 70, 'real': 71, 'old': 72, 'cast': 73, 'though': 74, 'live': 75, 'star': 76, 'enjoy': 77, 'guy': 78, 'anoth': 79, 'new': 80, 'role': 81, 'noth': 82, '10': 83, 'funni': 84, 'music': 85, 'point': 86, 'start': 87, 'set': 88, 'girl': 89, 'origin': 90, 'day': 91, 'world': 92, 'everi': 93, 'believ': 94, 'turn': 95, 'quit': 96, 'us': 97, 'direct': 98, 'thought': 99, 'fact': 100, 'minut': 101, 'horror': 102, 'kill': 103, 'action': 104, 'comedi': 105, 'pretti': 106, 'young': 107, 'wonder': 108, 'happen': 109, 'around': 110, 'got': 111, 'effect': 112, 'right': 113, 'long': 114, 'howev': 115, 'big': 116, 'line': 117, 'famili': 118, 'enough': 119, 'seri': 120, 'may': 121, 'need': 122, 'fan': 123, 'bit': 124, 'script': 125, 'beauti': 126, 'person': 127, 'becom': 128, 'without': 129, 'must': 130, 'alway': 131, 'friend': 132, 'tell': 133, 'reason': 134, 'saw': 135, 'last': 136, 'final': 137, 'kid': 138, 'almost': 139, 'put': 140, 'least': 141, 'sure': 142, 'done': 143, 'whole': 144, 'place': 145, 'complet': 146, 'kind': 147, 'differ': 148, 'expect': 149, 'shot': 150, 'far': 151, 'mean': 152, 'anyth': 153, 'book': 154, 'laugh': 155, 'might': 156, 'name': 157, 'sinc': 158, 'begin': 159, '2': 160, 'probabl': 161, 'woman': 162, 'help': 163, 'entertain': 164, 'let': 165, 'screen': 166, 'call': 167, 'tv': 168, 'moment': 169, 'away': 170, 'read': 171, 'yet': 172, 'rather': 173, 'worst': 174, 'run': 175, 'fun': 176, 'lead': 177, 'hard': 178, 'audienc': 179, 'idea': 180, 'anyon': 181, 'episod': 182, 'american': 183, 'found': 184, 'appear': 185, 'bore': 186, 'especi': 187, 'although': 188, 'hope': 189, 'keep': 190, 'cours': 191, 'anim': 192, 'job': 193, 'goe': 194, 'move': 195, 'sens': 196, 'dvd': 197, 'version': 198, 'war': 199, 'money': 200, 'someon': 201, 'mind': 202, 'mayb': 203, 'problem': 204, 'true': 205, 'hous': 206, 'everyth': 207, 'nice': 208, 'second': 209, 'rate': 210, 'three': 211, 'night': 212, 'face': 213, 'follow': 214, 'recommend': 215, 'main': 216, 'product': 217, 'worth': 218, 'leav': 219, 'human': 220, 'special': 221, 'excel': 222, 'togeth': 223, 'wast': 224, 'sound': 225, 'everyon': 226, 'john': 227, 'hand': 228, '1': 229, 'father': 230, 'later': 231, 'eye': 232, 'said': 233, 'view': 234, 'instead': 235, 'review': 236, 'boy': 237, 'high': 238, 'hour': 239, 'miss': 240, 'talk': 241, 'classic': 242, 'wife': 243, 'understand': 244, 'left': 245, 'care': 246, 'black': 247, 'death': 248, 'open': 249, 'murder': 250, 'write': 251, 'half': 252, 'head': 253, 'rememb': 254, 'chang': 255, 'viewer': 256, 'fight': 257, 'gener': 258, 'surpris': 259, 'includ': 260, 'short': 261, 'die': 262, 'fall': 263, 'less': 264, 'els': 265, 'entir': 266, 'piec': 267, 'involv': 268, 'pictur': 269, 'simpli': 270, 'top': 271, 'power': 272, 'home': 273, 'total': 274, 'usual': 275, 'budget': 276, 'attempt': 277, 'suppos': 278, 'releas': 279, 'hollywood': 280, 'terribl': 281, 'song': 282, 'men': 283, 'possibl': 284, 'featur': 285, 'portray': 286, 'disappoint': 287, '3': 288, 'poor': 289, 'coupl': 290, 'stupid': 291, 'camera': 292, 'dead': 293, 'wrong': 294, 'produc': 295, 'low': 296, 'either': 297, 'video': 298, 'aw': 299, 'definit': 300, 'except': 301, 'rest': 302, 'given': 303, 'absolut': 304, 'women': 305, 'lack': 306, 'word': 307, 'writer': 308, 'titl': 309, 'talent': 310, 'decid': 311, 'full': 312, 'perfect': 313, 'along': 314, 'style': 315, 'close': 316, 'truli': 317, 'school': 318, 'save': 319, 'emot': 320, 'age': 321, 'sex': 322, 'next': 323, 'bring': 324, 'mr': 325, 'case': 326, 'killer': 327, 'heart': 328, 'comment': 329, 'sort': 330, 'creat': 331, 'perhap': 332, 'came': 333, 'brother': 334, 'sever': 335, 'joke': 336, 'art': 337, 'dialogu': 338, 'game': 339, 'small': 340, 'base': 341, 'flick': 342, 'written': 343, 'sequenc': 344, 'meet': 345, 'earli': 346, 'often': 347, 'other': 348, 'mother': 349, 'develop': 350, 'humor': 351, 'actress': 352, 'consid': 353, 'dark': 354, 'guess': 355, 'amaz': 356, 'unfortun': 357, 'lost': 358, 'light': 359, 'exampl': 360, 'cinema': 361, 'drama': 362, 'ye': 363, 'white': 364, 'experi': 365, 'imagin': 366, 'mention': 367, 'stop': 368, 'natur': 369, 'forc': 370, 'manag': 371, 'felt': 372, 'cut': 373, 'present': 374, 'children': 375, 'fail': 376, 'son': 377, 'support': 378, 'car': 379, 'qualiti': 380, 'ask': 381, 'hit': 382, 'side': 383, 'voic': 384, 'extrem': 385, 'impress': 386, 'wors': 387, 'evil': 388, 'went': 389, 'stand': 390, 'certainli': 391, 'basic': 392, 'oh': 393, 'overal': 394, 'favorit': 395, 'horribl': 396, 'mysteri': 397, 'number': 398, 'type': 399, 'danc': 400, 'wait': 401, 'hero': 402, '5': 403, 'alreadi': 404, 'learn': 405, 'matter': 406, '4': 407, 'michael': 408, 'genr': 409, 'fine': 410, 'despit': 411, 'throughout': 412, 'walk': 413, 'success': 414, 'histori': 415, 'question': 416, 'zombi': 417, 'town': 418, 'realiz': 419, 'relationship': 420, 'past': 421, 'child': 422, 'daughter': 423, 'late': 424, 'b': 425, 'wish': 426, 'credit': 427, 'hate': 428, 'event': 429, 'theme': 430, 'touch': 431, 'citi': 432, 'today': 433, 'sometim': 434, 'behind': 435, 'god': 436, 'twist': 437, 'sit': 438, 'deal': 439, 'annoy': 440, 'stay': 441, 'abl': 442, 'rent': 443, 'pleas': 444, 'edit': 445, 'blood': 446, 'deserv': 447, 'anyway': 448, 'comic': 449, 'appar': 450, 'soon': 451, 'gave': 452, 'etc': 453, 'level': 454, 'slow': 455, 'chanc': 456, 'score': 457, 'bodi': 458, 'brilliant': 459, 'incred': 460, 'figur': 461, 'situat': 462, 'major': 463, 'self': 464, 'stuff': 465, 'decent': 466, 'element': 467, 'dream': 468, 'return': 469, 'obvious': 470, 'order': 471, 'continu': 472, 'pace': 473, 'ridicul': 474, 'happi': 475, 'group': 476, 'add': 477, 'highli': 478, 'thank': 479, 'ladi': 480, 'novel': 481, 'pain': 482, 'speak': 483, 'career': 484, 'shoot': 485, 'strang': 486, 'heard': 487, 'sad': 488, 'husband': 489, 'polic': 490, 'import': 491, 'break': 492, 'took': 493, 'strong': 494, 'cannot': 495, 'predict': 496, 'robert': 497, 'violenc': 498, 'hilari': 499, 'recent': 500, 'countri': 501, 'known': 502, 'particularli': 503, 'pick': 504, 'documentari': 505, 'season': 506, 'critic': 507, 'jame': 508, 'compar': 509, 'obviou': 510, 'alon': 511, 'told': 512, 'state': 513, 'rock': 514, 'visual': 515, 'offer': 516, 'exist': 517, 'theater': 518, 'opinion': 519, 'gore': 520, 'hold': 521, 'crap': 522, 'result': 523, 'room': 524, 'hear': 525, 'realiti': 526, 'clich': 527, 'effort': 528, 'thriller': 529, 'caus': 530, 'explain': 531, 'serious': 532, 'sequel': 533, 'king': 534, 'local': 535, 'ago': 536, 'hell': 537, 'none': 538, 'note': 539, 'allow': 540, 'sister': 541, 'david': 542, 'simpl': 543, 'femal': 544, 'deliv': 545, 'ok': 546, 'convinc': 547, 'class': 548, 'check': 549, 'suspens': 550, 'win': 551, 'buy': 552, 'oscar': 553, 'huge': 554, 'valu': 555, 'sexual': 556, 'scari': 557, 'cool': 558, 'similar': 559, 'excit': 560, 'apart': 561, 'exactli': 562, 'provid': 563, 'avoid': 564, 'shown': 565, 'seriou': 566, 'english': 567, 'taken': 568, 'whose': 569, 'cinematographi': 570, 'shock': 571, 'polit': 572, 'spoiler': 573, 'offic': 574, 'across': 575, 'middl': 576, 'pass': 577, 'street': 578, 'messag': 579, 'somewhat': 580, 'silli': 581, 'charm': 582, 'modern': 583, 'filmmak': 584, 'confus': 585, 'form': 586, 'tale': 587, 'singl': 588, 'jack': 589, 'mostli': 590, 'william': 591, 'carri': 592, 'attent': 593, 'sing': 594, 'subject': 595, 'five': 596, 'richard': 597, 'prove': 598, 'team': 599, 'stage': 600, 'unlik': 601, 'cop': 602, 'georg': 603, 'televis': 604, 'monster': 605, 'earth': 606, 'villain': 607, 'cover': 608, 'pay': 609, 'marri': 610, 'toward': 611, 'build': 612, 'pull': 613, 'parent': 614, 'due': 615, 'fill': 616, 'respect': 617, 'four': 618, 'dialog': 619, 'remind': 620, 'futur': 621, 'weak': 622, 'typic': 623, '7': 624, 'cheap': 625, 'intellig': 626, 'british': 627, 'atmospher': 628, '80': 629, 'clearli': 630, 'paul': 631, 'non': 632, 'dog': 633, 'artist': 634, 'knew': 635, 'fast': 636, '8': 637, 'crime': 638, 'easili': 639, 'escap': 640, 'adult': 641, 'doubt': 642, 'detail': 643, 'date': 644, 'member': 645, 'fire': 646, 'romant': 647, 'drive': 648, 'gun': 649, 'straight': 650, 'fit': 651, 'beyond': 652, 'attack': 653, 'imag': 654, 'upon': 655, 'posit': 656, 'whether': 657, 'peter': 658, 'fantast': 659, 'aspect': 660, 'appreci': 661, 'captur': 662, 'ten': 663, 'plan': 664, 'discov': 665, 'remain': 666, 'near': 667, 'period': 668, 'realist': 669, 'air': 670, 'mark': 671, 'red': 672, 'dull': 673, 'adapt': 674, 'within': 675, 'spend': 676, 'lose': 677, 'color': 678, 'materi': 679, 'chase': 680, 'mari': 681, 'storylin': 682, 'forget': 683, 'bunch': 684, 'clear': 685, 'lee': 686, 'victim': 687, 'nearli': 688, 'box': 689, 'york': 690, 'match': 691, 'inspir': 692, 'mess': 693, 'finish': 694, 'standard': 695, 'easi': 696, 'truth': 697, 'busi': 698, 'suffer': 699, 'dramat': 700, 'space': 701, 'bill': 702, 'western': 703, 'e': 704, 'list': 705, 'battl': 706, 'notic': 707, 'de': 708, 'french': 709, 'ad': 710, '9': 711, 'tom': 712, 'larg': 713, 'among': 714, 'eventu': 715, 'accept': 716, 'train': 717, 'agre': 718, 'spirit': 719, 'soundtrack': 720, 'third': 721, 'teenag': 722, 'soldier': 723, 'adventur': 724, 'suggest': 725, 'famou': 726, 'drug': 727, 'sorri': 728, 'normal': 729, 'babi': 730, 'cri': 731, 'ultim': 732, 'troubl': 733, 'contain': 734, 'certain': 735, 'cultur': 736, 'romanc': 737, 'rare': 738, 'lame': 739, 'somehow': 740, 'mix': 741, 'disney': 742, 'gone': 743, 'cartoon': 744, 'student': 745, 'reveal': 746, 'fear': 747, 'kept': 748, 'suck': 749, 'attract': 750, 'appeal': 751, 'premis': 752, 'greatest': 753, 'secret': 754, 'design': 755, 'shame': 756, 'throw': 757, 'copi': 758, 'scare': 759, 'wit': 760, 'america': 761, 'admit': 762, 'brought': 763, 'particular': 764, 'relat': 765, 'screenplay': 766, 'whatev': 767, 'pure': 768, '70': 769, 'averag': 770, 'harri': 771, 'master': 772, 'describ': 773, 'treat': 774, 'male': 775, '20': 776, 'fantasi': 777, 'issu': 778, 'warn': 779, 'inde': 780, 'forward': 781, 'background': 782, 'project': 783, 'free': 784, 'japanes': 785, 'memor': 786, 'poorli': 787, 'award': 788, 'locat': 789, 'potenti': 790, 'amus': 791, 'struggl': 792, 'magic': 793, 'weird': 794, 'societi': 795, 'okay': 796, 'imdb': 797, 'doctor': 798, 'accent': 799, 'hot': 800, 'water': 801, 'express': 802, 'alien': 803, 'dr': 804, '30': 805, 'odd': 806, 'choic': 807, 'crazi': 808, 'fiction': 809, 'studio': 810, 'becam': 811, 'control': 812, 'masterpiec': 813, 'fli': 814, 'difficult': 815, 'joe': 816, 'scream': 817, 'costum': 818, 'lover': 819, 'refer': 820, 'uniqu': 821, 'remak': 822, 'girlfriend': 823, 'vampir': 824, 'prison': 825, 'execut': 826, 'wear': 827, 'jump': 828, 'wood': 829, 'unless': 830, 'creepi': 831, 'cheesi': 832, 'superb': 833, 'otherwis': 834, 'parti': 835, 'roll': 836, 'ghost': 837, 'public': 838, 'mad': 839, 'depict': 840, 'moral': 841, 'badli': 842, 'week': 843, 'earlier': 844, 'jane': 845, 'fi': 846, 'dumb': 847, 'flaw': 848, 'grow': 849, 'sci': 850, 'deep': 851, 'cat': 852, 'maker': 853, 'connect': 854, 'footag': 855, 'older': 856, 'bother': 857, 'plenti': 858, 'outsid': 859, 'stick': 860, 'gay': 861, 'catch': 862, 'plu': 863, 'co': 864, 'popular': 865, 'equal': 866, 'social': 867, 'quickli': 868, 'disturb': 869, 'perfectli': 870, 'dress': 871, 'era': 872, '90': 873, 'mistak': 874, 'lie': 875, 'previou': 876, 'ride': 877, 'combin': 878, 'concept': 879, 'band': 880, 'surviv': 881, 'answer': 882, 'rich': 883, 'front': 884, 'sweet': 885, 'christma': 886, 'insid': 887, 'concern': 888, 'bare': 889, 'eat': 890, 'listen': 891, 'ben': 892, 'beat': 893, 'c': 894, 'term': 895, 'serv': 896, 'la': 897, 'german': 898, 'meant': 899, 'hardli': 900, 'stereotyp': 901, 'innoc': 902, 'law': 903, 'desper': 904, 'promis': 905, 'memori': 906, 'intent': 907, 'cute': 908, 'inform': 909, 'steal': 910, 'variou': 911, 'brain': 912, 'post': 913, 'tone': 914, 'island': 915, 'amount': 916, 'compani': 917, 'nuditi': 918, 'track': 919, 'store': 920, 'claim': 921, 'flat': 922, '50': 923, 'hair': 924, 'univers': 925, 'land': 926, 'scott': 927, 'danger': 928, 'fairli': 929, 'kick': 930, 'player': 931, 'plain': 932, 'crew': 933, 'step': 934, 'toni': 935, 'share': 936, 'tast': 937, 'centuri': 938, 'engag': 939, 'achiev': 940, 'cold': 941, 'travel': 942, 'record': 943, 'suit': 944, 'rip': 945, 'sadli': 946, 'manner': 947, 'spot': 948, 'wrote': 949, 'tension': 950, 'fascin': 951, 'intens': 952, 'familiar': 953, 'burn': 954, 'depth': 955, 'remark': 956, 'destroy': 957, 'histor': 958, 'sleep': 959, 'purpos': 960, 'languag': 961, 'ruin': 962, 'ignor': 963, 'delight': 964, 'unbeliev': 965, 'italian': 966, 'soul': 967, 'collect': 968, 'abil': 969, 'clever': 970, 'detect': 971, 'violent': 972, 'rape': 973, 'reach': 974, 'door': 975, 'liter': 976, 'scienc': 977, 'trash': 978, 'caught': 979, 'reveng': 980, 'commun': 981, 'creatur': 982, 'trip': 983, 'approach': 984, 'intrigu': 985, 'fashion': 986, 'paint': 987, 'skill': 988, 'introduc': 989, 'complex': 990, 'channel': 991, 'camp': 992, 'christian': 993, 'extra': 994, 'hole': 995, 'mental': 996, 'limit': 997, 'immedi': 998, 'ann': 999, 'million': 1000, 'slightli': 1001, '6': 1002, 'mere': 1003, 'comput': 1004, 'conclus': 1005, 'slasher': 1006, 'imposs': 1007, 'suddenli': 1008, 'teen': 1009, 'neither': 1010, 'crimin': 1011, 'spent': 1012, 'nation': 1013, 'physic': 1014, 'respons': 1015, 'planet': 1016, 'receiv': 1017, 'fake': 1018, 'sick': 1019, 'blue': 1020, 'bizarr': 1021, 'embarrass': 1022, 'indian': 1023, '15': 1024, 'ring': 1025, 'drop': 1026, 'pop': 1027, 'drag': 1028, 'haunt': 1029, 'suspect': 1030, 'pointless': 1031, 'edg': 1032, 'search': 1033, 'handl': 1034, 'common': 1035, 'biggest': 1036, 'faith': 1037, 'hurt': 1038, 'arriv': 1039, 'technic': 1040, 'angel': 1041, 'dad': 1042, 'genuin': 1043, 'awesom': 1044, 'solid': 1045, 'f': 1046, 'colleg': 1047, 'focu': 1048, 'former': 1049, 'van': 1050, 'count': 1051, 'tear': 1052, 'heavi': 1053, 'rais': 1054, 'wall': 1055, 'visit': 1056, 'laughabl': 1057, 'younger': 1058, 'fair': 1059, 'excus': 1060, 'sign': 1061, 'cult': 1062, 'motion': 1063, 'key': 1064, 'tough': 1065, 'super': 1066, 'desir': 1067, 'stun': 1068, 'addit': 1069, 'cloth': 1070, 'exploit': 1071, 'smith': 1072, 'tortur': 1073, 'davi': 1074, 'race': 1075, 'author': 1076, 'cross': 1077, 'jim': 1078, 'focus': 1079, 'consist': 1080, 'compel': 1081, 'minor': 1082, 'pathet': 1083, 'chemistri': 1084, 'commit': 1085, 'park': 1086, 'obsess': 1087, 'tradit': 1088, 'frank': 1089, 'grade': 1090, 'asid': 1091, '60': 1092, 'brutal': 1093, 'steve': 1094, 'somewher': 1095, 'explor': 1096, 'rule': 1097, 'u': 1098, 'depress': 1099, 'opportun': 1100, 'grant': 1101, 'honest': 1102, 'besid': 1103, 'dub': 1104, 'anti': 1105, 'intend': 1106, 'trailer': 1107, 'bar': 1108, 'regard': 1109, 'longer': 1110, 'west': 1111, 'scientist': 1112, 'decad': 1113, 'judg': 1114, 'silent': 1115, 'creativ': 1116, 'armi': 1117, 'wild': 1118, 'south': 1119, 'stewart': 1120, 'g': 1121, 'draw': 1122, 'road': 1123, 'govern': 1124, 'boss': 1125, 'ex': 1126, 'practic': 1127, 'gang': 1128, 'surprisingli': 1129, 'festiv': 1130, 'motiv': 1131, 'club': 1132, 'green': 1133, 'redeem': 1134, 'london': 1135, 'page': 1136, 'display': 1137, 'militari': 1138, 'machin': 1139, 'idiot': 1140, 'aliv': 1141, 'thrill': 1142, 'repeat': 1143, '100': 1144, 'yeah': 1145, 'nobodi': 1146, 'folk': 1147, '40': 1148, 'journey': 1149, 'garbag': 1150, 'ground': 1151, 'smile': 1152, 'tire': 1153, 'mood': 1154, 'bought': 1155, 'cost': 1156, 'stone': 1157, 'sam': 1158, 'noir': 1159, 'mouth': 1160, 'agent': 1161, 'terrif': 1162, 'requir': 1163, 'utterli': 1164, 'honestli': 1165, 'area': 1166, 'sexi': 1167, 'geniu': 1168, 'report': 1169, 'glad': 1170, 'enter': 1171, 'investig': 1172, 'humour': 1173, 'serial': 1174, 'occasion': 1175, 'passion': 1176, 'narr': 1177, 'climax': 1178, 'marriag': 1179, 'industri': 1180, 'studi': 1181, 'ship': 1182, 'nowher': 1183, 'demon': 1184, 'center': 1185, 'charli': 1186, 'loos': 1187, 'hors': 1188, 'bear': 1189, 'wow': 1190, 'hang': 1191, 'graphic': 1192, 'admir': 1193, 'giant': 1194, 'send': 1195, 'loud': 1196, 'damn': 1197, 'rel': 1198, 'profession': 1199, 'subtl': 1200, 'nake': 1201, 'blow': 1202, 'bottom': 1203, 'insult': 1204, 'batman': 1205, 'doubl': 1206, 'boyfriend': 1207, 'r': 1208, 'kelli': 1209, 'initi': 1210, 'frame': 1211, 'gem': 1212, 'opera': 1213, 'drawn': 1214, 'cinemat': 1215, 'church': 1216, 'affect': 1217, 'challeng': 1218, 'evid': 1219, 'l': 1220, 'fulli': 1221, 'nightmar': 1222, 'seek': 1223, 'j': 1224, 'conflict': 1225, 'essenti': 1226, 'arm': 1227, 'wind': 1228, 'christoph': 1229, 'henri': 1230, 'grace': 1231, 'narrat': 1232, 'witch': 1233, 'assum': 1234, 'hunt': 1235, 'push': 1236, 'chri': 1237, 'wise': 1238, 'month': 1239, 'repres': 1240, 'nomin': 1241, 'avail': 1242, 'sceneri': 1243, 'hide': 1244, 'affair': 1245, 'thu': 1246, 'smart': 1247, 'justic': 1248, 'bond': 1249, 'outstand': 1250, 'flashback': 1251, 'interview': 1252, 'presenc': 1253, 'satisfi': 1254, 'constantli': 1255, 'central': 1256, 'bed': 1257, 'sell': 1258, 'iron': 1259, 'content': 1260, 'everybodi': 1261, 'gag': 1262, 'hotel': 1263, 'slowli': 1264, 'hire': 1265, 'system': 1266, 'adam': 1267, 'charl': 1268, 'individu': 1269, 'thrown': 1270, 'hey': 1271, 'mediocr': 1272, 'allen': 1273, 'jone': 1274, 'ray': 1275, 'lesson': 1276, 'billi': 1277, 'photographi': 1278, 'cameo': 1279, 'fellow': 1280, 'pari': 1281, 'strike': 1282, 'independ': 1283, 'absurd': 1284, 'brief': 1285, 'rise': 1286, 'neg': 1287, 'phone': 1288, 'impact': 1289, 'model': 1290, 'ill': 1291, 'born': 1292, 'fresh': 1293, 'spoil': 1294, 'angl': 1295, 'abus': 1296, 'likabl': 1297, 'hill': 1298, 'discuss': 1299, 'ahead': 1300, 'sight': 1301, 'photograph': 1302, 'sent': 1303, 'shine': 1304, 'blame': 1305, 'occur': 1306, 'logic': 1307, 'mainli': 1308, 'bruce': 1309, 'forev': 1310, 'commerci': 1311, 'skip': 1312, 'held': 1313, 'segment': 1314, 'teacher': 1315, 'surround': 1316, 'zero': 1317, 'blond': 1318, 'summer': 1319, 'trap': 1320, 'satir': 1321, 'resembl': 1322, 'queen': 1323, 'fool': 1324, 'ball': 1325, 'six': 1326, 'sub': 1327, 'twice': 1328, 'tragedi': 1329, 'pack': 1330, 'reaction': 1331, 'bomb': 1332, 'protagonist': 1333, 'will': 1334, 'hospit': 1335, 'sport': 1336, 'mile': 1337, 'vote': 1338, 'drink': 1339, 'trust': 1340, 'mom': 1341, 'jerri': 1342, 'encount': 1343, 'plane': 1344, 'station': 1345, 'program': 1346, 'al': 1347, 'current': 1348, 'martin': 1349, 'celebr': 1350, 'choos': 1351, 'join': 1352, 'field': 1353, 'round': 1354, 'favourit': 1355, 'tragic': 1356, 'lord': 1357, 'vision': 1358, 'robot': 1359, 'jean': 1360, 'tie': 1361, 'arthur': 1362, 'roger': 1363, 'fortun': 1364, 'random': 1365, 'psycholog': 1366, 'intern': 1367, 'dread': 1368, 'nonsens': 1369, 'prefer': 1370, 'improv': 1371, 'epic': 1372, 'highlight': 1373, 'legend': 1374, 'pleasur': 1375, 'formula': 1376, 'dollar': 1377, '11': 1378, 'tape': 1379, 'gorgeou': 1380, 'wide': 1381, 'thin': 1382, 'porn': 1383, 'object': 1384, 'fox': 1385, 'ugli': 1386, 'influenc': 1387, 'buddi': 1388, 'ii': 1389, 'nasti': 1390, 'prepar': 1391, 'supposedli': 1392, 'progress': 1393, 'reflect': 1394, 'warm': 1395, 'worthi': 1396, 'youth': 1397, 'unusu': 1398, 'latter': 1399, 'length': 1400, 'crash': 1401, 'seven': 1402, 'superior': 1403, 'shop': 1404, 'childhood': 1405, 'theatr': 1406, 'remot': 1407, 'paid': 1408, 'funniest': 1409, 'pilot': 1410, 'disgust': 1411, 'trick': 1412, 'fell': 1413, 'castl': 1414, 'convers': 1415, 'disast': 1416, 'gangster': 1417, 'rob': 1418, 'establish': 1419, 'ident': 1420, 'heaven': 1421, 'disappear': 1422, 'mine': 1423, 'suicid': 1424, 'singer': 1425, 'decis': 1426, 'forgotten': 1427, 'tend': 1428, 'mask': 1429, 'heroin': 1430, 'brian': 1431, 'partner': 1432, 'desert': 1433, 'recogn': 1434, 'alan': 1435, 'ms': 1436, 'p': 1437, 'thoroughli': 1438, 'sky': 1439, 'stuck': 1440, 'accur': 1441, 'replac': 1442, 'market': 1443, 'andi': 1444, 'eddi': 1445, 'clue': 1446, 'commentari': 1447, 'danni': 1448, 'uncl': 1449, 'seemingli': 1450, 'jackson': 1451, 'devil': 1452, 'that': 1453, 'therefor': 1454, 'refus': 1455, 'pair': 1456, 'ed': 1457, 'river': 1458, 'unit': 1459, 'accid': 1460, 'fault': 1461, 'fate': 1462, 'tune': 1463, 'afraid': 1464, 'hidden': 1465, 'clean': 1466, 'stephen': 1467, 'russian': 1468, 'convey': 1469, 'test': 1470, 'instanc': 1471, 'readi': 1472, 'irrit': 1473, 'quick': 1474, 'captain': 1475, 'european': 1476, 'daniel': 1477, 'insan': 1478, 'frustrat': 1479, 'chines': 1480, '1950': 1481, 'rescu': 1482, 'wed': 1483, 'food': 1484, 'dirti': 1485, 'lock': 1486, 'angri': 1487, 'joy': 1488, 'steven': 1489, 'price': 1490, 'bland': 1491, 'cage': 1492, 'anymor': 1493, 'rang': 1494, 'wooden': 1495, 'rush': 1496, 'jason': 1497, 'news': 1498, 'n': 1499, 'worri': 1500, 'led': 1501, '12': 1502, 'martial': 1503, 'twenti': 1504, 'board': 1505, 'hunter': 1506, 'symbol': 1507, 'cgi': 1508, 'transform': 1509, 'piti': 1510, 'onto': 1511, 'x': 1512, 'sentiment': 1513, 'invent': 1514, 'johnni': 1515, 'process': 1516, 'explan': 1517, 'attitud': 1518, 'owner': 1519, 'awar': 1520, 'aim': 1521, 'favor': 1522, 'target': 1523, 'energi': 1524, 'floor': 1525, 'necessari': 1526, 'opposit': 1527, 'religi': 1528, 'insight': 1529, 'blind': 1530, 'chick': 1531, 'window': 1532, 'movement': 1533, 'deepli': 1534, 'mountain': 1535, 'comparison': 1536, 'research': 1537, 'possess': 1538, 'grand': 1539, 'comed': 1540, 'rain': 1541, 'whatsoev': 1542, 'bank': 1543, 'mid': 1544, 'shadow': 1545, 'began': 1546, 'parodi': 1547, 'princ': 1548, 'friendship': 1549, 'pre': 1550, 'credibl': 1551, 'taylor': 1552, 'weapon': 1553, 'flesh': 1554, 'dougla': 1555, 'teach': 1556, 'terror': 1557, 'hint': 1558, 'bloodi': 1559, 'protect': 1560, 'marvel': 1561, 'accord': 1562, 'watchabl': 1563, 'load': 1564, 'drunk': 1565, 'leader': 1566, 'anybodi': 1567, 'superman': 1568, 'brown': 1569, 'freddi': 1570, 'seat': 1571, 'jeff': 1572, 'appropri': 1573, 'hitler': 1574, 'tim': 1575, 'charg': 1576, 'keaton': 1577, 'unknown': 1578, 'knock': 1579, 'villag': 1580, 'empti': 1581, 'enemi': 1582, 'media': 1583, 'unnecessari': 1584, 'england': 1585, 'dare': 1586, 'buck': 1587, 'wave': 1588, 'craft': 1589, 'perspect': 1590, 'utter': 1591, 'strength': 1592, 'kiss': 1593, 'correct': 1594, 'contrast': 1595, 'nativ': 1596, 'ford': 1597, 'knowledg': 1598, 'speed': 1599, 'distract': 1600, 'chill': 1601, 'nazi': 1602, 'soap': 1603, 'anywher': 1604, 'magnific': 1605, 'ice': 1606, 'breath': 1607, '1980': 1608, 'fred': 1609, 'mission': 1610, 'crowd': 1611, 'moon': 1612, 'joan': 1613, 'jr': 1614, '000': 1615, 'soft': 1616, 'kate': 1617, 'frighten': 1618, 'dick': 1619, 'dan': 1620, 'nick': 1621, 'hundr': 1622, 'radio': 1623, 'dozen': 1624, 'somebodi': 1625, 'simon': 1626, 'loss': 1627, 'shakespear': 1628, 'andrew': 1629, 'thousand': 1630, 'academi': 1631, 'account': 1632, 'quot': 1633, 'sum': 1634, 'root': 1635, 'vehicl': 1636, '1970': 1637, 'behavior': 1638, 'convent': 1639, 'leg': 1640, 'gold': 1641, 'regular': 1642, 'worker': 1643, 'demand': 1644, 'compet': 1645, 'pretenti': 1646, 'notabl': 1647, 'explos': 1648, 'lynch': 1649, 'interpret': 1650, 'japan': 1651, 'stretch': 1652, 'privat': 1653, 'candi': 1654, 'debut': 1655, 'constant': 1656, 'tarzan': 1657, 'prais': 1658, 'revolv': 1659, 'sea': 1660, 'translat': 1661, 'spi': 1662, 'franc': 1663, 'sat': 1664, 'quiet': 1665, 'ass': 1666, 'jesu': 1667, 'technolog': 1668, 'failur': 1669, 'threaten': 1670, 'higher': 1671, 'aid': 1672, 'kevin': 1673, 'punch': 1674, 'toy': 1675, 'met': 1676, 'abandon': 1677, 'interact': 1678, 'vh': 1679, 'mike': 1680, 'bet': 1681, 'confront': 1682, 'separ': 1683, 'command': 1684, 'site': 1685, 'recal': 1686, 'gotten': 1687, 'stunt': 1688, 'servic': 1689, 'techniqu': 1690, 'belong': 1691, 'cabl': 1692, 'freak': 1693, 'foot': 1694, 'bug': 1695, 'bright': 1696, 'african': 1697, 'fu': 1698, 'jimmi': 1699, 'capabl': 1700, 'stock': 1701, 'succeed': 1702, 'fat': 1703, 'clark': 1704, 'boat': 1705, 'presid': 1706, 'gene': 1707, 'structur': 1708, 'spanish': 1709, 'kidnap': 1710, 'paper': 1711, 'belief': 1712, 'factor': 1713, 'whilst': 1714, 'witti': 1715, 'complic': 1716, 'realis': 1717, 'tree': 1718, 'bob': 1719, 'educ': 1720, 'realism': 1721, 'attend': 1722, 'assist': 1723, 'broken': 1724, 'finest': 1725, 'santa': 1726, 'determin': 1727, 'observ': 1728, 'depart': 1729, 'smoke': 1730, 'v': 1731, 'up': 1732, 'rubbish': 1733, 'fame': 1734, 'routin': 1735, 'oper': 1736, 'hat': 1737, 'domin': 1738, 'lewi': 1739, 'hook': 1740, 'morgan': 1741, 'foreign': 1742, 'safe': 1743, 'kinda': 1744, 'advanc': 1745, 'lone': 1746, 'rank': 1747, 'numer': 1748, 'shallow': 1749, 'shape': 1750, 'civil': 1751, 'vs': 1752, 'werewolf': 1753, 'rose': 1754, 'washington': 1755, 'gari': 1756, 'morn': 1757, 'kong': 1758, 'ordinari': 1759, 'accomplish': 1760, 'winner': 1761, 'peac': 1762, 'grab': 1763, 'virtual': 1764, 'whenev': 1765, 'luck': 1766, 'offens': 1767, 'h': 1768, 'activ': 1769, 'unfunni': 1770, 'complain': 1771, 'bigger': 1772, 'contriv': 1773, 'patient': 1774, 'welcom': 1775, 'dimension': 1776, 'pretend': 1777, 'con': 1778, 'trek': 1779, 'wake': 1780, 'lesbian': 1781, 'flash': 1782, 'dri': 1783, 'eric': 1784, 'code': 1785, 'cain': 1786, 'guard': 1787, 'corrupt': 1788, 'manipul': 1789, 'statu': 1790, 'dancer': 1791, 'albert': 1792, 'speech': 1793, 'context': 1794, 'gain': 1795, 'awkward': 1796, 'sourc': 1797, 'signific': 1798, 'clip': 1799, 'psycho': 1800, 'corni': 1801, 'sean': 1802, '13': 1803, 'anthoni': 1804, 'w': 1805, 'priest': 1806, 'religion': 1807, 'theatric': 1808, 'reli': 1809, 'curiou': 1810, 'advic': 1811, 'addict': 1812, 'flow': 1813, 'secur': 1814, 'specif': 1815, 'asian': 1816, 'howard': 1817, 'skin': 1818, 'jennif': 1819, 'organ': 1820, 'promot': 1821, 'golden': 1822, 'luke': 1823, 'comfort': 1824, 'core': 1825, 'cheat': 1826, 'lucki': 1827, 'cash': 1828, 'dislik': 1829, 'lower': 1830, 'associ': 1831, 'frankli': 1832, 'wing': 1833, 'degre': 1834, 'frequent': 1835, 'contribut': 1836, 'devic': 1837, 'spell': 1838, 'balanc': 1839, 'regret': 1840, 'lake': 1841, 'print': 1842, 'forgiv': 1843, 'sake': 1844, 'thoma': 1845, 'mass': 1846, 'betti': 1847, 'unexpect': 1848, 'gordon': 1849, 'crack': 1850, 'grown': 1851, 'amateur': 1852, 'depend': 1853, 'unfold': 1854, 'categori': 1855, 'construct': 1856, 'invit': 1857, 'matur': 1858, 'intellectu': 1859, 'condit': 1860, 'honor': 1861, 'grew': 1862, 'walter': 1863, 'anna': 1864, 'spectacular': 1865, 'veteran': 1866, 'mirror': 1867, 'sudden': 1868, 'sole': 1869, 'overli': 1870, 'liner': 1871, 'demonstr': 1872, 'experienc': 1873, 'robin': 1874, 'card': 1875, 'meanwhil': 1876, 'freedom': 1877, 'grip': 1878, 'gift': 1879, 'theori': 1880, 'oliv': 1881, 'colour': 1882, 'circumst': 1883, 'crappi': 1884, 'unabl': 1885, 'subtitl': 1886, 'sheriff': 1887, 'section': 1888, 'brilliantli': 1889, 'drew': 1890, 'pile': 1891, 'cook': 1892, 'path': 1893, 'altern': 1894, 'laughter': 1895, 'matt': 1896, 'sheer': 1897, 'parker': 1898, 'accident': 1899, 'hall': 1900, 'treatment': 1901, 'wander': 1902, 'defin': 1903, 'sinatra': 1904, 'lawyer': 1905, 'relief': 1906, 'dragon': 1907, 'captiv': 1908, 'hank': 1909, 'halloween': 1910, 'gratuit': 1911, 'moor': 1912, 'unintent': 1913, 'wound': 1914, 'jacki': 1915, 'kung': 1916, 'broadway': 1917, 'k': 1918, 'cowboy': 1919, 'barbara': 1920, 'wayn': 1921, 'canadian': 1922, 'winter': 1923, 'surreal': 1924, 'statement': 1925, 'spoof': 1926, 'treasur': 1927, 'cheer': 1928, 'fare': 1929, 'gonna': 1930, 'fish': 1931, 'compos': 1932, 'unrealist': 1933, 'sensit': 1934, 'woodi': 1935, 'victor': 1936, 'emerg': 1937, 'ran': 1938, 'sympathet': 1939, 'driven': 1940, 'neighbor': 1941, 'expos': 1942, 'overlook': 1943, 'glass': 1944, 'topic': 1945, 'authent': 1946, 'menac': 1947, 'chief': 1948, 'handsom': 1949, 'gross': 1950, 'ancient': 1951, 'michel': 1952, 'network': 1953, 'built': 1954, 'nevertheless': 1955, 'stranger': 1956, 'contemporari': 1957, 'pleasant': 1958, 'feet': 1959, 'russel': 1960, 'comedian': 1961, 'cinderella': 1962, 'underr': 1963, 'consider': 1964, 'earn': 1965, 'miser': 1966, 'endless': 1967, 'gori': 1968, 'blockbust': 1969, 'letter': 1970, 'brook': 1971, 'switch': 1972, 'solv': 1973, 'joseph': 1974, 'virgin': 1975, 'edward': 1976, 'bullet': 1977, 'victoria': 1978, 'convict': 1979, 'scenario': 1980, 'cynic': 1981, '0': 1982, 'chosen': 1983, 'alex': 1984, 'scale': 1985, 'curs': 1986, 'gut': 1987, 'com': 1988, 'outrag': 1989, 'sword': 1990, 'uk': 1991, 'monkey': 1992, 'screenwrit': 1993, 'juli': 1994, 'wrap': 1995, 'driver': 1996, 'substanc': 1997, 'proper': 1998, 'par': 1999, 'court': 2000, 'remov': 2001, 'bird': 2002, 'indic': 2003, 'loser': 2004, 'nanci': 2005, 'consequ': 2006, 'rental': 2007, 'advertis': 2008, 'naiv': 2009, 'inevit': 2010, 'roy': 2011, 'grave': 2012, 'fatal': 2013, 'brave': 2014, 'le': 2015, 'slap': 2016, 'germani': 2017, 'invis': 2018, 'bridg': 2019, 'provok': 2020, 'ador': 2021, 'anger': 2022, 'loui': 2023, 'footbal': 2024, 'chan': 2025, 'anderson': 2026, 'alcohol': 2027, 'professor': 2028, 'ryan': 2029, 'stumbl': 2030, 'willi': 2031, 'assassin': 2032, '1930': 2033, 'sharp': 2034, 'patrick': 2035, 'australian': 2036, 'bat': 2037, 'deni': 2038, 'cell': 2039, 'liber': 2040, 'strongli': 2041, 'refresh': 2042, 'lousi': 2043, 'heck': 2044, 'trilog': 2045, 'eight': 2046, 'amateurish': 2047, 'ape': 2048, 'saturday': 2049, 'sin': 2050, 'vagu': 2051, 'san': 2052, 'justifi': 2053, 'resid': 2054, 'indi': 2055, 'terrifi': 2056, 'creator': 2057, 'reput': 2058, 'defeat': 2059, 'sympathi': 2060, 'mini': 2061, 'tabl': 2062, 'expert': 2063, 'tediou': 2064, 'prevent': 2065, 'endur': 2066, 'task': 2067, 'trial': 2068, 'imit': 2069, 'offend': 2070, 'basebal': 2071, 'rival': 2072, 'employ': 2073, 'che': 2074, 'weekend': 2075, 'max': 2076, 'europ': 2077, 'pitch': 2078, 'beach': 2079, 'dig': 2080, 'complaint': 2081, 'fairi': 2082, 'murphi': 2083, 'format': 2084, 'risk': 2085, 'purchas': 2086, 'powel': 2087, 'glimps': 2088, 'reminisc': 2089, 'nois': 2090, 'harsh': 2091, 'bite': 2092, 'tini': 2093, 'hype': 2094, 'titan': 2095, 'till': 2096, 'prime': 2097, 'strip': 2098, '14': 2099, 'asleep': 2100, 'fals': 2101, 'north': 2102, 'descript': 2103, 'revel': 2104, 'africa': 2105, 'texa': 2106, 'destruct': 2107, 'uninterest': 2108, 'semi': 2109, 'surfac': 2110, 'excess': 2111, 'arrest': 2112, 'inner': 2113, 'spin': 2114, 'sitcom': 2115, 'maintain': 2116, 'twin': 2117, 'massiv': 2118, 'makeup': 2119, 'argu': 2120, 'controversi': 2121, 'hitchcock': 2122, 'dinosaur': 2123, 'melodrama': 2124, 'ludicr': 2125, 'kim': 2126, 'insist': 2127, 'expens': 2128, 'ideal': 2129, 'stare': 2130, 'reject': 2131, 'press': 2132, 'supernatur': 2133, 'ga': 2134, 'nail': 2135, 'erot': 2136, 'atroci': 2137, 'ala': 2138, 'forest': 2139, 'columbo': 2140, 'host': 2141, 'subplot': 2142, 'dude': 2143, 'notch': 2144, 'cant': 2145, 'presum': 2146, 'identifi': 2147, 'closer': 2148, 'character': 2149, 'plagu': 2150, 'forgett': 2151, 'method': 2152, 'guest': 2153, 'crude': 2154, 'ear': 2155, 'border': 2156, 'lion': 2157, 'landscap': 2158, 'beast': 2159, 'princess': 2160, 'foster': 2161, 'aunt': 2162, 'storytel': 2163, 'bound': 2164, 'jungl': 2165, 'damag': 2166, 'pacino': 2167, 'accus': 2168, 'previous': 2169, 'urban': 2170, 'birth': 2171, 'guid': 2172, 'jess': 2173, 'propaganda': 2174, 'chose': 2175, 'thirti': 2176, 'doll': 2177, 'emma': 2178, 'nude': 2179, '25': 2180, 'warrior': 2181, 'whoever': 2182, 'mainstream': 2183, 'pet': 2184, 'mate': 2185, 'upset': 2186, 'size': 2187, 'merit': 2188, 'cooper': 2189, 'poster': 2190, 'gritti': 2191, 'friday': 2192, 'latest': 2193, 'exact': 2194, 'deadli': 2195, 'rough': 2196, 'wilson': 2197, 'contest': 2198, 'contact': 2199, 'sun': 2200, 'citizen': 2201, 'buff': 2202, 'settl': 2203, 'corps': 2204, 'ton': 2205, '1990': 2206, 'popul': 2207, 'blend': 2208, 'warner': 2209, 'mgm': 2210, 'select': 2211, 'overcom': 2212, 'environ': 2213, 'bu': 2214, 'metal': 2215, 'widow': 2216, 'alic': 2217, 'pitt': 2218, 'rat': 2219, 'revolut': 2220, 'link': 2221, 'ted': 2222, 'particip': 2223, 'guilti': 2224, 'lift': 2225, 'matrix': 2226, 'afternoon': 2227, '1960': 2228, 'corner': 2229, 'exagger': 2230, 'prostitut': 2231, 'corpor': 2232, 'accompani': 2233, 'johnson': 2234, 'moron': 2235, 'multipl': 2236, 'instal': 2237, 'doom': 2238, 'sincer': 2239, 'leagu': 2240, 'holm': 2241, 'hood': 2242, 'friendli': 2243, 'clair': 2244, 'hip': 2245, 'junk': 2246, 'blah': 2247, 'campi': 2248, 'irish': 2249, 'aka': 2250, 'lugosi': 2251, 'examin': 2252, 'string': 2253, 'advis': 2254, 'defend': 2255, 'grim': 2256, 'sunday': 2257, 'shut': 2258, 'rachel': 2259, 'shake': 2260, 'varieti': 2261, 'tight': 2262, 'confid': 2263, 'icon': 2264, 'pro': 2265, 'directli': 2266, 'attach': 2267, 'denni': 2268, 'mexican': 2269, 'medic': 2270, 'sullivan': 2271, 'goal': 2272, 'jaw': 2273, 'dean': 2274, 'terrorist': 2275, 'courag': 2276, 'sentenc': 2277, 'breast': 2278, 'truck': 2279, 'prior': 2280, 'vietnam': 2281, 'legendari': 2282, 'sarah': 2283, 'duke': 2284, 'bourn': 2285, 'proceed': 2286, 'behav': 2287, 'nose': 2288, 'hong': 2289, 'entri': 2290, 'donald': 2291, 'yell': 2292, 'split': 2293, 'un': 2294, 'jerk': 2295, 'everywher': 2296, 'forth': 2297, 'gather': 2298, 'crush': 2299, 'swim': 2300, 'borrow': 2301, 'stolen': 2302, 'confess': 2303, 'unconvinc': 2304, 'concentr': 2305, 'buri': 2306, 'lifetim': 2307, 'pan': 2308, 'spite': 2309, 'turkey': 2310, 'california': 2311, 'lip': 2312, 'julia': 2313, 'deliveri': 2314, 'reward': 2315, 'freeman': 2316, 'flight': 2317, 'proud': 2318, 'offici': 2319, 'china': 2320, 'hoffman': 2321, 'quest': 2322, 'downright': 2323, 'sink': 2324, 'lazi': 2325, 'jon': 2326, 'encourag': 2327, 'worthwhil': 2328, 'inept': 2329, 'fabul': 2330, 'betray': 2331, 'fade': 2332, 'jail': 2333, 'notori': 2334, 'sir': 2335, 'lisa': 2336, 'cousin': 2337, 'survivor': 2338, 'bell': 2339, 'storm': 2340, 'retard': 2341, 'imageri': 2342, 'shower': 2343, 'relev': 2344, 'bag': 2345, 'susan': 2346, 'teeth': 2347, 'branagh': 2348, 'finger': 2349, 'facial': 2350, 'tremend': 2351, 'stab': 2352, 'quirki': 2353, 'alright': 2354, 'toler': 2355, 'mexico': 2356, 'shark': 2357, 'hugh': 2358, 'bride': 2359, 'trade': 2360, 'summari': 2361, 'bitter': 2362, 'hyster': 2363, 'von': 2364, 'pose': 2365, 'ha': 2366, 'blown': 2367, 'cruel': 2368, 'bone': 2369, 'ron': 2370, 'larri': 2371, 'afterward': 2372, 'scheme': 2373, 'address': 2374, 'christ': 2375, 'ned': 2376, 'thumb': 2377, 'swear': 2378, 'beg': 2379, 'feed': 2380, 'traci': 2381, 'pursu': 2382, 'snake': 2383, 'distinct': 2384, 'tour': 2385, 'screw': 2386, 'stomach': 2387, 'mechan': 2388, 'raw': 2389, 'obscur': 2390, 'photo': 2391, 'chair': 2392, 'occas': 2393, 'resist': 2394, 'render': 2395, 'holiday': 2396, 'necessarili': 2397, 'sidney': 2398, 'southern': 2399, 'gruesom': 2400, 'heavili': 2401, 'argument': 2402, 'hardi': 2403, 'chain': 2404, 'cabin': 2405, 'indulg': 2406, 'india': 2407, 'satan': 2408, 'understood': 2409, 'racist': 2410, 'philip': 2411, 'forgot': 2412, 'fourth': 2413, 'tongu': 2414, 'midnight': 2415, 'integr': 2416, 'belov': 2417, 'stalk': 2418, 'pregnant': 2419, 'outfit': 2420, 'lay': 2421, 'obnoxi': 2422, 'slapstick': 2423, '17': 2424, 'restor': 2425, 'garden': 2426, 'magazin': 2427, 'ticket': 2428, 'carol': 2429, 'inhabit': 2430, 'deeper': 2431, 'devot': 2432, 'incid': 2433, 'shoe': 2434, 'brad': 2435, 'lincoln': 2436, 'guarante': 2437, 'disbelief': 2438, 'underground': 2439, 'divorc': 2440, 'sandler': 2441, 'benefit': 2442, 'lili': 2443, 'anticip': 2444, 'elizabeth': 2445, 'maria': 2446, 'bbc': 2447, 'mildli': 2448, 'capit': 2449, 'slave': 2450, 'creation': 2451, 'cring': 2452, 'greater': 2453, 'princip': 2454, 'explod': 2455, 'amazingli': 2456, 'introduct': 2457, 'lesli': 2458, 'funnier': 2459, 'halfway': 2460, 'extraordinari': 2461, 'wreck': 2462, 'text': 2463, 'advantag': 2464, 'enhanc': 2465, 'punish': 2466, 'overwhelm': 2467, 'tap': 2468, 'extent': 2469, 'transfer': 2470, 'error': 2471, 'preview': 2472, 'lo': 2473, 'lane': 2474, 'east': 2475, 'horrif': 2476, 'plant': 2477, 'dynam': 2478, 'deliber': 2479, 'jessica': 2480, '2000': 2481, 'homosexu': 2482, 'basi': 2483, 'miller': 2484, 'vacat': 2485, 'appli': 2486, 'sophist': 2487, 'vincent': 2488, 'miscast': 2489, 'ensu': 2490, 'reed': 2491, 'via': 2492, 'mansion': 2493, 'steel': 2494, 'measur': 2495, 'sleazi': 2496, 'bollywood': 2497, 'uncomfort': 2498, 'elev': 2499, 'spoken': 2500, 'extend': 2501, 'savag': 2502, 'breathtak': 2503, 'melt': 2504, 'cathol': 2505, 'dentist': 2506, 'beer': 2507, 'blair': 2508, 'assign': 2509, 'fix': 2510, 'hippi': 2511, 'conceiv': 2512, 'stanley': 2513, 'daili': 2514, 'mous': 2515, 'goofi': 2516, 'overact': 2517, 'alter': 2518, 'properli': 2519, 'inspector': 2520, 'subsequ': 2521, 'nowaday': 2522, 'everyday': 2523, 'succe': 2524, 'sacrific': 2525, 'burt': 2526, 'carpent': 2527, 'oppos': 2528, 'laura': 2529, 'circl': 2530, 'massacr': 2531, 'block': 2532, 'neck': 2533, 'fay': 2534, 'fallen': 2535, 'christi': 2536, 'pool': 2537, 'mob': 2538, 'access': 2539, 'concert': 2540, 'portrait': 2541, 'lesser': 2542, 'seagal': 2543, 'grey': 2544, 'isol': 2545, 'sinist': 2546, 'relax': 2547, 'react': 2548, 'competit': 2549, 'usa': 2550, 'jake': 2551, 'chees': 2552, 'jewish': 2553, 'chop': 2554, 'suitabl': 2555, 'spiritu': 2556, 'creep': 2557, 'stink': 2558, '2006': 2559, 'lyric': 2560, 'nonetheless': 2561, 'ironi': 2562, 'appal': 2563, 'nine': 2564, 'immens': 2565, 'navi': 2566, 'shirt': 2567, 'retir': 2568, 'franchis': 2569, 'luci': 2570, 'sold': 2571, 'user': 2572, 'needless': 2573, 'rage': 2574, 'showcas': 2575, 'reduc': 2576, 'nut': 2577, 'spring': 2578, 'adopt': 2579, 'bath': 2580, 'digit': 2581, 'bulli': 2582, 'per': 2583, 'asham': 2584, 'uninspir': 2585, 'stanwyck': 2586, 'jay': 2587, 'zone': 2588, 'nurs': 2589, 'broadcast': 2590, 'illustr': 2591, 'laid': 2592, 'sutherland': 2593, '2001': 2594, '1940': 2595, 'upper': 2596, 'oddli': 2597, 'amongst': 2598, 'stylish': 2599, 'baker': 2600, 'throat': 2601, 'aspir': 2602, 'fulfil': 2603, 'disguis': 2604, 'brando': 2605, 'em': 2606, 'neighborhood': 2607, 'wwii': 2608, 'wanna': 2609, 'thief': 2610, '18': 2611, 'pound': 2612, 'endear': 2613, 'impli': 2614, 'pride': 2615, 'nobl': 2616, 'shift': 2617, 'shoulder': 2618, 'diseas': 2619, 'dawn': 2620, 'coher': 2621, 'dinner': 2622, 'rochest': 2623, 'tens': 2624, 'bo': 2625, 'prop': 2626, 'distribut': 2627, 'albeit': 2628, 'cinematograph': 2629, '16': 2630, 'bett': 2631, 'shout': 2632, 'poignant': 2633, 'function': 2634, 'contract': 2635, 'forti': 2636, 'snow': 2637, 'silenc': 2638, 'rebel': 2639, 'knife': 2640, 'wash': 2641, 'matthau': 2642, 'surf': 2643, 'silver': 2644, 'chuck': 2645, 'internet': 2646, 'cancel': 2647, 'instinct': 2648, 'duti': 2649, 'proof': 2650, 'horrend': 2651, 'heat': 2652, 'cannib': 2653, 'mindless': 2654, 'derek': 2655, 'elvira': 2656, 'eeri': 2657, 'widmark': 2658, 'henc': 2659, 'height': 2660, 'reunion': 2661, 'absorb': 2662, 'premier': 2663, 'elvi': 2664, 'incoher': 2665, 'etern': 2666, 'torn': 2667, 'neat': 2668, 'musician': 2669, 'innov': 2670, 'pie': 2671, 'mill': 2672, 'alik': 2673, 'glori': 2674, 'greatli': 2675, 'repetit': 2676, 'spielberg': 2677, 'announc': 2678, 'precis': 2679, 'nelson': 2680, 'trite': 2681, 'racism': 2682, 'bang': 2683, 'wealthi': 2684, 'infam': 2685, 'fbi': 2686, 'homag': 2687, 'horrifi': 2688, 'crisi': 2689, 'burton': 2690, 'itali': 2691, 'redempt': 2692, 'diamond': 2693, 'lovabl': 2694, 'britain': 2695, 'blank': 2696, 'dedic': 2697, 'streisand': 2698, 'resolut': 2699, 'hammer': 2700, 'helen': 2701, 'ensembl': 2702, 'happili': 2703, 'flop': 2704, 'wilder': 2705, 'chaplin': 2706, 'parallel': 2707, 'pat': 2708, 'factori': 2709, 'broke': 2710, 'triumph': 2711, 'mar': 2712, 'disagre': 2713, 'conclud': 2714, 'plastic': 2715, 'oil': 2716, 'carter': 2717, 'cube': 2718, 'st': 2719, 'fighter': 2720, 'row': 2721, 'chuckl': 2722, 'rocket': 2723, 'climb': 2724, 'bush': 2725, 'weight': 2726, 'vega': 2727, 'own': 2728, 'march': 2729, 'thug': 2730, 'wherea': 2731, 'dump': 2732, 'luca': 2733, 'lust': 2734, 'sensibl': 2735, 'spare': 2736, 'mst3k': 2737, 'meaning': 2738, 'enorm': 2739, 'kurt': 2740, 'boot': 2741, 'unforgett': 2742, 'dane': 2743, 'difficulti': 2744, 'fifti': 2745, 'adequ': 2746, 'karloff': 2747, 'brand': 2748, 'arnold': 2749, 'rap': 2750, 'dear': 2751, 'stress': 2752, 'engin': 2753, 'threat': 2754, 'butt': 2755, 'caricatur': 2756, 'bobbi': 2757, 'elabor': 2758, 'swing': 2759, 'ego': 2760, 'arrog': 2761, 'barri': 2762, 'fest': 2763, 'polish': 2764, 'ralph': 2765, 'homeless': 2766, 'journalist': 2767, 'flynn': 2768, 'hamlet': 2769, 'secretari': 2770, 'resort': 2771, 'conspiraci': 2772, 'induc': 2773, 'grate': 2774, 'float': 2775, 'arrang': 2776, 'fanci': 2777, 'puppet': 2778, 'spike': 2779, 'simpson': 2780, 'tool': 2781, 'unbear': 2782, 'cruis': 2783, 'exercis': 2784, 'choreograph': 2785, 'basement': 2786, 'muppet': 2787, 'boll': 2788, 'phillip': 2789, 'guilt': 2790, 'pig': 2791, 'tribut': 2792, 'korean': 2793, 'item': 2794, 'babe': 2795, 'toilet': 2796, '24': 2797, 'tower': 2798, 'fianc': 2799, 'medium': 2800, 'document': 2801, 'ham': 2802, 'stan': 2803, 'puzzl': 2804, 'layer': 2805, 'slip': 2806, 'file': 2807, 'ward': 2808, 'editor': 2809, 'scarecrow': 2810, 'superfici': 2811, 'orient': 2812, 'slaughter': 2813, 'minim': 2814, 'catherin': 2815, 'transit': 2816, 'librari': 2817, 'assur': 2818, 'philosoph': 2819, 'doc': 2820, 'portion': 2821, 'spark': 2822, 'larger': 2823, 'territori': 2824, 'denzel': 2825, 'persona': 2826, 'inexplic': 2827, 'glover': 2828, 'walken': 2829, 'ban': 2830, 'owe': 2831, 'boredom': 2832, 'jeremi': 2833, 'wolf': 2834, 'sneak': 2835, 'curti': 2836, 'shi': 2837, 'financi': 2838, 'dorothi': 2839, 'jet': 2840, 'pg': 2841, 'ambigu': 2842, 'profound': 2843, 'metaphor': 2844, 'backdrop': 2845, 'multi': 2846, 'eleph': 2847, 'hudson': 2848, 'cusack': 2849, 'whale': 2850, 'stiff': 2851, 'ultra': 2852, '2005': 2853, 'birthday': 2854, 'notion': 2855, 'elsewher': 2856, 'gadget': 2857, 'hack': 2858, 'union': 2859, 'implaus': 2860, 'viru': 2861, 'rave': 2862, 'newspap': 2863, 'deriv': 2864, 'disc': 2865, 'reader': 2866, 'hawk': 2867, 'urg': 2868, 'distanc': 2869, 'poison': 2870, '1st': 2871, 'superhero': 2872, 'slight': 2873, 'pad': 2874, 'bibl': 2875, 'eastwood': 2876, 'eva': 2877, 'lloyd': 2878, 'squar': 2879, 'canada': 2880, 'afford': 2881, 'cure': 2882, 'button': 2883, 'essenc': 2884, 'restaur': 2885, 'huh': 2886, 'montag': 2887, 'sadist': 2888, 'skit': 2889, 'spread': 2890, 'health': 2891, 'charisma': 2892, 'drown': 2893, 'heston': 2894, 'lab': 2895, 'peak': 2896, 'dealt': 2897, 'fetch': 2898, 'gradual': 2899, 'muslim': 2900, 'invest': 2901, 'maniac': 2902, 'scoobi': 2903, 'estat': 2904, 'godfath': 2905, 'companion': 2906, 'countless': 2907, 'gothic': 2908, 'subtleti': 2909, 'alli': 2910, 'ritter': 2911, 'kane': 2912, 'cup': 2913, 'tea': 2914, 'miik': 2915, 'servant': 2916, 'salli': 2917, 'elect': 2918, 'charismat': 2919, 'iii': 2920, 'electr': 2921, 'heroic': 2922, 'briefli': 2923, 'tender': 2924, 'reel': 2925, 'toss': 2926, 'resourc': 2927, 'cole': 2928, 'grandmoth': 2929, 'admittedli': 2930, 'bud': 2931, 'ingredi': 2932, 'nuanc': 2933, 'neil': 2934, 'wannab': 2935, 'mafia': 2936, 'pit': 2937, 'carrey': 2938, 'mild': 2939, 'gate': 2940, 'stood': 2941, 'kubrick': 2942, 'stronger': 2943, 'dawson': 2944, 'label': 2945, 'reev': 2946, 'pauli': 2947, 'poverti': 2948, 'punk': 2949, 'shall': 2950, 'cardboard': 2951, 'cox': 2952, 'useless': 2953, 'fond': 2954, 'terri': 2955, 'updat': 2956, 'outcom': 2957, 'burst': 2958, 'ian': 2959, 'easier': 2960, 'smash': 2961, 'astair': 2962, 'tag': 2963, 'assault': 2964, 'bakshi': 2965, 'smooth': 2966, 'rex': 2967, 'fist': 2968, 'resolv': 2969, 'vulner': 2970, 'coincid': 2971, 'vari': 2972, 'melodramat': 2973, '2002': 2974, 'divers': 2975, 'samurai': 2976, 'sketch': 2977, 'increasingli': 2978, 'qualifi': 2979, 'exchang': 2980, 'scratch': 2981, 'suspend': 2982, 'luckili': 2983, 'templ': 2984, 'tame': 2985, 'be': 2986, 'blast': 2987, 'conveni': 2988, 'insert': 2989, 'brillianc': 2990, 'reynold': 2991, 'strictli': 2992, 'seventi': 2993, 'soprano': 2994, 'pin': 2995, 'farm': 2996, 'gotta': 2997, 'coach': 2998, 'meat': 2999, 'hamilton': 3000, 'nuclear': 3001, 'matthew': 3002, 'walker': 3003, 'ambiti': 3004, 'jami': 3005, 'fisher': 3006, 'grasp': 3007, 'closet': 3008, 'kudo': 3009, 'eccentr': 3010, 'clock': 3011, 'instantli': 3012, 'joey': 3013, 'discoveri': 3014, 'worthless': 3015, 'spooki': 3016, 'butcher': 3017, 'timeless': 3018, 'revers': 3019, 'struck': 3020, 'recreat': 3021, 'ninja': 3022, 'convolut': 3023, 'empir': 3024, 'cave': 3025, 'monk': 3026, 'brosnan': 3027, 'wipe': 3028, 'evok': 3029, 'inconsist': 3030, 'importantli': 3031, 'partli': 3032, 'seller': 3033, 'cliff': 3034, 'sidekick': 3035, 'clown': 3036, 'selfish': 3037, 'declar': 3038, 'fifteen': 3039, 'communist': 3040, 'bleak': 3041, 'eighti': 3042, 'gray': 3043, 'sloppi': 3044, 'miracl': 3045, 'norman': 3046, 'pal': 3047, 'mitchel': 3048, 'flawless': 3049, 'seed': 3050, 'debat': 3051, 'aforement': 3052, 'cheek': 3053, 'stoog': 3054, '45': 3055, 'chew': 3056, 'enthusiast': 3057, 'piano': 3058, 'psychiatrist': 3059, 'destin': 3060, 'ho': 3061, 'superbl': 3062, 'farc': 3063, 'websit': 3064, 'lifestyl': 3065, 'australia': 3066, 'dash': 3067, 'incompet': 3068, 'wrestl': 3069, 'kitchen': 3070, 'akshay': 3071, 'abc': 3072, 'dire': 3073, 'emili': 3074, 'slice': 3075, 'soviet': 3076, 'pressur': 3077, 'drivel': 3078, 'wick': 3079, 'regardless': 3080, 'splatter': 3081, 'bash': 3082, 'anni': 3083, 'directori': 3084, 'increas': 3085, 'cia': 3086, 'cameron': 3087, 'glow': 3088, 'beaten': 3089, 'duo': 3090, 'chapter': 3091, 'flower': 3092, 'artifici': 3093, 'blob': 3094, 'suppli': 3095, 'distant': 3096, 'recov': 3097, 'helicopt': 3098, 'doo': 3099, 'ken': 3100, 'seduc': 3101, 'prize': 3102, 'pleasantli': 3103, 'jar': 3104, 'boil': 3105, 'curios': 3106, 'judi': 3107, 'dave': 3108, 'cagney': 3109, 'mann': 3110, 'lou': 3111, 'drunken': 3112, 'craven': 3113, 'eleg': 3114, 'panic': 3115, 'ellen': 3116, 'goldberg': 3117, 'turner': 3118, 'favour': 3119, 'hop': 3120, 'psychot': 3121, 'francisco': 3122, 'splendid': 3123, 'web': 3124, 'combat': 3125, 'glenn': 3126, 'perri': 3127, 'craig': 3128, 'ranger': 3129, 'laurel': 3130, 'shortli': 3131, 'min': 3132, 'rid': 3133, 'hatr': 3134, 'graduat': 3135, 'plausibl': 3136, 'flip': 3137, '20th': 3138, 'philosophi': 3139, 'slightest': 3140, 'gentl': 3141, 'fx': 3142, 'greek': 3143, 'falk': 3144, 'ruth': 3145, 'wizard': 3146, 'gandhi': 3147, 'modesti': 3148, 'alexand': 3149, 'unpleas': 3150, 'knight': 3151, 'we': 3152, 'futurist': 3153, 'harm': 3154, 'fund': 3155, 'tall': 3156, 'dracula': 3157, 'legal': 3158, 'holi': 3159, 'preciou': 3160, 'lend': 3161, 'jealou': 3162, 'ocean': 3163, 'felix': 3164, 'manhattan': 3165, 'mock': 3166, 'bless': 3167, 'giallo': 3168, 'ami': 3169, 'scientif': 3170, 'nod': 3171, 'thread': 3172, 'overdon': 3173, 'forbidden': 3174, 'reviv': 3175, 'explicit': 3176, 'digniti': 3177, 'childish': 3178, 'tank': 3179, 'eve': 3180, 'torment': 3181, 'verhoeven': 3182, 'awe': 3183, 'elderli': 3184, 'yesterday': 3185, 'broad': 3186, '2004': 3187, 'unwatch': 3188, 'pirat': 3189, '99': 3190, 'nerv': 3191, 'repeatedli': 3192, 'thick': 3193, 'awaken': 3194, 'mel': 3195, 'fever': 3196, 'margaret': 3197, 'rivet': 3198, 'acclaim': 3199, 'absenc': 3200, 'timothi': 3201, 'stiller': 3202, 'ambit': 3203, 'publish': 3204, 'custom': 3205, 'ah': 3206, 'lean': 3207, 'griffith': 3208, 'bin': 3209, 'automat': 3210, 'romero': 3211, 'royal': 3212, 'eas': 3213, 'uniform': 3214, 'roman': 3215, 'politician': 3216, 'kay': 3217, 'launch': 3218, 'darker': 3219, 'bathroom': 3220, 'crook': 3221, 'stinker': 3222, 'transport': 3223, 'pierc': 3224, 'phrase': 3225, 'warren': 3226, 'pulp': 3227, 'termin': 3228, 'tomato': 3229, 'homicid': 3230, 'wallac': 3231, 'antic': 3232, 'foul': 3233, 'sunshin': 3234, 'purpl': 3235, 'gabriel': 3236, 'rambo': 3237, 'karen': 3238, 'hollow': 3239, 'coloni': 3240, '2003': 3241, 'choreographi': 3242, 'viciou': 3243, 'ought': 3244, 'packag': 3245, 'evolv': 3246, 'marin': 3247, 'li': 3248, 'pray': 3249, 'prom': 3250, 'eyr': 3251, 'saint': 3252, 'awak': 3253, 'juvenil': 3254, 'sixti': 3255, 'contrari': 3256, 'brazil': 3257, 'album': 3258, 'q': 3259, 'kenneth': 3260, 'horrid': 3261, 'donna': 3262, 'revolutionari': 3263, 'twelv': 3264, 'dose': 3265, 'candid': 3266, 'conserv': 3267, 'overr': 3268, 'beatti': 3269, 'kapoor': 3270, 'blade': 3271, 'ireland': 3272, 'boast': 3273, 'option': 3274, 'stole': 3275, 'defi': 3276, 'nerd': 3277, 'mummi': 3278, 'ramon': 3279, 'mildr': 3280, 'detract': 3281, 'confirm': 3282, 'flame': 3283, 'trio': 3284, 'collabor': 3285, 'kirk': 3286, 'protest': 3287, 'astonish': 3288, 'altman': 3289, 'natali': 3290, 'funer': 3291, 'jazz': 3292, 'global': 3293, 'fulci': 3294, 'blake': 3295, 'racial': 3296, 'leap': 3297, 'yellow': 3298, 'bottl': 3299, 'shade': 3300, 'nicholson': 3301, 'spit': 3302, 'destini': 3303, 'audio': 3304, 'delici': 3305, 'enterpris': 3306, 'tommi': 3307, 'bull': 3308, 'whip': 3309, 'mystic': 3310, 'popcorn': 3311, 'bedroom': 3312, 'threw': 3313, 'staff': 3314, 'visibl': 3315, 'enchant': 3316, 'merci': 3317, 'neo': 3318, 'pseudo': 3319, 'meaningless': 3320, 'adolesc': 3321, 'altogeth': 3322, 'fonda': 3323, 'harder': 3324, 'swedish': 3325, 'reunit': 3326, 'todd': 3327, 'vivid': 3328, 'inherit': 3329, 'voight': 3330, 'leonard': 3331, 'moodi': 3332, 'uneven': 3333, 'madonna': 3334, 'kennedi': 3335, 'suspici': 3336, 'reserv': 3337, 'ruthless': 3338, 'decor': 3339, 'fanat': 3340, 'jew': 3341, 'crocodil': 3342, 'exhibit': 3343, 'tip': 3344, 'bust': 3345, 'befriend': 3346, 'synopsi': 3347, 'edi': 3348, 'await': 3349, 'lawrenc': 3350, 'lemmon': 3351, 'wire': 3352, 'roommat': 3353, 'atlanti': 3354, 'respond': 3355, 'garner': 3356, 'holli': 3357, 'bold': 3358, 'voyag': 3359, 'dimens': 3360, 'centr': 3361, 'carl': 3362, 'bargain': 3363, 'clumsi': 3364, 'clint': 3365, 'abysm': 3366, 'bradi': 3367, 'ventur': 3368, 'incident': 3369, 'palma': 3370, 'chao': 3371, 'audit': 3372, 'rural': 3373, 'unsettl': 3374, '2007': 3375, 'tiger': 3376, 'troop': 3377, 'cari': 3378, 'elimin': 3379, 'hart': 3380, '2nd': 3381, 'mall': 3382, 'cd': 3383, 'echo': 3384, 'immigr': 3385, 'lit': 3386, 'characterist': 3387, 'wealth': 3388, 'versu': 3389, 'humili': 3390, 'trail': 3391, 'cuba': 3392, 'imperson': 3393, 'nearbi': 3394, 'daddi': 3395, 'acknowledg': 3396, 'poetic': 3397, 'neglect': 3398, 'timon': 3399, 'ant': 3400, 'celluloid': 3401, 'marshal': 3402, 'domest': 3403, 'paus': 3404, 'collaps': 3405, 'jeffrey': 3406, 'solo': 3407, 'infect': 3408, 'saga': 3409, 'mistaken': 3410, 'prejudic': 3411, 'mickey': 3412, 'homer': 3413, 'repuls': 3414, 'pun': 3415, 'harvey': 3416, 'pant': 3417, '1996': 3418, 'interrupt': 3419, 'coat': 3420, 'tribe': 3421, 'ginger': 3422, 'milk': 3423, 'promin': 3424, 'undoubtedli': 3425, 'hbo': 3426, 'leon': 3427, 'inan': 3428, 'chest': 3429, 'apolog': 3430, 'coffe': 3431, 'equip': 3432, 'olivi': 3433, 'assembl': 3434, 'sore': 3435, 'inappropri': 3436, 'cake': 3437, 'gear': 3438, 'furthermor': 3439, 'devast': 3440, 'humbl': 3441, 'primari': 3442, 'aveng': 3443, 'colleagu': 3444, 'trace': 3445, 'pen': 3446, 'embrac': 3447, 'instant': 3448, 'maggi': 3449, 'institut': 3450, 'solut': 3451, 'pot': 3452, 'retain': 3453, 'exot': 3454, 'vulgar': 3455, 'consum': 3456, 'highest': 3457, 'airplan': 3458, 'florida': 3459, 'brooklyn': 3460, 'colonel': 3461, 'jenni': 3462, 'polanski': 3463, 'bowl': 3464, 'gender': 3465, 'rick': 3466, 'descend': 3467, 'outer': 3468, 'illog': 3469, 'principl': 3470, 'poke': 3471, '1999': 3472, 'dian': 3473, 'cope': 3474, '3rd': 3475, 'godzilla': 3476, 'wive': 3477, 'strain': 3478, 'seduct': 3479, 'dutch': 3480, 'linda': 3481, 'disabl': 3482, 'smaller': 3483, 'ya': 3484, 'sale': 3485, 'gundam': 3486, 'devoid': 3487, 'cue': 3488, 'yard': 3489, 'inferior': 3490, 'glamor': 3491, 'dive': 3492, 'mixtur': 3493, 'dud': 3494, 'predecessor': 3495, 'bubbl': 3496, 'gloriou': 3497, 'vast': 3498, 'primarili': 3499, 'scope': 3500, 'secondli': 3501, 'lol': 3502, 'blatant': 3503, 'beneath': 3504, 'rabbit': 3505, 'hal': 3506, 'april': 3507, 'simplist': 3508, 'hideou': 3509, 'breed': 3510, 'trademark': 3511, 'disjoint': 3512, 'grinch': 3513, 'shirley': 3514, 'shelf': 3515, 'senseless': 3516, 'invas': 3517, 'alert': 3518, 'et': 3519, 'talki': 3520, 'countrysid': 3521, 'pearl': 3522, 'alfr': 3523, 'arab': 3524, 'aggress': 3525, 'myer': 3526, 'garbo': 3527, 'z': 3528, 'museum': 3529, 'streep': 3530, 'casual': 3531, 'domino': 3532, 'mayor': 3533, 'experiment': 3534, 'unhappi': 3535, 'mail': 3536, 'stack': 3537, 'rendit': 3538, 'maci': 3539, 'hardcor': 3540, 'obtain': 3541, 'uwe': 3542, 'sh': 3543, 'illeg': 3544, 'slide': 3545, 'stellar': 3546, 'acid': 3547, 'boom': 3548, 'applaud': 3549, 'disgrac': 3550, 'defens': 3551, 'vanish': 3552, 'loyal': 3553, 'robinson': 3554, 'stir': 3555, 'khan': 3556, 'hopeless': 3557, 'robberi': 3558, 'oz': 3559, 'tenant': 3560, 'blew': 3561, 'fri': 3562, 'psychic': 3563, 'dicken': 3564, 'dismiss': 3565, 'counter': 3566, 'span': 3567, 'tempt': 3568, 'grandfath': 3569, 'emphasi': 3570, 'wont': 3571, 'incomprehens': 3572, 'soccer': 3573, 'declin': 3574, 'spider': 3575, 'scroog': 3576, 'berlin': 3577, 'diana': 3578, 'recruit': 3579, 'topless': 3580, 'rifl': 3581, 'amanda': 3582, 'craze': 3583, 'hartley': 3584, 'parad': 3585, 'trashi': 3586, 'riot': 3587, 'intim': 3588, 'sibl': 3589, 'resurrect': 3590, 'faster': 3591, 'wet': 3592, 'porno': 3593, 'woo': 3594, 'revolt': 3595, 'niro': 3596, 'lumet': 3597, 'sympath': 3598, 'ethnic': 3599, 'ration': 3600, 'shaw': 3601, 'bitch': 3602, 'justin': 3603, 'shed': 3604, 'goer': 3605, 'unreal': 3606, 'ensur': 3607, '00': 3608, 'honesti': 3609, 'eager': 3610, 'hesit': 3611, 'wheel': 3612, 'nephew': 3613, 'steam': 3614, 'region': 3615, 'patriot': 3616, 'commend': 3617, 'farmer': 3618, 'slick': 3619, 'immort': 3620, 'hopper': 3621, 'partial': 3622, 'choru': 3623, 'jonathan': 3624, 'dealer': 3625, 'andr': 3626, 'biographi': 3627, 'enlighten': 3628, 'gap': 3629, 'ballet': 3630, 'rider': 3631, 'wendi': 3632, 'weakest': 3633, 'feminist': 3634, 'mario': 3635, 'lena': 3636, 'worm': 3637, 'snap': 3638, 'composit': 3639, 'owen': 3640, 'properti': 3641, 'skull': 3642, 'mutant': 3643, 'hung': 3644, 'blunt': 3645, 'similarli': 3646, 'charlott': 3647, 'wore': 3648, 'nostalg': 3649, 'repress': 3650, 'morri': 3651, 'prequel': 3652, 'kingdom': 3653, 'sappi': 3654, 'confin': 3655, 'psychopath': 3656, 'victori': 3657, 'safeti': 3658, 'vice': 3659, 'util': 3660, 'sandra': 3661, 'leo': 3662, 'franco': 3663, 'macarthur': 3664, 'thru': 3665, 'bumbl': 3666, 'rope': 3667, 'bow': 3668, 'repli': 3669, 'acquir': 3670, 'miseri': 3671, 'compass': 3672, 'whoopi': 3673, 'montana': 3674, 'dalton': 3675, 'valuabl': 3676, 'cg': 3677, 'deed': 3678, 'drain': 3679, 'rambl': 3680, 'exit': 3681, 'emperor': 3682, 'tail': 3683, 'dust': 3684, 'heartbreak': 3685, 'despair': 3686, 'hyde': 3687, 'campbel': 3688, 'pattern': 3689, 'nervou': 3690, 'farrel': 3691, 'drum': 3692, '1972': 3693, 'bonu': 3694, 'latin': 3695, 'recycl': 3696, 'strand': 3697, 'compens': 3698, 'tad': 3699, 'rocki': 3700, 'speci': 3701, 'bergman': 3702, 'del': 3703, 'snl': 3704, 'kyle': 3705, 'tonight': 3706, 'rapist': 3707, 'rotten': 3708, 'roth': 3709, 'chess': 3710, 'romp': 3711, 'mistress': 3712, 'martian': 3713, 'orson': 3714, 'downhil': 3715, 'gal': 3716, 'gimmick': 3717, 'oppress': 3718, 'percept': 3719, 'airport': 3720, 'contempl': 3721, 'pour': 3722, '35': 3723, 'bleed': 3724, 'wacki': 3725, 'da': 3726, 'carradin': 3727, 'radic': 3728, 'slug': 3729, 'olli': 3730, 'arguabl': 3731, 'mislead': 3732, 'slash': 3733, 'tackl': 3734, 'paltrow': 3735, 'preach': 3736, 'pervert': 3737, 'heal': 3738, 'taught': 3739, 'belt': 3740, 'tooth': 3741, 'unpredict': 3742, 'edgar': 3743, 'pursuit': 3744, 'programm': 3745, '1983': 3746, 'dazzl': 3747, 'pervers': 3748, 'melodi': 3749, 'banal': 3750, 'stilt': 3751, 'arc': 3752, 'champion': 3753, 'shelley': 3754, 'attorney': 3755, 'cleverli': 3756, 'virginia': 3757, 'vocal': 3758, 'passeng': 3759, 'vengeanc': 3760, 'employe': 3761, 'maid': 3762, 'sensat': 3763, 'raymond': 3764, 'closest': 3765, 'gambl': 3766, 'orang': 3767, 'tiresom': 3768, 'graham': 3769, 'rubi': 3770, 'conneri': 3771, 'chicken': 3772, 'plight': 3773, 'mesmer': 3774, 'marti': 3775, 'bela': 3776, 'duval': 3777, 'franki': 3778, 'poem': 3779, 'uplift': 3780, 'dixon': 3781, 'mute': 3782, 'suffic': 3783, 'scottish': 3784, 'iran': 3785, 'engross': 3786, 'whine': 3787, 'inject': 3788, 'abraham': 3789, 'clone': 3790, 'bay': 3791, 'calm': 3792, 'pokemon': 3793, 'tube': 3794, '1968': 3795, 'crystal': 3796, 'yawn': 3797, 'paranoia': 3798, 'swallow': 3799, 'sirk': 3800, 'volum': 3801, 'quarter': 3802, 'secretli': 3803, 'climact': 3804, 'convincingli': 3805, 'giggl': 3806, 'profan': 3807, 'numb': 3808, 'amitabh': 3809, 'gerard': 3810, 'habit': 3811, 'extens': 3812, 'monologu': 3813, 'outing': 3814, 'lundgren': 3815, 'abort': 3816, 'ethan': 3817, 'surpass': 3818, 'linger': 3819, 'lowest': 3820, 'profess': 3821, 'meander': 3822, 'chicago': 3823, 'poetri': 3824, 'franci': 3825, 'earl': 3826, 'austen': 3827, 'bend': 3828, 'plod': 3829, 'expand': 3830, 'junior': 3831, 'nichola': 3832, 'dispos': 3833, 'grotesqu': 3834, 'fed': 3835, 'spock': 3836, 'septemb': 3837, 'backward': 3838, 'im': 3839, 'taxi': 3840, 'trend': 3841, 'richardson': 3842, 'underst': 3843, 'frankenstein': 3844, 'stallon': 3845, 'muddl': 3846, 'catchi': 3847, 'mundan': 3848, 'rant': 3849, 'dysfunct': 3850, 'descent': 3851, 'tourist': 3852, 'der': 3853, 'literatur': 3854, 'simplic': 3855, 'econom': 3856, 'hum': 3857, 'nostalgia': 3858, 'spoke': 3859, 'household': 3860, 'cannon': 3861, 'compliment': 3862, 'greedi': 3863, 'rubber': 3864, 'eugen': 3865, 'instrument': 3866, 'myth': 3867, 'sue': 3868, 'lure': 3869, 'waitress': 3870, 'lang': 3871, 'crucial': 3872, 'june': 3873, 'stale': 3874, 'alongsid': 3875, 'cent': 3876, 'firstli': 3877, 'coast': 3878, 'occupi': 3879, 'recognis': 3880, 'map': 3881, 'sissi': 3882, 'mortal': 3883, 'dictat': 3884, 'flee': 3885, 'duck': 3886, 'deaf': 3887, 'louis': 3888, 'bacal': 3889, 'recognit': 3890, 'equival': 3891, 'dement': 3892, 'molli': 3893, 'insur': 3894, 'damon': 3895, 'carel': 3896, 'eaten': 3897, 'furi': 3898, 'hello': 3899, 'irrelev': 3900, 'randi': 3901, 'mankind': 3902, 'phoni': 3903, 'phantom': 3904, 'omen': 3905, 'onlin': 3906, 'distinguish': 3907, 'dreari': 3908, 'lengthi': 3909, 'bump': 3910, 'drake': 3911, 'likewis': 3912, 'heel': 3913, 'damm': 3914, 'rude': 3915, 'bike': 3916, '1973': 3917, 'ashley': 3918, 'blackmail': 3919, 'grayson': 3920, 'biko': 3921, 'reign': 3922, 'daisi': 3923, 'loyalti': 3924, 'newli': 3925, 'labor': 3926, 'wisdom': 3927, 'twilight': 3928, 'freez': 3929, 'antwon': 3930, 'buffalo': 3931, 'cyborg': 3932, 'rooney': 3933, 'sailor': 3934, 'provoc': 3935, 'interior': 3936, 'unorigin': 3937, 'butler': 3938, 'chronicl': 3939, 'approv': 3940, 'nineti': 3941, 'analysi': 3942, 'vein': 3943, 'incorpor': 3944, 'emphas': 3945, 'worn': 3946, 'baddi': 3947, 'keith': 3948, 'basketbal': 3949, 'ridden': 3950, 'inher': 3951, 'barrymor': 3952, 'attribut': 3953, 'startl': 3954, 'tunnel': 3955, 'pink': 3956, 'boxer': 3957, 'proce': 3958, 'exposur': 3959, 'prey': 3960, 'simmon': 3961, 'julian': 3962, 'underli': 3963, 'bunni': 3964, 'meyer': 3965, 'condemn': 3966, 'mighti': 3967, 'robbin': 3968, 'millionair': 3969, 'stalker': 3970, 'improvis': 3971, 'elm': 3972, 'barrel': 3973, 'fleet': 3974, 'nicol': 3975, 'mormon': 3976, 'degrad': 3977, 'indiffer': 3978, 'predat': 3979, 'undeni': 3980, 'walsh': 3981, 'substitut': 3982, 'belushi': 3983, 'unrel': 3984, 'hypnot': 3985, 'meg': 3986, 'othello': 3987, 'er': 3988, 'drift': 3989, 'carla': 3990, 'alarm': 3991, 'shove': 3992, 'vital': 3993, 'exquisit': 3994, 'hay': 3995, 'disord': 3996, 'mtv': 3997, 'enthusiasm': 3998, 'marion': 3999, 'roof': 4000, 'unawar': 4001, 'firm': 4002, '3d': 4003, 'priceless': 4004, 'warmth': 4005, 'palac': 4006, 'greed': 4007, 'novak': 4008, 'errol': 4009, 'edgi': 4010, 'dolph': 4011, 'lampoon': 4012, 'nyc': 4013, 'agenda': 4014, 'rukh': 4015, 'reid': 4016, 'watson': 4017, 'alison': 4018, 'israel': 4019, 'coup': 4020, 'campaign': 4021, 'sergeant': 4022, 'drip': 4023, 'glanc': 4024, 'spain': 4025, 'randomli': 4026, 'showdown': 4027, '13th': 4028, 'minimum': 4029, 'pamela': 4030, 'zizek': 4031, 'valentin': 4032, 'preserv': 4033, 'peck': 4034, 'testament': 4035, 'eastern': 4036, 'profit': 4037, '1933': 4038, 'peril': 4039, 'distort': 4040, 'what': 4041, 'unleash': 4042, 'thompson': 4043, 'simultan': 4044, 'iraq': 4045, 'nun': 4046, 'petti': 4047, 'ponder': 4048, 'championship': 4049, 'beatl': 4050, 'gestur': 4051, 'crown': 4052, 'orlean': 4053, 'angela': 4054, 'session': 4055, 'cassidi': 4056, 'cooki': 4057, 'represent': 4058, 'crawl': 4059, 'realm': 4060, 'wig': 4061, 'kurosawa': 4062, 'sabrina': 4063, 'empathi': 4064, 'restrain': 4065, 'stake': 4066, 'mon': 4067, 'perpetu': 4068, 'contradict': 4069, 'rout': 4070, 'crow': 4071, 'climat': 4072, 'exposit': 4073, 'reson': 4074, 'unimagin': 4075, 'stroke': 4076, 'scotland': 4077, 'cream': 4078, 'shootout': 4079, 'regist': 4080, 'fido': 4081, 'jan': 4082, 'bro': 4083, 'han': 4084, 'travesti': 4085, '1984': 4086, 'brenda': 4087, 'quinn': 4088, 'gentleman': 4089, 'miyazaki': 4090, 'valley': 4091, 'buster': 4092, 'din': 4093, 'calib': 4094, 'sammi': 4095, 'unsatisfi': 4096, 'femm': 4097, 'businessman': 4098, 'derang': 4099, 'demis': 4100, 'spacey': 4101, '1987': 4102, 'painter': 4103, 'unseen': 4104, 'pole': 4105, 'warrant': 4106, 'dana': 4107, 'censor': 4108, 'monoton': 4109, 'shoddi': 4110, 'perceiv': 4111, 'compromis': 4112, 'ustinov': 4113, 'abomin': 4114, 'mclaglen': 4115, '1997': 4116, 'wax': 4117, 'delic': 4118, 'fuller': 4119, 'meryl': 4120, 'tacki': 4121, 'passabl': 4122, 'ross': 4123, 'distress': 4124, 'geek': 4125, 'traumat': 4126, 'cloud': 4127, 'soderbergh': 4128, 'greg': 4129, 'baldwin': 4130, 'pretens': 4131, 'josh': 4132, 'sucker': 4133, 'absent': 4134, 'crawford': 4135, 'darren': 4136, 'shaki': 4137, 'stargat': 4138, 'exclus': 4139, 'austin': 4140, 'deceas': 4141, 'correctli': 4142, 'kumar': 4143, 'anchor': 4144, 'tech': 4145, 'sid': 4146, 'polici': 4147, 'fenc': 4148, 'primit': 4149, '1993': 4150, 'dee': 4151, 'nathan': 4152, 'uncov': 4153, 'valid': 4154, 'reluct': 4155, 'tarantino': 4156, 'norm': 4157, 'judgment': 4158, 'unravel': 4159, 'click': 4160, 'fog': 4161, 'verbal': 4162, 'clash': 4163, 'jewel': 4164, 'furiou': 4165, 'seal': 4166, 'expedit': 4167, 'accuraci': 4168, 'deniro': 4169, 'wholli': 4170, 'antonioni': 4171, 'temper': 4172, 'sheet': 4173, 'nicola': 4174, 'bake': 4175, 'dreck': 4176, 'ritual': 4177, 'joel': 4178, '1995': 4179, '3000': 4180, 'fought': 4181, 'alec': 4182, '2008': 4183, 'crippl': 4184, 'sand': 4185, 'wretch': 4186, 'conduct': 4187, 'sunni': 4188, 'murray': 4189, 'enforc': 4190, 'darn': 4191, 'seldom': 4192, 'pocket': 4193, 'logan': 4194, 'wang': 4195, 'debt': 4196, 'unfair': 4197, 'mode': 4198, 'shanghai': 4199, '1971': 4200, 'clerk': 4201, 'behold': 4202, 'slam': 4203, 'malon': 4204, 'tax': 4205, 'fabric': 4206, 'sustain': 4207, 'trait': 4208, 'hallucin': 4209, 'patienc': 4210, 'fart': 4211, 'roller': 4212, 'vanc': 4213, 'canyon': 4214, 'stark': 4215, 'phil': 4216, 'divid': 4217, 'outlin': 4218, 'helpless': 4219, 'conscious': 4220, 'sweep': 4221, 'tactic': 4222, 'preposter': 4223, 'technicolor': 4224, 'squad': 4225, 'soup': 4226, 'stuart': 4227, 'runner': 4228, 'bridget': 4229, 'clau': 4230, 'rita': 4231, 'exhaust': 4232, 'critiqu': 4233, 'schedul': 4234, 'scriptwrit': 4235, 'bias': 4236, 'shell': 4237, 'guitar': 4238, 'despis': 4239, 'legaci': 4240, 'fundament': 4241, 'isabel': 4242, 'pete': 4243, 'penni': 4244, 'grief': 4245, 'robber': 4246, 'preston': 4247, 'kansa': 4248, 'alicia': 4249, 'passag': 4250, 'liberti': 4251, 'alley': 4252, 'jacket': 4253, 'implic': 4254, 'delv': 4255, 'palanc': 4256, 'propos': 4257, 'consciou': 4258, 'drove': 4259, 'downey': 4260, 'culmin': 4261, 'gregori': 4262, 'cigarett': 4263, 'flair': 4264, 'agenc': 4265, 'vomit': 4266, 'russia': 4267, 'marc': 4268, 'unexpectedli': 4269, 'jodi': 4270, 'rehash': 4271, 'bloom': 4272, 'boyl': 4273, 'sniper': 4274, 'invad': 4275, 'rear': 4276, 'sugar': 4277, 'restrict': 4278, 'newman': 4279, 'connor': 4280, 'inabl': 4281, 'lacklust': 4282, 'sentinel': 4283, 'tripe': 4284, 'delet': 4285, 'tendenc': 4286, 'wrench': 4287, '1936': 4288, 'sharon': 4289, 'cap': 4290, 'rampag': 4291, 'behaviour': 4292, 'feat': 4293, 'lush': 4294, 'awhil': 4295, '22': 4296, 'pale': 4297, 'karl': 4298, 'chainsaw': 4299, 'mccoy': 4300, 'asylum': 4301, 'yeti': 4302, 'ladder': 4303, 'foxx': 4304, 'rehears': 4305, 'rod': 4306, 'bacon': 4307, 'improb': 4308, 'arrow': 4309, 'aesthet': 4310, 'horn': 4311, 'vet': 4312, 'kolchak': 4313, '1978': 4314, 'wildli': 4315, 'amazon': 4316, '19th': 4317, 'fright': 4318, 'paradis': 4319, 'visitor': 4320, 'rumor': 4321, 'prank': 4322, 'aristocrat': 4323, 'scoop': 4324, 'financ': 4325, 'lurk': 4326, 'newcom': 4327, 'minu': 4328, 'conscienc': 4329, 'el': 4330, 'suffici': 4331, 'hungri': 4332, 'coaster': 4333, 'weav': 4334, '1920': 4335, 'suspicion': 4336, 'loneli': 4337, 'paramount': 4338, 'elit': 4339, 'rhythm': 4340, 'filler': 4341, 'stream': 4342, 'sung': 4343, 'hackney': 4344, 'underneath': 4345, 'tomorrow': 4346, 'shortcom': 4347, 'basing': 4348, 'tasteless': 4349, 'globe': 4350, 'hulk': 4351, 'thunderbird': 4352, '1988': 4353, 'spice': 4354, 'wagner': 4355, '75': 4356, 'ingeni': 4357, 'standout': 4358, 'penn': 4359, 'worship': 4360, 'naughti': 4361, 'chavez': 4362, 'couch': 4363, 'atroc': 4364, 'cancer': 4365, 'tierney': 4366, 'chamberlain': 4367, 'iv': 4368, 'beverli': 4369, 'entranc': 4370, 'literari': 4371, 'quietli': 4372, 'teas': 4373, 'grudg': 4374, 'paxton': 4375, 'bread': 4376, '1989': 4377, 'curli': 4378, 'abrupt': 4379, 'straightforward': 4380, 'choppi': 4381, 'brit': 4382, 'minist': 4383, 'leigh': 4384, 'heist': 4385, '1939': 4386, 'lectur': 4387, 'inmat': 4388, 'recogniz': 4389, 'springer': 4390, 'immers': 4391, 'dirt': 4392, 'rub': 4393, 'counterpart': 4394, 'hopkin': 4395, 'en': 4396, 'ram': 4397, 'posey': 4398, 'smell': 4399, 'impos': 4400, 'secondari': 4401, 'wwe': 4402, 'duel': 4403, 'net': 4404, 'moreov': 4405, 'geni': 4406, 'nolan': 4407, 'sublim': 4408, 'entitl': 4409, 'quaid': 4410, 'yearn': 4411, 'injuri': 4412, 'lindsay': 4413, 'watcher': 4414, 'ratso': 4415, 'bernard': 4416, 'sassi': 4417, 'ace': 4418, 'enthral': 4419, 'variat': 4420, 'policeman': 4421, 'esther': 4422, 'clan': 4423, 'cattl': 4424, '1986': 4425, 'skeptic': 4426, 'attenborough': 4427, 'laurenc': 4428, 'convert': 4429, 'missil': 4430, 'morbid': 4431, 'heartfelt': 4432, 'nemesi': 4433, 'transcend': 4434, 'misguid': 4435, 'moder': 4436, 'cruelti': 4437, 'unexplain': 4438, 'buzz': 4439, 'reliabl': 4440, 'spiral': 4441, 'setup': 4442, 'bean': 4443, 'steadi': 4444, 'youngest': 4445, 'obstacl': 4446, 'graini': 4447, 'dont': 4448, 'brood': 4449, 'kidman': 4450, 'characteris': 4451, 'rosemari': 4452, 'bye': 4453, 'artsi': 4454, 'egg': 4455, 'hopelessli': 4456, 'puppi': 4457, 'mytholog': 4458, 'out': 4459, 'enabl': 4460, 'diari': 4461, 'hk': 4462, 'grin': 4463, 'carlito': 4464, 'facil': 4465, 'vader': 4466, 'poe': 4467, 'tyler': 4468, 'uncut': 4469, '1979': 4470, 'kitti': 4471, 'heap': 4472, 'oblig': 4473, 'narrow': 4474, 'exterior': 4475, 'weather': 4476, 'fuel': 4477, 'clueless': 4478, 'athlet': 4479, 'christin': 4480, 'baffl': 4481, 'hain': 4482, 'bronson': 4483, 'patricia': 4484, 'decept': 4485, 'preming': 4486, 'hammi': 4487, 'kline': 4488, 'acquaint': 4489, 'niec': 4490, 'disastr': 4491, '1969': 4492, 'martha': 4493, 'spontan': 4494, 'bewar': 4495, 'gillian': 4496, 'gina': 4497, 'effici': 4498, 'sweat': 4499, 'bounc': 4500, 'despic': 4501, 'underworld': 4502, 'brendan': 4503, 'tick': 4504, 'goof': 4505, '19': 4506, 'dilemma': 4507, 'trigger': 4508, 'virtu': 4509, 'viewpoint': 4510, 'loi': 4511, 'suprem': 4512, 'injur': 4513, 'taboo': 4514, 'analyz': 4515, 'insipid': 4516, 'shatter': 4517, 'scar': 4518, 'uh': 4519, 'mayhem': 4520, 'harmless': 4521, 'dandi': 4522, 'astound': 4523, 'hepburn': 4524, 'headach': 4525, 'preachi': 4526, '73': 4527, 'angst': 4528, 'candl': 4529, 'housewif': 4530, 'mermaid': 4531, 'sooner': 4532, 'rome': 4533, 'sleepwalk': 4534, 'outlaw': 4535, 'enlist': 4536, 'circu': 4537, 'fontain': 4538, 'lester': 4539, 'biker': 4540, 'renaiss': 4541, 'loath': 4542, 'hostag': 4543, 'phenomenon': 4544, 'stair': 4545, 'foolish': 4546, 'filth': 4547, 'slimi': 4548, 'amor': 4549, 'bent': 4550, 'overlong': 4551, 'hooker': 4552, 'idol': 4553, 'macho': 4554, 'redund': 4555, 'stimul': 4556, 'contempt': 4557, 'intric': 4558, 'oldest': 4559, 'dish': 4560, 'zoom': 4561, 'surgeri': 4562, 'glorifi': 4563, 'steer': 4564, 'claustrophob': 4565, 'ebert': 4566, 'immatur': 4567, 'spade': 4568, 'hokey': 4569, 'dismal': 4570, 'whore': 4571, 'salt': 4572, 'fluff': 4573, 'sox': 4574, 'boston': 4575, 'cassavet': 4576, 'tripl': 4577, 'corbett': 4578, 'camcord': 4579, 'guin': 4580, 'ariel': 4581, 'gere': 4582, 'scorses': 4583, 'antagonist': 4584, 'transplant': 4585, '1976': 4586, '1981': 4587, 'messi': 4588, 'astronaut': 4589, 'nolt': 4590, 'down': 4591, 'preced': 4592, 'perman': 4593, 'rhyme': 4594, 'shred': 4595, 'dwarf': 4596, 'trivia': 4597, 'conquer': 4598, 'cow': 4599, 'assert': 4600, 'proport': 4601, 'fascist': 4602, 'strongest': 4603, 'obligatori': 4604, 'widescreen': 4605, 'keen': 4606, 'flirt': 4607, 'corman': 4608, 'harold': 4609, 'schlock': 4610, 'mutual': 4611, 'spinal': 4612, 'cohen': 4613, 'spree': 4614, 'mount': 4615, 'beard': 4616, 'frantic': 4617, 'flashi': 4618, 'naschi': 4619, 'faint': 4620, 'cush': 4621, 'gasp': 4622, 'shield': 4623, 'flag': 4624, 'zane': 4625, 'remad': 4626, 'margin': 4627, 'muscl': 4628, 'alvin': 4629, 'radiat': 4630, 'joker': 4631, 'gabl': 4632, 'wield': 4633, 'claud': 4634, 'carey': 4635, '28': 4636, 'repris': 4637, 'ritchi': 4638, 'sensual': 4639, 'danish': 4640, '1945': 4641, 'info': 4642, 'instruct': 4643, 'bachelor': 4644, 'raj': 4645, 'persuad': 4646, 'someday': 4647, 'www': 4648, 'discern': 4649, 'neurot': 4650, 'mol': 4651, 'vaniti': 4652, 'mobil': 4653, 'boob': 4654, 'archiv': 4655, 'aborigin': 4656, 'off': 4657, 'departur': 4658, 'interestingli': 4659, 'brush': 4660, 'inflict': 4661, 'flock': 4662, 'deer': 4663, 'divin': 4664, 'resum': 4665, 'triangl': 4666, 'scandal': 4667, 'hara': 4668, '95': 4669, 'fishburn': 4670, 'bitten': 4671, 'barn': 4672, 'strive': 4673, 'cliffhang': 4674, 'vibrant': 4675, 'senior': 4676, 'artwork': 4677, 'banter': 4678, 'cycl': 4679, 'hilar': 4680, 'rot': 4681, 'submit': 4682, 'cher': 4683, 'anton': 4684, 'biblic': 4685, 'undermin': 4686, 'dim': 4687, 'loretta': 4688, 'kathryn': 4689, 'dylan': 4690, 'pixar': 4691, 'hug': 4692, 'frontier': 4693, 'harrison': 4694, 'colin': 4695, 'miracul': 4696, 'helm': 4697, 'traffic': 4698, 'jade': 4699, 'proclaim': 4700, 'pacif': 4701, 'prophet': 4702, 'europa': 4703, 'earnest': 4704, 'bate': 4705, 'hapless': 4706, 'carlo': 4707, 'casino': 4708, 'mobster': 4709, 'timberlak': 4710, 'heartwarm': 4711, 'dame': 4712, 'recit': 4713, 'cb': 4714, 'fragil': 4715, 'clad': 4716, 'axe': 4717, 'wendigo': 4718, 'ish': 4719, 'neill': 4720, 'melissa': 4721, 'parson': 4722, 'luka': 4723, 'pickford': 4724, 'estrang': 4725, 'toronto': 4726, 'mason': 4727, 'wardrob': 4728, 'eli': 4729, 'feast': 4730, 'antholog': 4731, 'misfortun': 4732, 'cerebr': 4733, 'uma': 4734, 'akin': 4735, 'http': 4736, 'bikini': 4737, 'vanessa': 4738, 'nope': 4739, 'alexandr': 4740, 'vile': 4741, 'holocaust': 4742, 'seedi': 4743, 'rooki': 4744, 'pc': 4745, 'token': 4746, 'legitim': 4747, 'shepherd': 4748, 'choke': 4749, 'sicken': 4750, 'venom': 4751, 'marlon': 4752, 'northern': 4753, 'aris': 4754, 'orphan': 4755, 'lucil': 4756, 'milo': 4757, 'foil': 4758, 'electron': 4759, 'articl': 4760, 'jordan': 4761, 'trier': 4762, 'lui': 4763, 'mathieu': 4764, 'static': 4765, 'bondag': 4766, 'redneck': 4767, 'jo': 4768, 'breakfast': 4769, 'isra': 4770, 'illus': 4771, 'winchest': 4772, 'blatantli': 4773, 'razor': 4774, 'flavor': 4775, 'highway': 4776, 'swept': 4777, 'linear': 4778, 'clinic': 4779, 'wrestler': 4780, 'knightley': 4781, 'tack': 4782, 'magician': 4783, 'shorter': 4784, 'psych': 4785, 'feminin': 4786, 'outdat': 4787, 'howl': 4788, 'smack': 4789, 'oppon': 4790, 'comprehend': 4791, 'retriev': 4792, 'deem': 4793, 'styliz': 4794, 'gilbert': 4795, 'glare': 4796, 'peer': 4797, 'abund': 4798, 'cartoonish': 4799, 'nightclub': 4800, 'leather': 4801, 'turd': 4802, 'audrey': 4803, 'dudley': 4804, 'fifth': 4805, 'disregard': 4806, 'gunga': 4807, 'ceremoni': 4808, 'charlton': 4809, 'ideolog': 4810, 'huston': 4811, 'affleck': 4812, 'frog': 4813, 'boyer': 4814, 'conrad': 4815, 'collector': 4816, 'btw': 4817, '4th': 4818, '1991': 4819, 'whack': 4820, 'newer': 4821, 'greet': 4822, 'potter': 4823, 'salman': 4824, 'lavish': 4825, 'boo': 4826, 'senat': 4827, 'spawn': 4828, 'moe': 4829, 'cemeteri': 4830, 'plate': 4831, 'cuban': 4832, 'energet': 4833, 'deliver': 4834, 'einstein': 4835, 'evolut': 4836, 'durat': 4837, 'lifeless': 4838, 'chip': 4839, 'bastard': 4840, 'breakdown': 4841, 'braveheart': 4842, 'toe': 4843, 'corn': 4844, 'monument': 4845, 'bogu': 4846, 'uniformli': 4847, 'lighter': 4848, '1994': 4849, 'phenomen': 4850, 'goldsworthi': 4851, 'tara': 4852, 'client': 4853, 'snatch': 4854, 'spine': 4855, 'compris': 4856, 'summar': 4857, 'sleaz': 4858, 'mitch': 4859, 'capot': 4860, 'pronounc': 4861, '1977': 4862, 'alleg': 4863, 'lex': 4864, 'kazan': 4865, 'undertak': 4866, 'bori': 4867, 'occup': 4868, 'sorrow': 4869, 'neatli': 4870, 'inaccuraci': 4871, 'wtf': 4872, 'outright': 4873, 'ol': 4874, 'appl': 4875, 'mcqueen': 4876, 'judd': 4877, 'cecil': 4878, 'trauma': 4879, 'fluid': 4880, 'ie': 4881, 'constitut': 4882, 'jule': 4883, 'signal': 4884, 'eleven': 4885, 'randolph': 4886, 'armstrong': 4887, 'jedi': 4888, 'clara': 4889, 'bulk': 4890, 'firmli': 4891, 'healthi': 4892, 'nina': 4893, 'kent': 4894, 'creek': 4895, 'jare': 4896, '1974': 4897, 'spectacl': 4898, 'belli': 4899, 'historian': 4900, 'embark': 4901, 'liu': 4902, 'replay': 4903, 'luxuri': 4904, 'undead': 4905, 'jam': 4906, 'evelyn': 4907, 'gilliam': 4908, 'unsuspect': 4909, 'vain': 4910, 'truman': 4911, 'sidewalk': 4912, 'miami': 4913, 'poker': 4914, 'propheci': 4915, 'knee': 4916, '1985': 4917, 'congratul': 4918, 'carmen': 4919, 'kiddi': 4920, 'abound': 4921, 'rosario': 4922, 'goldblum': 4923, 'vignett': 4924, 'cape': 4925, 'aussi': 4926, 'relentless': 4927, 'sacrif': 4928, 'lauren': 4929, 'id': 4930, 'spray': 4931, 'bsg': 4932, 'bait': 4933, 'genet': 4934, 'curtain': 4935, 'inaccur': 4936, 'fruit': 4937, 'lanc': 4938, 'meal': 4939, 'subtli': 4940, 'walt': 4941, 'galaxi': 4942, 'miniseri': 4943, 'basket': 4944, 'conan': 4945, 'blur': 4946, 'pepper': 4947, 'comprehens': 4948, 'inclus': 4949, 'palm': 4950, 'pioneer': 4951, 'porter': 4952, 'decapit': 4953, 'forgiven': 4954, 'tokyo': 4955, 'paula': 4956, 'antonio': 4957, 'groan': 4958, 'mum': 4959, 'ash': 4960, 'comb': 4961, 'roar': 4962, 'unattract': 4963, 'scariest': 4964, 'omin': 4965, 'victorian': 4966, 'assort': 4967, 'turtl': 4968, 'scarfac': 4969, 'sophi': 4970, 'ghetto': 4971, 'optimist': 4972, 'hostil': 4973, 'growth': 4974, 'hackman': 4975, 'asset': 4976, 'bravo': 4977, 'vastli': 4978, 'weari': 4979, 'sparkl': 4980, 'modest': 4981, 'orchestr': 4982, 'drone': 4983, 'substanti': 4984, 'mice': 4985, 'bach': 4986, 'handicap': 4987, 'detach': 4988, 'monti': 4989, 'jill': 4990, 'epitom': 4991, 'cypher': 4992, 'spill': 4993, 'motorcycl': 4994, 'incorrect': 4995, 'playboy': 4996, 'evan': 4997, 'masterson': 4998, '21st': 4999}\n"
     ]
    }
   ],
   "source": [
    "print(word_dict)"
   ]
  },
  {
   "cell_type": "markdown",
   "metadata": {},
   "source": [
    "### Transform the reviews\n",
    "\n",
    "Now that we have our word dictionary which allows us to transform the words appearing in the reviews into integers, it is time to make use of it and convert our reviews to their integer sequence representation, making sure to pad or truncate to a fixed length, which in our case is `500`."
   ]
  },
  {
   "cell_type": "code",
   "execution_count": 22,
   "metadata": {},
   "outputs": [],
   "source": [
    "def convert_and_pad(word_dict, sentence, pad=500):\n",
    "    NOWORD = 0 # We will use 0 to represent the 'no word' category\n",
    "    INFREQ = 1 # and we use 1 to represent the infrequent words, i.e., words not appearing in word_dict\n",
    "    \n",
    "    working_sentence = [NOWORD] * pad\n",
    "    \n",
    "    for word_index, word in enumerate(sentence[:pad]):\n",
    "        #print(word)\n",
    "        if word in word_dict:\n",
    "            working_sentence[word_index] = word_dict[word]\n",
    "            #print('yes', working_sentence[word_index], word_dict[word])\n",
    "        else:\n",
    "            working_sentence[word_index] = INFREQ\n",
    "            #print('nope', working_sentence[word_index])\n",
    "            \n",
    "    return working_sentence, min(len(sentence), pad)\n",
    "\n",
    "def convert_and_pad_data(word_dict, data, pad=500):\n",
    "    result = []\n",
    "    lengths = []\n",
    "    \n",
    "    for sentence in data:\n",
    "        #print(sentence)\n",
    "\n",
    "        converted, leng = convert_and_pad(word_dict, sentence, pad)\n",
    "\n",
    "        result.append(converted)\n",
    "        lengths.append(leng)\n",
    "        \n",
    "    return np.array(result), np.array(lengths)"
   ]
  },
  {
   "cell_type": "code",
   "execution_count": 23,
   "metadata": {},
   "outputs": [],
   "source": [
    "#train_X_test, train_X_len_test = convert_and_pad_data(word_dict, train_X[100:102])\n",
    "train_X, train_X_len = convert_and_pad_data(word_dict, train_X)\n",
    "test_X, test_X_len = convert_and_pad_data(word_dict, test_X)"
   ]
  },
  {
   "cell_type": "markdown",
   "metadata": {},
   "source": [
    "As a quick check to make sure that things are working as intended, check to see what one of the reviews in the training set looks like after having been processeed. Does this look reasonable? What is the length of a review in the training set?"
   ]
  },
  {
   "cell_type": "code",
   "execution_count": 28,
   "metadata": {},
   "outputs": [
    {
     "name": "stdout",
     "output_type": "stream",
     "text": [
      "[   4  126    3   56   47  855 2461 3774    6   27 1017  553   53 1278\n",
      "    1   46    2    3  968  335   47 1103   46  126   14  866  126  150\n",
      "    4  821  394   26    2   73 1162   26  193  286    9  214 3303 2432\n",
      "   10  320 2267  314   31   27  405   35   75   30   21    3 1240  374\n",
      "    1  215    0    0    0    0    0    0    0    0    0    0    0    0\n",
      "    0    0    0    0    0    0    0    0    0    0    0    0    0    0\n",
      "    0    0    0    0    0    0    0    0    0    0    0    0    0    0\n",
      "    0    0    0    0    0    0    0    0    0    0    0    0    0    0\n",
      "    0    0    0    0    0    0    0    0    0    0    0    0    0    0\n",
      "    0    0    0    0    0    0    0    0    0    0    0    0    0    0\n",
      "    0    0    0    0    0    0    0    0    0    0    0    0    0    0\n",
      "    0    0    0    0    0    0    0    0    0    0    0    0    0    0\n",
      "    0    0    0    0    0    0    0    0    0    0    0    0    0    0\n",
      "    0    0    0    0    0    0    0    0    0    0    0    0    0    0\n",
      "    0    0    0    0    0    0    0    0    0    0    0    0    0    0\n",
      "    0    0    0    0    0    0    0    0    0    0    0    0    0    0\n",
      "    0    0    0    0    0    0    0    0    0    0    0    0    0    0\n",
      "    0    0    0    0    0    0    0    0    0    0    0    0    0    0\n",
      "    0    0    0    0    0    0    0    0    0    0    0    0    0    0\n",
      "    0    0    0    0    0    0    0    0    0    0    0    0    0    0\n",
      "    0    0    0    0    0    0    0    0    0    0    0    0    0    0\n",
      "    0    0    0    0    0    0    0    0    0    0    0    0    0    0\n",
      "    0    0    0    0    0    0    0    0    0    0    0    0    0    0\n",
      "    0    0    0    0    0    0    0    0    0    0    0    0    0    0\n",
      "    0    0    0    0    0    0    0    0    0    0    0    0    0    0\n",
      "    0    0    0    0    0    0    0    0    0    0    0    0    0    0\n",
      "    0    0    0    0    0    0    0    0    0    0    0    0    0    0\n",
      "    0    0    0    0    0    0    0    0    0    0    0    0    0    0\n",
      "    0    0    0    0    0    0    0    0    0    0    0    0    0    0\n",
      "    0    0    0    0    0    0    0    0    0    0    0    0    0    0\n",
      "    0    0    0    0    0    0    0    0    0    0    0    0    0    0\n",
      "    0    0    0    0    0    0    0    0    0    0    0    0    0    0\n",
      "    0    0    0    0    0    0    0    0    0    0    0    0    0    0\n",
      "    0    0    0    0    0    0    0    0    0    0    0    0    0    0\n",
      "    0    0    0    0    0    0    0    0    0    0    0    0    0    0\n",
      "    0    0    0    0    0    0    0    0    0    0]\n"
     ]
    }
   ],
   "source": [
    "# Use this cell to examine one of the processed reviews to make sure everything is working as intended.\n",
    "print(train_X[2000])\n"
   ]
  },
  {
   "cell_type": "markdown",
   "metadata": {},
   "source": [
    "**Question:** In the cells above we use the `preprocess_data` and `convert_and_pad_data` methods to process both the training and testing set. Why or why not might this be a problem?"
   ]
  },
  {
   "cell_type": "markdown",
   "metadata": {},
   "source": [
    "**Answer:**\n",
    "The preprocess_data method should be acceptable for both data sets as we want to get them in a proper format for consumption and use the same method.  The convert_and_pad_data method could be an issue for testing data as the distribution of words could vary significantly compared to the training set.  You would expect more words in the testing set not to be in the word dictionary."
   ]
  },
  {
   "cell_type": "markdown",
   "metadata": {},
   "source": [
    "## Step 3: Upload the data to S3\n",
    "\n",
    "As in the XGBoost notebook, we will need to upload the training dataset to S3 in order for our training code to access it. For now we will save it locally and we will upload to S3 later on.\n",
    "\n",
    "### Save the processed training dataset locally\n",
    "\n",
    "It is important to note the format of the data that we are saving as we will need to know it when we write the training code. In our case, each row of the dataset has the form `label`, `length`, `review[500]` where `review[500]` is a sequence of `500` integers representing the words in the review."
   ]
  },
  {
   "cell_type": "code",
   "execution_count": 31,
   "metadata": {},
   "outputs": [],
   "source": [
    "import pandas as pd\n",
    "    \n",
    "pd.concat([pd.DataFrame(train_y), pd.DataFrame(train_X_len), pd.DataFrame(train_X)], axis=1) \\\n",
    "        .to_csv(os.path.join(data_dir, 'train.csv'), header=False, index=False)"
   ]
  },
  {
   "cell_type": "markdown",
   "metadata": {},
   "source": [
    "### Uploading the training data\n",
    "\n",
    "\n",
    "Next, we need to upload the training data to the SageMaker default S3 bucket so that we can provide access to it while training our model."
   ]
  },
  {
   "cell_type": "code",
   "execution_count": 32,
   "metadata": {},
   "outputs": [],
   "source": [
    "import sagemaker\n",
    "\n",
    "sagemaker_session = sagemaker.Session()\n",
    "\n",
    "bucket = sagemaker_session.default_bucket()\n",
    "prefix = 'sagemaker/sentiment_rnn'\n",
    "\n",
    "role = sagemaker.get_execution_role()"
   ]
  },
  {
   "cell_type": "code",
   "execution_count": 33,
   "metadata": {},
   "outputs": [],
   "source": [
    "input_data = sagemaker_session.upload_data(path=data_dir, bucket=bucket, key_prefix=prefix)"
   ]
  },
  {
   "cell_type": "markdown",
   "metadata": {},
   "source": [
    "**NOTE:** The cell above uploads the entire contents of our data directory. This includes the `word_dict.pkl` file. This is fortunate as we will need this later on when we create an endpoint that accepts an arbitrary review. For now, we will just take note of the fact that it resides in the data directory (and so also in the S3 training bucket) and that we will need to make sure it gets saved in the model directory."
   ]
  },
  {
   "cell_type": "markdown",
   "metadata": {},
   "source": [
    "## Step 4: Build and Train the PyTorch Model\n",
    "\n",
    "In the XGBoost notebook we discussed what a model is in the SageMaker framework. In particular, a model comprises three objects\n",
    "\n",
    " - Model Artifacts,\n",
    " - Training Code, and\n",
    " - Inference Code,\n",
    " \n",
    "each of which interact with one another. In the XGBoost example we used training and inference code that was provided by Amazon. Here we will still be using containers provided by Amazon with the added benefit of being able to include our own custom code.\n",
    "\n",
    "We will start by implementing our own neural network in PyTorch along with a training script. For the purposes of this project we have provided the necessary model object in the `model.py` file, inside of the `train` folder. You can see the provided implementation by running the cell below."
   ]
  },
  {
   "cell_type": "code",
   "execution_count": 34,
   "metadata": {},
   "outputs": [
    {
     "name": "stdout",
     "output_type": "stream",
     "text": [
      "\u001b[34mimport\u001b[39;49;00m \u001b[04m\u001b[36mtorch\u001b[39;49;00m\u001b[04m\u001b[36m.\u001b[39;49;00m\u001b[04m\u001b[36mnn\u001b[39;49;00m \u001b[34mas\u001b[39;49;00m \u001b[04m\u001b[36mnn\u001b[39;49;00m\r\n",
      "\r\n",
      "\u001b[34mclass\u001b[39;49;00m \u001b[04m\u001b[32mLSTMClassifier\u001b[39;49;00m(nn.Module):\r\n",
      "    \u001b[33m\"\"\"\u001b[39;49;00m\r\n",
      "\u001b[33m    This is the simple RNN model we will be using to perform Sentiment Analysis.\u001b[39;49;00m\r\n",
      "\u001b[33m    \"\"\"\u001b[39;49;00m\r\n",
      "\r\n",
      "    \u001b[34mdef\u001b[39;49;00m \u001b[32m__init__\u001b[39;49;00m(\u001b[36mself\u001b[39;49;00m, embedding_dim, hidden_dim, vocab_size):\r\n",
      "        \u001b[33m\"\"\"\u001b[39;49;00m\r\n",
      "\u001b[33m        Initialize the model by settingg up the various layers.\u001b[39;49;00m\r\n",
      "\u001b[33m        \"\"\"\u001b[39;49;00m\r\n",
      "        \u001b[36msuper\u001b[39;49;00m(LSTMClassifier, \u001b[36mself\u001b[39;49;00m).\u001b[32m__init__\u001b[39;49;00m()\r\n",
      "\r\n",
      "        \u001b[36mself\u001b[39;49;00m.embedding = nn.Embedding(vocab_size, embedding_dim, padding_idx=\u001b[34m0\u001b[39;49;00m)\r\n",
      "        \u001b[36mself\u001b[39;49;00m.lstm = nn.LSTM(embedding_dim, hidden_dim)\r\n",
      "        \u001b[36mself\u001b[39;49;00m.dense = nn.Linear(in_features=hidden_dim, out_features=\u001b[34m1\u001b[39;49;00m)\r\n",
      "        \u001b[36mself\u001b[39;49;00m.sig = nn.Sigmoid()\r\n",
      "        \r\n",
      "        \u001b[36mself\u001b[39;49;00m.word_dict = \u001b[34mNone\u001b[39;49;00m\r\n",
      "\r\n",
      "    \u001b[34mdef\u001b[39;49;00m \u001b[32mforward\u001b[39;49;00m(\u001b[36mself\u001b[39;49;00m, x):\r\n",
      "        \u001b[33m\"\"\"\u001b[39;49;00m\r\n",
      "\u001b[33m        Perform a forward pass of our model on some input.\u001b[39;49;00m\r\n",
      "\u001b[33m        \"\"\"\u001b[39;49;00m\r\n",
      "        x = x.t()\r\n",
      "        lengths = x[\u001b[34m0\u001b[39;49;00m,:]\r\n",
      "        reviews = x[\u001b[34m1\u001b[39;49;00m:,:]\r\n",
      "        embeds = \u001b[36mself\u001b[39;49;00m.embedding(reviews)\r\n",
      "        lstm_out, _ = \u001b[36mself\u001b[39;49;00m.lstm(embeds)\r\n",
      "        out = \u001b[36mself\u001b[39;49;00m.dense(lstm_out)\r\n",
      "        out = out[lengths - \u001b[34m1\u001b[39;49;00m, \u001b[36mrange\u001b[39;49;00m(\u001b[36mlen\u001b[39;49;00m(lengths))]\r\n",
      "        \u001b[34mreturn\u001b[39;49;00m \u001b[36mself\u001b[39;49;00m.sig(out.squeeze())\r\n"
     ]
    }
   ],
   "source": [
    "!pygmentize train/model.py"
   ]
  },
  {
   "cell_type": "markdown",
   "metadata": {},
   "source": [
    "The important takeaway from the implementation provided is that there are three parameters that we may wish to tweak to improve the performance of our model. These are the embedding dimension, the hidden dimension and the size of the vocabulary. We will likely want to make these parameters configurable in the training script so that if we wish to modify them we do not need to modify the script itself. We will see how to do this later on. To start we will write some of the training code in the notebook so that we can more easily diagnose any issues that arise.\n",
    "\n",
    "First we will load a small portion of the training data set to use as a sample. It would be very time consuming to try and train the model completely in the notebook as we do not have access to a gpu and the compute instance that we are using is not particularly powerful. However, we can work on a small bit of the data to get a feel for how our training script is behaving."
   ]
  },
  {
   "cell_type": "code",
   "execution_count": 35,
   "metadata": {},
   "outputs": [],
   "source": [
    "import torch\n",
    "import torch.utils.data\n",
    "\n",
    "# Read in only the first 250 rows\n",
    "train_sample = pd.read_csv(os.path.join(data_dir, 'train.csv'), header=None, names=None, nrows=250)\n",
    "# Turn the input pandas dataframe into tensors\n",
    "train_sample_y = torch.from_numpy(train_sample[[0]].values).float().squeeze()\n",
    "train_sample_X = torch.from_numpy(train_sample.drop([0], axis=1).values).long()\n",
    "\n",
    "# Build the dataset\n",
    "train_sample_ds = torch.utils.data.TensorDataset(train_sample_X, train_sample_y)\n",
    "# Build the dataloader\n",
    "train_sample_dl = torch.utils.data.DataLoader(train_sample_ds, batch_size=50)\n"
   ]
  },
  {
   "cell_type": "markdown",
   "metadata": {},
   "source": [
    "### (TODO) Writing the training method\n",
    "\n",
    "Next we need to write the training code itself. This should be very similar to training methods that you have written before to train PyTorch models. We will leave any difficult aspects such as model saving / loading and parameter loading until a little later."
   ]
  },
  {
   "cell_type": "code",
   "execution_count": 36,
   "metadata": {},
   "outputs": [],
   "source": [
    "def train(model, train_loader, epochs, optimizer, loss_fn, device):\n",
    "    for epoch in range(1, epochs + 1):\n",
    "        model.train()\n",
    "        total_loss = 0\n",
    "        for batch in train_loader:         \n",
    "            batch_X, batch_y = batch\n",
    "            \n",
    "            batch_X = batch_X.to(device)\n",
    "            batch_y = batch_y.to(device)\n",
    "            # TODO: Complete this train method to train the model provided.\n",
    "            optimizer.zero_grad() # zero out gradient\n",
    "            output = model.forward(batch_X) # forward pass of model\n",
    "            loss = loss_fn(output, batch_y) # calculate loss\n",
    "            loss.backward() # backward pass\n",
    "            optimizer.step() # optimizer step\n",
    "            total_loss += loss.data.item()\n",
    "        print(\"Epoch: {}, BCELoss: {}\".format(epoch, total_loss / len(train_loader)))"
   ]
  },
  {
   "cell_type": "markdown",
   "metadata": {},
   "source": [
    "Supposing we have the training method above, we will test that it is working by writing a bit of code in the notebook that executes our training method on the small sample training set that we loaded earlier. The reason for doing this in the notebook is so that we have an opportunity to fix any errors that arise early when they are easier to diagnose."
   ]
  },
  {
   "cell_type": "code",
   "execution_count": 37,
   "metadata": {},
   "outputs": [
    {
     "name": "stdout",
     "output_type": "stream",
     "text": [
      "Epoch: 1, BCELoss: 0.6942059755325317\n",
      "Epoch: 2, BCELoss: 0.6865791559219361\n",
      "Epoch: 3, BCELoss: 0.6801833271980285\n",
      "Epoch: 4, BCELoss: 0.6730540156364441\n",
      "Epoch: 5, BCELoss: 0.6642572522163391\n"
     ]
    }
   ],
   "source": [
    "import torch.optim as optim\n",
    "from train.model import LSTMClassifier\n",
    "\n",
    "device = torch.device(\"cuda\" if torch.cuda.is_available() else \"cpu\")\n",
    "model = LSTMClassifier(32, 100, 5000).to(device)\n",
    "optimizer = optim.Adam(model.parameters())\n",
    "loss_fn = torch.nn.BCELoss()\n",
    "\n",
    "train(model, train_sample_dl, 5, optimizer, loss_fn, device)"
   ]
  },
  {
   "cell_type": "markdown",
   "metadata": {},
   "source": [
    "In order to construct a PyTorch model using SageMaker we must provide SageMaker with a training script. We may optionally include a directory which will be copied to the container and from which our training code will be run. When the training container is executed it will check the uploaded directory (if there is one) for a `requirements.txt` file and install any required Python libraries, after which the training script will be run."
   ]
  },
  {
   "cell_type": "markdown",
   "metadata": {},
   "source": [
    "### (TODO) Training the model\n",
    "\n",
    "When a PyTorch model is constructed in SageMaker, an entry point must be specified. This is the Python file which will be executed when the model is trained. Inside of the `train` directory is a file called `train.py` which has been provided and which contains most of the necessary code to train our model. The only thing that is missing is the implementation of the `train()` method which you wrote earlier in this notebook.\n",
    "\n",
    "**TODO**: Copy the `train()` method written above and paste it into the `train/train.py` file where required.\n",
    "\n",
    "The way that SageMaker passes hyperparameters to the training script is by way of arguments. These arguments can then be parsed and used in the training script. To see how this is done take a look at the provided `train/train.py` file."
   ]
  },
  {
   "cell_type": "code",
   "execution_count": 38,
   "metadata": {},
   "outputs": [],
   "source": [
    "from sagemaker.pytorch import PyTorch\n",
    "\n",
    "estimator = PyTorch(entry_point=\"train.py\",\n",
    "                    source_dir=\"train\",\n",
    "                    role=role,\n",
    "                    framework_version='0.4.0',\n",
    "                    train_instance_count=1,\n",
    "                    py_version='py3',\n",
    "                    train_instance_type='ml.p2.xlarge',\n",
    "                    hyperparameters={\n",
    "                        'epochs': 10,\n",
    "                        'hidden_dim': 200,\n",
    "                    })"
   ]
  },
  {
   "cell_type": "code",
   "execution_count": 39,
   "metadata": {},
   "outputs": [
    {
     "name": "stderr",
     "output_type": "stream",
     "text": [
      "'create_image_uri' will be deprecated in favor of 'ImageURIProvider' class in SageMaker Python SDK v2.\n",
      "'s3_input' class will be renamed to 'TrainingInput' in SageMaker Python SDK v2.\n",
      "'create_image_uri' will be deprecated in favor of 'ImageURIProvider' class in SageMaker Python SDK v2.\n"
     ]
    },
    {
     "name": "stdout",
     "output_type": "stream",
     "text": [
      "2021-05-21 19:38:10 Starting - Starting the training job...\n",
      "2021-05-21 19:38:13 Starting - Launching requested ML instances.........\n",
      "2021-05-21 19:39:43 Starting - Preparing the instances for training.........\n",
      "2021-05-21 19:41:21 Downloading - Downloading input data...\n",
      "2021-05-21 19:42:05 Training - Downloading the training image...\n",
      "2021-05-21 19:42:30 Training - Training image download completed. Training in progress.\u001b[34mbash: cannot set terminal process group (-1): Inappropriate ioctl for device\u001b[0m\n",
      "\u001b[34mbash: no job control in this shell\u001b[0m\n",
      "\u001b[34m2021-05-21 19:42:31,200 sagemaker-containers INFO     Imported framework sagemaker_pytorch_container.training\u001b[0m\n",
      "\u001b[34m2021-05-21 19:42:31,224 sagemaker_pytorch_container.training INFO     Block until all host DNS lookups succeed.\u001b[0m\n",
      "\u001b[34m2021-05-21 19:42:34,251 sagemaker_pytorch_container.training INFO     Invoking user training script.\u001b[0m\n",
      "\u001b[34m2021-05-21 19:42:34,547 sagemaker-containers INFO     Module train does not provide a setup.py. \u001b[0m\n",
      "\u001b[34mGenerating setup.py\u001b[0m\n",
      "\u001b[34m2021-05-21 19:42:34,547 sagemaker-containers INFO     Generating setup.cfg\u001b[0m\n",
      "\u001b[34m2021-05-21 19:42:34,547 sagemaker-containers INFO     Generating MANIFEST.in\u001b[0m\n",
      "\u001b[34m2021-05-21 19:42:34,548 sagemaker-containers INFO     Installing module with the following command:\u001b[0m\n",
      "\u001b[34m/usr/bin/python -m pip install -U . -r requirements.txt\u001b[0m\n",
      "\u001b[34mProcessing /opt/ml/code\u001b[0m\n",
      "\u001b[34mCollecting pandas (from -r requirements.txt (line 1))\u001b[0m\n",
      "\u001b[34m  Downloading https://files.pythonhosted.org/packages/74/24/0cdbf8907e1e3bc5a8da03345c23cbed7044330bb8f73bb12e711a640a00/pandas-0.24.2-cp35-cp35m-manylinux1_x86_64.whl (10.0MB)\u001b[0m\n",
      "\u001b[34mCollecting numpy (from -r requirements.txt (line 2))\n",
      "  Downloading https://files.pythonhosted.org/packages/b5/36/88723426b4ff576809fec7d73594fe17a35c27f8d01f93637637a29ae25b/numpy-1.18.5-cp35-cp35m-manylinux1_x86_64.whl (19.9MB)\u001b[0m\n",
      "\u001b[34mCollecting nltk (from -r requirements.txt (line 3))\n",
      "  Downloading https://files.pythonhosted.org/packages/5e/37/9532ddd4b1bbb619333d5708aaad9bf1742f051a664c3c6fa6632a105fd8/nltk-3.6.2-py3-none-any.whl (1.5MB)\u001b[0m\n",
      "\u001b[34mCollecting beautifulsoup4 (from -r requirements.txt (line 4))\n",
      "  Downloading https://files.pythonhosted.org/packages/d1/41/e6495bd7d3781cee623ce23ea6ac73282a373088fcd0ddc809a047b18eae/beautifulsoup4-4.9.3-py3-none-any.whl (115kB)\u001b[0m\n",
      "\u001b[34mCollecting html5lib (from -r requirements.txt (line 5))\n",
      "  Downloading https://files.pythonhosted.org/packages/6c/dd/a834df6482147d48e225a49515aabc28974ad5a4ca3215c18a882565b028/html5lib-1.1-py2.py3-none-any.whl (112kB)\u001b[0m\n",
      "\u001b[34mRequirement already satisfied, skipping upgrade: python-dateutil>=2.5.0 in /usr/local/lib/python3.5/dist-packages (from pandas->-r requirements.txt (line 1)) (2.7.5)\u001b[0m\n",
      "\u001b[34mCollecting pytz>=2011k (from pandas->-r requirements.txt (line 1))\u001b[0m\n",
      "\u001b[34m  Downloading https://files.pythonhosted.org/packages/70/94/784178ca5dd892a98f113cdd923372024dc04b8d40abe77ca76b5fb90ca6/pytz-2021.1-py2.py3-none-any.whl (510kB)\u001b[0m\n",
      "\u001b[34mRequirement already satisfied, skipping upgrade: click in /usr/local/lib/python3.5/dist-packages (from nltk->-r requirements.txt (line 3)) (7.0)\u001b[0m\n",
      "\u001b[34mCollecting tqdm (from nltk->-r requirements.txt (line 3))\n",
      "  Downloading https://files.pythonhosted.org/packages/72/8a/34efae5cf9924328a8f34eeb2fdaae14c011462d9f0e3fcded48e1266d1c/tqdm-4.60.0-py2.py3-none-any.whl (75kB)\u001b[0m\n",
      "\u001b[34mCollecting regex (from nltk->-r requirements.txt (line 3))\u001b[0m\n",
      "\u001b[34m  Downloading https://files.pythonhosted.org/packages/38/3f/4c42a98c9ad7d08c16e7d23b2194a0e4f3b2914662da8bc88986e4e6de1f/regex-2021.4.4.tar.gz (693kB)\u001b[0m\n",
      "\u001b[34mCollecting joblib (from nltk->-r requirements.txt (line 3))\n",
      "  Downloading https://files.pythonhosted.org/packages/28/5c/cf6a2b65a321c4a209efcdf64c2689efae2cb62661f8f6f4bb28547cf1bf/joblib-0.14.1-py2.py3-none-any.whl (294kB)\u001b[0m\n",
      "\u001b[34mCollecting soupsieve>1.2; python_version >= \"3.0\" (from beautifulsoup4->-r requirements.txt (line 4))\n",
      "  Downloading https://files.pythonhosted.org/packages/02/fb/1c65691a9aeb7bd6ac2aa505b84cb8b49ac29c976411c6ab3659425e045f/soupsieve-2.1-py3-none-any.whl\u001b[0m\n",
      "\u001b[34mCollecting webencodings (from html5lib->-r requirements.txt (line 5))\n",
      "  Downloading https://files.pythonhosted.org/packages/f4/24/2a3e3df732393fed8b3ebf2ec078f05546de641fe1b667ee316ec1dcf3b7/webencodings-0.5.1-py2.py3-none-any.whl\u001b[0m\n",
      "\u001b[34mRequirement already satisfied, skipping upgrade: six>=1.9 in /usr/local/lib/python3.5/dist-packages (from html5lib->-r requirements.txt (line 5)) (1.11.0)\u001b[0m\n",
      "\u001b[34mBuilding wheels for collected packages: train, regex\n",
      "  Running setup.py bdist_wheel for train: started\n",
      "  Running setup.py bdist_wheel for train: finished with status 'done'\n",
      "  Stored in directory: /tmp/pip-ephem-wheel-cache-ywqzuf81/wheels/35/24/16/37574d11bf9bde50616c67372a334f94fa8356bc7164af8ca3\n",
      "  Running setup.py bdist_wheel for regex: started\u001b[0m\n",
      "\u001b[34m  Running setup.py bdist_wheel for regex: finished with status 'done'\n",
      "  Stored in directory: /root/.cache/pip/wheels/c9/05/a8/b85fa0bd7850b99f9b4f106972975f2e3c46412e12f9949b58\u001b[0m\n",
      "\u001b[34mSuccessfully built train regex\u001b[0m\n",
      "\u001b[34mInstalling collected packages: numpy, pytz, pandas, tqdm, regex, joblib, nltk, soupsieve, beautifulsoup4, webencodings, html5lib, train\n",
      "  Found existing installation: numpy 1.15.4\u001b[0m\n",
      "\u001b[34m    Uninstalling numpy-1.15.4:\n",
      "      Successfully uninstalled numpy-1.15.4\u001b[0m\n",
      "\u001b[34mSuccessfully installed beautifulsoup4-4.9.3 html5lib-1.1 joblib-0.14.1 nltk-3.6.2 numpy-1.18.5 pandas-0.24.2 pytz-2021.1 regex-2021.4.4 soupsieve-2.1 tqdm-4.60.0 train-1.0.0 webencodings-0.5.1\u001b[0m\n",
      "\u001b[34mYou are using pip version 18.1, however version 20.3.4 is available.\u001b[0m\n",
      "\u001b[34mYou should consider upgrading via the 'pip install --upgrade pip' command.\u001b[0m\n",
      "\u001b[34m2021-05-21 19:42:56,787 sagemaker-containers INFO     Invoking user script\n",
      "\u001b[0m\n",
      "\u001b[34mTraining Env:\n",
      "\u001b[0m\n",
      "\u001b[34m{\n",
      "    \"hyperparameters\": {\n",
      "        \"hidden_dim\": 200,\n",
      "        \"epochs\": 10\n",
      "    },\n",
      "    \"input_data_config\": {\n",
      "        \"training\": {\n",
      "            \"RecordWrapperType\": \"None\",\n",
      "            \"S3DistributionType\": \"FullyReplicated\",\n",
      "            \"TrainingInputMode\": \"File\"\n",
      "        }\n",
      "    },\n",
      "    \"log_level\": 20,\n",
      "    \"num_cpus\": 4,\n",
      "    \"framework_module\": \"sagemaker_pytorch_container.training:main\",\n",
      "    \"hosts\": [\n",
      "        \"algo-1\"\n",
      "    ],\n",
      "    \"output_dir\": \"/opt/ml/output\",\n",
      "    \"output_intermediate_dir\": \"/opt/ml/output/intermediate\",\n",
      "    \"resource_config\": {\n",
      "        \"hosts\": [\n",
      "            \"algo-1\"\n",
      "        ],\n",
      "        \"network_interface_name\": \"eth0\",\n",
      "        \"current_host\": \"algo-1\"\n",
      "    },\n",
      "    \"module_dir\": \"s3://sagemaker-us-west-2-729869189635/sagemaker-pytorch-2021-05-21-19-38-09-786/source/sourcedir.tar.gz\",\n",
      "    \"input_dir\": \"/opt/ml/input\",\n",
      "    \"job_name\": \"sagemaker-pytorch-2021-05-21-19-38-09-786\",\n",
      "    \"additional_framework_parameters\": {},\n",
      "    \"channel_input_dirs\": {\n",
      "        \"training\": \"/opt/ml/input/data/training\"\n",
      "    },\n",
      "    \"model_dir\": \"/opt/ml/model\",\n",
      "    \"num_gpus\": 1,\n",
      "    \"current_host\": \"algo-1\",\n",
      "    \"output_data_dir\": \"/opt/ml/output/data\",\n",
      "    \"module_name\": \"train\",\n",
      "    \"user_entry_point\": \"train.py\",\n",
      "    \"input_config_dir\": \"/opt/ml/input/config\",\n",
      "    \"network_interface_name\": \"eth0\"\u001b[0m\n",
      "\u001b[34m}\n",
      "\u001b[0m\n",
      "\u001b[34mEnvironment variables:\n",
      "\u001b[0m\n",
      "\u001b[34mSM_MODULE_NAME=train\u001b[0m\n",
      "\u001b[34mSM_HOSTS=[\"algo-1\"]\u001b[0m\n",
      "\u001b[34mSM_MODULE_DIR=s3://sagemaker-us-west-2-729869189635/sagemaker-pytorch-2021-05-21-19-38-09-786/source/sourcedir.tar.gz\u001b[0m\n",
      "\u001b[34mPYTHONPATH=/usr/local/bin:/usr/lib/python35.zip:/usr/lib/python3.5:/usr/lib/python3.5/plat-x86_64-linux-gnu:/usr/lib/python3.5/lib-dynload:/usr/local/lib/python3.5/dist-packages:/usr/lib/python3/dist-packages\u001b[0m\n",
      "\u001b[34mSM_HP_HIDDEN_DIM=200\u001b[0m\n",
      "\u001b[34mSM_INPUT_CONFIG_DIR=/opt/ml/input/config\u001b[0m\n",
      "\u001b[34mSM_NUM_GPUS=1\u001b[0m\n",
      "\u001b[34mSM_TRAINING_ENV={\"additional_framework_parameters\":{},\"channel_input_dirs\":{\"training\":\"/opt/ml/input/data/training\"},\"current_host\":\"algo-1\",\"framework_module\":\"sagemaker_pytorch_container.training:main\",\"hosts\":[\"algo-1\"],\"hyperparameters\":{\"epochs\":10,\"hidden_dim\":200},\"input_config_dir\":\"/opt/ml/input/config\",\"input_data_config\":{\"training\":{\"RecordWrapperType\":\"None\",\"S3DistributionType\":\"FullyReplicated\",\"TrainingInputMode\":\"File\"}},\"input_dir\":\"/opt/ml/input\",\"job_name\":\"sagemaker-pytorch-2021-05-21-19-38-09-786\",\"log_level\":20,\"model_dir\":\"/opt/ml/model\",\"module_dir\":\"s3://sagemaker-us-west-2-729869189635/sagemaker-pytorch-2021-05-21-19-38-09-786/source/sourcedir.tar.gz\",\"module_name\":\"train\",\"network_interface_name\":\"eth0\",\"num_cpus\":4,\"num_gpus\":1,\"output_data_dir\":\"/opt/ml/output/data\",\"output_dir\":\"/opt/ml/output\",\"output_intermediate_dir\":\"/opt/ml/output/intermediate\",\"resource_config\":{\"current_host\":\"algo-1\",\"hosts\":[\"algo-1\"],\"network_interface_name\":\"eth0\"},\"user_entry_point\":\"train.py\"}\u001b[0m\n",
      "\u001b[34mSM_INPUT_DATA_CONFIG={\"training\":{\"RecordWrapperType\":\"None\",\"S3DistributionType\":\"FullyReplicated\",\"TrainingInputMode\":\"File\"}}\u001b[0m\n",
      "\u001b[34mSM_USER_ENTRY_POINT=train.py\u001b[0m\n",
      "\u001b[34mSM_NETWORK_INTERFACE_NAME=eth0\u001b[0m\n",
      "\u001b[34mSM_FRAMEWORK_PARAMS={}\u001b[0m\n",
      "\u001b[34mSM_HP_EPOCHS=10\u001b[0m\n",
      "\u001b[34mSM_HPS={\"epochs\":10,\"hidden_dim\":200}\u001b[0m\n",
      "\u001b[34mSM_MODEL_DIR=/opt/ml/model\u001b[0m\n",
      "\u001b[34mSM_LOG_LEVEL=20\u001b[0m\n",
      "\u001b[34mSM_NUM_CPUS=4\u001b[0m\n",
      "\u001b[34mSM_USER_ARGS=[\"--epochs\",\"10\",\"--hidden_dim\",\"200\"]\u001b[0m\n",
      "\u001b[34mSM_OUTPUT_INTERMEDIATE_DIR=/opt/ml/output/intermediate\u001b[0m\n",
      "\u001b[34mSM_OUTPUT_DIR=/opt/ml/output\u001b[0m\n",
      "\u001b[34mSM_RESOURCE_CONFIG={\"current_host\":\"algo-1\",\"hosts\":[\"algo-1\"],\"network_interface_name\":\"eth0\"}\u001b[0m\n",
      "\u001b[34mSM_CHANNEL_TRAINING=/opt/ml/input/data/training\u001b[0m\n",
      "\u001b[34mSM_OUTPUT_DATA_DIR=/opt/ml/output/data\u001b[0m\n",
      "\u001b[34mSM_FRAMEWORK_MODULE=sagemaker_pytorch_container.training:main\u001b[0m\n",
      "\u001b[34mSM_CHANNELS=[\"training\"]\u001b[0m\n",
      "\u001b[34mSM_CURRENT_HOST=algo-1\u001b[0m\n",
      "\u001b[34mSM_INPUT_DIR=/opt/ml/input\n",
      "\u001b[0m\n",
      "\u001b[34mInvoking script with the following command:\n",
      "\u001b[0m\n",
      "\u001b[34m/usr/bin/python -m train --epochs 10 --hidden_dim 200\n",
      "\n",
      "\u001b[0m\n",
      "\u001b[34mUsing device cuda.\u001b[0m\n",
      "\u001b[34mGet train data loader.\u001b[0m\n",
      "\u001b[34mModel loaded with embedding_dim 32, hidden_dim 200, vocab_size 5000.\u001b[0m\n",
      "\u001b[34mEpoch: 1, BCELoss: 0.673249155891185\u001b[0m\n",
      "\u001b[34mEpoch: 2, BCELoss: 0.6080928311056021\u001b[0m\n",
      "\u001b[34mEpoch: 3, BCELoss: 0.51185513819967\u001b[0m\n",
      "\u001b[34mEpoch: 4, BCELoss: 0.47861186947141376\u001b[0m\n",
      "\u001b[34mEpoch: 5, BCELoss: 0.404347478126993\u001b[0m\n",
      "\u001b[34mEpoch: 6, BCELoss: 0.3662181478373858\u001b[0m\n",
      "\u001b[34mEpoch: 7, BCELoss: 0.3796237980832859\u001b[0m\n",
      "\u001b[34mEpoch: 8, BCELoss: 0.3270360231399536\u001b[0m\n",
      "\u001b[34mEpoch: 9, BCELoss: 0.3085675844732596\u001b[0m\n",
      "\u001b[34mEpoch: 10, BCELoss: 0.2783964215492716\u001b[0m\n",
      "\u001b[34m2021-05-21 19:45:54,730 sagemaker-containers INFO     Reporting training SUCCESS\u001b[0m\n",
      "\n",
      "2021-05-21 19:46:02 Uploading - Uploading generated training model\n",
      "2021-05-21 19:46:02 Completed - Training job completed\n",
      "Training seconds: 281\n",
      "Billable seconds: 281\n"
     ]
    }
   ],
   "source": [
    "estimator.fit({'training': input_data})"
   ]
  },
  {
   "cell_type": "markdown",
   "metadata": {},
   "source": [
    "## Step 5: Testing the model\n",
    "\n",
    "As mentioned at the top of this notebook, we will be testing this model by first deploying it and then sending the testing data to the deployed endpoint. We will do this so that we can make sure that the deployed model is working correctly.\n",
    "\n",
    "## Step 6: Deploy the model for testing\n",
    "\n",
    "Now that we have trained our model, we would like to test it to see how it performs. Currently our model takes input of the form `review_length, review[500]` where `review[500]` is a sequence of `500` integers which describe the words present in the review, encoded using `word_dict`. Fortunately for us, SageMaker provides built-in inference code for models with simple inputs such as this.\n",
    "\n",
    "There is one thing that we need to provide, however, and that is a function which loads the saved model. This function must be called `model_fn()` and takes as its only parameter a path to the directory where the model artifacts are stored. This function must also be present in the python file which we specified as the entry point. In our case the model loading function has been provided and so no changes need to be made.\n",
    "\n",
    "**NOTE**: When the built-in inference code is run it must import the `model_fn()` method from the `train.py` file. This is why the training code is wrapped in a main guard ( ie, `if __name__ == '__main__':` )\n",
    "\n",
    "Since we don't need to change anything in the code that was uploaded during training, we can simply deploy the current model as-is.\n",
    "\n",
    "**NOTE:** When deploying a model you are asking SageMaker to launch an compute instance that will wait for data to be sent to it. As a result, this compute instance will continue to run until *you* shut it down. This is important to know since the cost of a deployed endpoint depends on how long it has been running for.\n",
    "\n",
    "In other words **If you are no longer using a deployed endpoint, shut it down!**\n",
    "\n",
    "**TODO:** Deploy the trained model."
   ]
  },
  {
   "cell_type": "code",
   "execution_count": 89,
   "metadata": {},
   "outputs": [
    {
     "name": "stderr",
     "output_type": "stream",
     "text": [
      "Parameter image will be renamed to image_uri in SageMaker Python SDK v2.\n",
      "'create_image_uri' will be deprecated in favor of 'ImageURIProvider' class in SageMaker Python SDK v2.\n",
      "Using already existing model: sagemaker-pytorch-2021-05-21-19-38-09-786\n"
     ]
    },
    {
     "name": "stdout",
     "output_type": "stream",
     "text": [
      "-------------!"
     ]
    }
   ],
   "source": [
    "# TODO: Deploy the trained model\n",
    "# Uncomment to deploy\n",
    "predictor = estimator.deploy(initial_instance_count = 1, instance_type = 'ml.m4.xlarge')"
   ]
  },
  {
   "cell_type": "markdown",
   "metadata": {},
   "source": [
    "## Step 7 - Use the model for testing\n",
    "\n",
    "Once deployed, we can read in the test data and send it off to our deployed model to get some results. Once we collect all of the results we can determine how accurate our model is."
   ]
  },
  {
   "cell_type": "code",
   "execution_count": 41,
   "metadata": {},
   "outputs": [],
   "source": [
    "test_X = pd.concat([pd.DataFrame(test_X_len), pd.DataFrame(test_X)], axis=1)"
   ]
  },
  {
   "cell_type": "code",
   "execution_count": 42,
   "metadata": {},
   "outputs": [],
   "source": [
    "# We split the data into chunks and send each chunk seperately, accumulating the results.\n",
    "\n",
    "def predict(data, rows=512):\n",
    "    split_array = np.array_split(data, int(data.shape[0] / float(rows) + 1))\n",
    "    predictions = np.array([])\n",
    "    for array in split_array:\n",
    "        predictions = np.append(predictions, predictor.predict(array))\n",
    "    \n",
    "    return predictions"
   ]
  },
  {
   "cell_type": "code",
   "execution_count": 44,
   "metadata": {},
   "outputs": [],
   "source": [
    "predictions = predict(test_X.values)\n",
    "predictions = [round(num) for num in predictions]"
   ]
  },
  {
   "cell_type": "code",
   "execution_count": 45,
   "metadata": {},
   "outputs": [
    {
     "data": {
      "text/plain": [
       "0.84424"
      ]
     },
     "execution_count": 45,
     "metadata": {},
     "output_type": "execute_result"
    }
   ],
   "source": [
    "from sklearn.metrics import accuracy_score\n",
    "accuracy_score(test_y, predictions)"
   ]
  },
  {
   "cell_type": "markdown",
   "metadata": {},
   "source": [
    "**Question:** How does this model compare to the XGBoost model you created earlier? Why might these two models perform differently on this dataset? Which do *you* think is better for sentiment analysis?"
   ]
  },
  {
   "cell_type": "markdown",
   "metadata": {},
   "source": [
    "**Answer:** This model performed pretty well, 84% accuracy, similar to how the XGBoost performed with parameter tuning.  For sentiment analysis, I think a RNN is likely preferred as it allows for handling of larger, more abstract data sets like text."
   ]
  },
  {
   "cell_type": "markdown",
   "metadata": {},
   "source": [
    "### (TODO) More testing\n",
    "\n",
    "We now have a trained model which has been deployed and which we can send processed reviews to and which returns the predicted sentiment. However, ultimately we would like to be able to send our model an unprocessed review. That is, we would like to send the review itself as a string. For example, suppose we wish to send the following review to our model."
   ]
  },
  {
   "cell_type": "code",
   "execution_count": 91,
   "metadata": {},
   "outputs": [],
   "source": [
    "test_review = 'The simplest pleasures in life are the best, and this film is one of them. Combining a rather basic storyline of love and adventure this movie transcends the usual weekend fair with wit and unmitigated charm.'"
   ]
  },
  {
   "cell_type": "markdown",
   "metadata": {},
   "source": [
    "The question we now need to answer is, how do we send this review to our model?\n",
    "\n",
    "Recall in the first section of this notebook we did a bunch of data processing to the IMDb dataset. In particular, we did two specific things to the provided reviews.\n",
    " - Removed any html tags and stemmed the input\n",
    " - Encoded the review as a sequence of integers using `word_dict`\n",
    " \n",
    "In order process the review we will need to repeat these two steps.\n",
    "\n",
    "**TODO**: Using the `review_to_words` and `convert_and_pad` methods from section one, convert `test_review` into a numpy array `test_data` suitable to send to our model. Remember that our model expects input of the form `review_length, review[500]`."
   ]
  },
  {
   "cell_type": "code",
   "execution_count": 93,
   "metadata": {},
   "outputs": [
    {
     "name": "stdout",
     "output_type": "stream",
     "text": [
      "[[  20    1 1375   50   53    3    4  878  173  392  682   29  724    2\n",
      "  4434  275 2075 1059  760    1  582    0    0    0    0    0    0    0\n",
      "     0    0    0    0    0    0    0    0    0    0    0    0    0    0\n",
      "     0    0    0    0    0    0    0    0    0    0    0    0    0    0\n",
      "     0    0    0    0    0    0    0    0    0    0    0    0    0    0\n",
      "     0    0    0    0    0    0    0    0    0    0    0    0    0    0\n",
      "     0    0    0    0    0    0    0    0    0    0    0    0    0    0\n",
      "     0    0    0    0    0    0    0    0    0    0    0    0    0    0\n",
      "     0    0    0    0    0    0    0    0    0    0    0    0    0    0\n",
      "     0    0    0    0    0    0    0    0    0    0    0    0    0    0\n",
      "     0    0    0    0    0    0    0    0    0    0    0    0    0    0\n",
      "     0    0    0    0    0    0    0    0    0    0    0    0    0    0\n",
      "     0    0    0    0    0    0    0    0    0    0    0    0    0    0\n",
      "     0    0    0    0    0    0    0    0    0    0    0    0    0    0\n",
      "     0    0    0    0    0    0    0    0    0    0    0    0    0    0\n",
      "     0    0    0    0    0    0    0    0    0    0    0    0    0    0\n",
      "     0    0    0    0    0    0    0    0    0    0    0    0    0    0\n",
      "     0    0    0    0    0    0    0    0    0    0    0    0    0    0\n",
      "     0    0    0    0    0    0    0    0    0    0    0    0    0    0\n",
      "     0    0    0    0    0    0    0    0    0    0    0    0    0    0\n",
      "     0    0    0    0    0    0    0    0    0    0    0    0    0    0\n",
      "     0    0    0    0    0    0    0    0    0    0    0    0    0    0\n",
      "     0    0    0    0    0    0    0    0    0    0    0    0    0    0\n",
      "     0    0    0    0    0    0    0    0    0    0    0    0    0    0\n",
      "     0    0    0    0    0    0    0    0    0    0    0    0    0    0\n",
      "     0    0    0    0    0    0    0    0    0    0    0    0    0    0\n",
      "     0    0    0    0    0    0    0    0    0    0    0    0    0    0\n",
      "     0    0    0    0    0    0    0    0    0    0    0    0    0    0\n",
      "     0    0    0    0    0    0    0    0    0    0    0    0    0    0\n",
      "     0    0    0    0    0    0    0    0    0    0    0    0    0    0\n",
      "     0    0    0    0    0    0    0    0    0    0    0    0    0    0\n",
      "     0    0    0    0    0    0    0    0    0    0    0    0    0    0\n",
      "     0    0    0    0    0    0    0    0    0    0    0    0    0    0\n",
      "     0    0    0    0    0    0    0    0    0    0    0    0    0    0\n",
      "     0    0    0    0    0    0    0    0    0    0    0    0    0    0\n",
      "     0    0    0    0    0    0    0    0    0    0    0]]\n"
     ]
    }
   ],
   "source": [
    "# TODO: Convert test_review into a form usable by the model and save the results in test_data\n",
    "test_data = review_to_words(test_review)\n",
    "\n",
    "test_data = convert_and_pad(word_dict,test_data)\n",
    "test_data = np.expand_dims(np.hstack((test_data[1], test_data[0])), axis=0)\n",
    "print(test_data)\n",
    "\n",
    "\n"
   ]
  },
  {
   "cell_type": "markdown",
   "metadata": {},
   "source": [
    "Now that we have processed the review, we can send the resulting array to our model to predict the sentiment of the review."
   ]
  },
  {
   "cell_type": "code",
   "execution_count": 96,
   "metadata": {},
   "outputs": [
    {
     "data": {
      "text/plain": [
       "array(0.8074707, dtype=float32)"
      ]
     },
     "execution_count": 96,
     "metadata": {},
     "output_type": "execute_result"
    }
   ],
   "source": [
    "predictor.predict(test_data)\n"
   ]
  },
  {
   "cell_type": "markdown",
   "metadata": {},
   "source": [
    "Since the return value of our model is close to `1`, we can be certain that the review we submitted is positive."
   ]
  },
  {
   "cell_type": "markdown",
   "metadata": {},
   "source": [
    "### Delete the endpoint\n",
    "\n",
    "Of course, just like in the XGBoost notebook, once we've deployed an endpoint it continues to run until we tell it to shut down. Since we are done using our endpoint for now, we can delete it."
   ]
  },
  {
   "cell_type": "code",
   "execution_count": 97,
   "metadata": {},
   "outputs": [
    {
     "name": "stderr",
     "output_type": "stream",
     "text": [
      "estimator.delete_endpoint() will be deprecated in SageMaker Python SDK v2. Please use the delete_endpoint() function on your predictor instead.\n"
     ]
    }
   ],
   "source": [
    "estimator.delete_endpoint()"
   ]
  },
  {
   "cell_type": "markdown",
   "metadata": {},
   "source": [
    "## Step 6 (again) - Deploy the model for the web app\n",
    "\n",
    "Now that we know that our model is working, it's time to create some custom inference code so that we can send the model a review which has not been processed and have it determine the sentiment of the review.\n",
    "\n",
    "As we saw above, by default the estimator which we created, when deployed, will use the entry script and directory which we provided when creating the model. However, since we now wish to accept a string as input and our model expects a processed review, we need to write some custom inference code.\n",
    "\n",
    "We will store the code that we write in the `serve` directory. Provided in this directory is the `model.py` file that we used to construct our model, a `utils.py` file which contains the `review_to_words` and `convert_and_pad` pre-processing functions which we used during the initial data processing, and `predict.py`, the file which will contain our custom inference code. Note also that `requirements.txt` is present which will tell SageMaker what Python libraries are required by our custom inference code.\n",
    "\n",
    "When deploying a PyTorch model in SageMaker, you are expected to provide four functions which the SageMaker inference container will use.\n",
    " - `model_fn`: This function is the same function that we used in the training script and it tells SageMaker how to load our model.\n",
    " - `input_fn`: This function receives the raw serialized input that has been sent to the model's endpoint and its job is to de-serialize and make the input available for the inference code.\n",
    " - `output_fn`: This function takes the output of the inference code and its job is to serialize this output and return it to the caller of the model's endpoint.\n",
    " - `predict_fn`: The heart of the inference script, this is where the actual prediction is done and is the function which you will need to complete.\n",
    "\n",
    "For the simple website that we are constructing during this project, the `input_fn` and `output_fn` methods are relatively straightforward. We only require being able to accept a string as input and we expect to return a single value as output. You might imagine though that in a more complex application the input or output may be image data or some other binary data which would require some effort to serialize.\n",
    "\n",
    "### (TODO) Writing inference code\n",
    "\n",
    "Before writing our custom inference code, we will begin by taking a look at the code which has been provided."
   ]
  },
  {
   "cell_type": "code",
   "execution_count": 98,
   "metadata": {},
   "outputs": [
    {
     "name": "stdout",
     "output_type": "stream",
     "text": [
      "\u001b[34mimport\u001b[39;49;00m \u001b[04m\u001b[36margparse\u001b[39;49;00m\r\n",
      "\u001b[34mimport\u001b[39;49;00m \u001b[04m\u001b[36mjson\u001b[39;49;00m\r\n",
      "\u001b[34mimport\u001b[39;49;00m \u001b[04m\u001b[36mos\u001b[39;49;00m\r\n",
      "\u001b[34mimport\u001b[39;49;00m \u001b[04m\u001b[36mpickle\u001b[39;49;00m\r\n",
      "\u001b[34mimport\u001b[39;49;00m \u001b[04m\u001b[36msys\u001b[39;49;00m\r\n",
      "\u001b[34mimport\u001b[39;49;00m \u001b[04m\u001b[36msagemaker_containers\u001b[39;49;00m\r\n",
      "\u001b[34mimport\u001b[39;49;00m \u001b[04m\u001b[36mpandas\u001b[39;49;00m \u001b[34mas\u001b[39;49;00m \u001b[04m\u001b[36mpd\u001b[39;49;00m\r\n",
      "\u001b[34mimport\u001b[39;49;00m \u001b[04m\u001b[36mnumpy\u001b[39;49;00m \u001b[34mas\u001b[39;49;00m \u001b[04m\u001b[36mnp\u001b[39;49;00m\r\n",
      "\u001b[34mimport\u001b[39;49;00m \u001b[04m\u001b[36mtorch\u001b[39;49;00m\r\n",
      "\u001b[34mimport\u001b[39;49;00m \u001b[04m\u001b[36mtorch\u001b[39;49;00m\u001b[04m\u001b[36m.\u001b[39;49;00m\u001b[04m\u001b[36mnn\u001b[39;49;00m \u001b[34mas\u001b[39;49;00m \u001b[04m\u001b[36mnn\u001b[39;49;00m\r\n",
      "\u001b[34mimport\u001b[39;49;00m \u001b[04m\u001b[36mtorch\u001b[39;49;00m\u001b[04m\u001b[36m.\u001b[39;49;00m\u001b[04m\u001b[36moptim\u001b[39;49;00m \u001b[34mas\u001b[39;49;00m \u001b[04m\u001b[36moptim\u001b[39;49;00m\r\n",
      "\u001b[34mimport\u001b[39;49;00m \u001b[04m\u001b[36mtorch\u001b[39;49;00m\u001b[04m\u001b[36m.\u001b[39;49;00m\u001b[04m\u001b[36mutils\u001b[39;49;00m\u001b[04m\u001b[36m.\u001b[39;49;00m\u001b[04m\u001b[36mdata\u001b[39;49;00m\r\n",
      "\r\n",
      "\u001b[34mfrom\u001b[39;49;00m \u001b[04m\u001b[36mmodel\u001b[39;49;00m \u001b[34mimport\u001b[39;49;00m LSTMClassifier\r\n",
      "\r\n",
      "\u001b[34mfrom\u001b[39;49;00m \u001b[04m\u001b[36mutils\u001b[39;49;00m \u001b[34mimport\u001b[39;49;00m review_to_words, convert_and_pad\r\n",
      "\r\n",
      "\u001b[34mdef\u001b[39;49;00m \u001b[32mmodel_fn\u001b[39;49;00m(model_dir):\r\n",
      "    \u001b[33m\"\"\"Load the PyTorch model from the `model_dir` directory.\"\"\"\u001b[39;49;00m\r\n",
      "    \u001b[36mprint\u001b[39;49;00m(\u001b[33m\"\u001b[39;49;00m\u001b[33mLoading model.\u001b[39;49;00m\u001b[33m\"\u001b[39;49;00m)\r\n",
      "\r\n",
      "    \u001b[37m# First, load the parameters used to create the model.\u001b[39;49;00m\r\n",
      "    model_info = {}\r\n",
      "    model_info_path = os.path.join(model_dir, \u001b[33m'\u001b[39;49;00m\u001b[33mmodel_info.pth\u001b[39;49;00m\u001b[33m'\u001b[39;49;00m)\r\n",
      "    \u001b[34mwith\u001b[39;49;00m \u001b[36mopen\u001b[39;49;00m(model_info_path, \u001b[33m'\u001b[39;49;00m\u001b[33mrb\u001b[39;49;00m\u001b[33m'\u001b[39;49;00m) \u001b[34mas\u001b[39;49;00m f:\r\n",
      "        model_info = torch.load(f)\r\n",
      "\r\n",
      "    \u001b[36mprint\u001b[39;49;00m(\u001b[33m\"\u001b[39;49;00m\u001b[33mmodel_info: \u001b[39;49;00m\u001b[33m{}\u001b[39;49;00m\u001b[33m\"\u001b[39;49;00m.format(model_info))\r\n",
      "\r\n",
      "    \u001b[37m# Determine the device and construct the model.\u001b[39;49;00m\r\n",
      "    device = torch.device(\u001b[33m\"\u001b[39;49;00m\u001b[33mcuda\u001b[39;49;00m\u001b[33m\"\u001b[39;49;00m \u001b[34mif\u001b[39;49;00m torch.cuda.is_available() \u001b[34melse\u001b[39;49;00m \u001b[33m\"\u001b[39;49;00m\u001b[33mcpu\u001b[39;49;00m\u001b[33m\"\u001b[39;49;00m)\r\n",
      "    model = LSTMClassifier(model_info[\u001b[33m'\u001b[39;49;00m\u001b[33membedding_dim\u001b[39;49;00m\u001b[33m'\u001b[39;49;00m], model_info[\u001b[33m'\u001b[39;49;00m\u001b[33mhidden_dim\u001b[39;49;00m\u001b[33m'\u001b[39;49;00m], model_info[\u001b[33m'\u001b[39;49;00m\u001b[33mvocab_size\u001b[39;49;00m\u001b[33m'\u001b[39;49;00m])\r\n",
      "\r\n",
      "    \u001b[37m# Load the store model parameters.\u001b[39;49;00m\r\n",
      "    model_path = os.path.join(model_dir, \u001b[33m'\u001b[39;49;00m\u001b[33mmodel.pth\u001b[39;49;00m\u001b[33m'\u001b[39;49;00m)\r\n",
      "    \u001b[34mwith\u001b[39;49;00m \u001b[36mopen\u001b[39;49;00m(model_path, \u001b[33m'\u001b[39;49;00m\u001b[33mrb\u001b[39;49;00m\u001b[33m'\u001b[39;49;00m) \u001b[34mas\u001b[39;49;00m f:\r\n",
      "        model.load_state_dict(torch.load(f))\r\n",
      "\r\n",
      "    \u001b[37m# Load the saved word_dict.\u001b[39;49;00m\r\n",
      "    word_dict_path = os.path.join(model_dir, \u001b[33m'\u001b[39;49;00m\u001b[33mword_dict.pkl\u001b[39;49;00m\u001b[33m'\u001b[39;49;00m)\r\n",
      "    \u001b[34mwith\u001b[39;49;00m \u001b[36mopen\u001b[39;49;00m(word_dict_path, \u001b[33m'\u001b[39;49;00m\u001b[33mrb\u001b[39;49;00m\u001b[33m'\u001b[39;49;00m) \u001b[34mas\u001b[39;49;00m f:\r\n",
      "        model.word_dict = pickle.load(f)\r\n",
      "\r\n",
      "    model.to(device).eval()\r\n",
      "\r\n",
      "    \u001b[36mprint\u001b[39;49;00m(\u001b[33m\"\u001b[39;49;00m\u001b[33mDone loading model.\u001b[39;49;00m\u001b[33m\"\u001b[39;49;00m)\r\n",
      "    \u001b[34mreturn\u001b[39;49;00m model\r\n",
      "\r\n",
      "\u001b[34mdef\u001b[39;49;00m \u001b[32minput_fn\u001b[39;49;00m(serialized_input_data, content_type):\r\n",
      "    \u001b[36mprint\u001b[39;49;00m(\u001b[33m'\u001b[39;49;00m\u001b[33mDeserializing the input data.\u001b[39;49;00m\u001b[33m'\u001b[39;49;00m)\r\n",
      "    \u001b[34mif\u001b[39;49;00m content_type == \u001b[33m'\u001b[39;49;00m\u001b[33mtext/plain\u001b[39;49;00m\u001b[33m'\u001b[39;49;00m:\r\n",
      "        data = serialized_input_data.decode(\u001b[33m'\u001b[39;49;00m\u001b[33mutf-8\u001b[39;49;00m\u001b[33m'\u001b[39;49;00m)\r\n",
      "        \u001b[34mreturn\u001b[39;49;00m data\r\n",
      "    \u001b[34mraise\u001b[39;49;00m \u001b[36mException\u001b[39;49;00m(\u001b[33m'\u001b[39;49;00m\u001b[33mRequested unsupported ContentType in content_type: \u001b[39;49;00m\u001b[33m'\u001b[39;49;00m + content_type)\r\n",
      "\r\n",
      "\u001b[34mdef\u001b[39;49;00m \u001b[32moutput_fn\u001b[39;49;00m(prediction_output, accept):\r\n",
      "    \u001b[36mprint\u001b[39;49;00m(\u001b[33m'\u001b[39;49;00m\u001b[33mSerializing the generated output.\u001b[39;49;00m\u001b[33m'\u001b[39;49;00m)\r\n",
      "    \u001b[34mreturn\u001b[39;49;00m \u001b[36mstr\u001b[39;49;00m(prediction_output)\r\n",
      "\r\n",
      "\u001b[34mdef\u001b[39;49;00m \u001b[32mpredict_fn\u001b[39;49;00m(input_data, model):\r\n",
      "    \u001b[36mprint\u001b[39;49;00m(\u001b[33m'\u001b[39;49;00m\u001b[33mInferring sentiment of input data.\u001b[39;49;00m\u001b[33m'\u001b[39;49;00m)\r\n",
      "\r\n",
      "    device = torch.device(\u001b[33m\"\u001b[39;49;00m\u001b[33mcuda\u001b[39;49;00m\u001b[33m\"\u001b[39;49;00m \u001b[34mif\u001b[39;49;00m torch.cuda.is_available() \u001b[34melse\u001b[39;49;00m \u001b[33m\"\u001b[39;49;00m\u001b[33mcpu\u001b[39;49;00m\u001b[33m\"\u001b[39;49;00m)\r\n",
      "    \r\n",
      "    \u001b[34mif\u001b[39;49;00m model.word_dict \u001b[35mis\u001b[39;49;00m \u001b[34mNone\u001b[39;49;00m:\r\n",
      "        \u001b[34mraise\u001b[39;49;00m \u001b[36mException\u001b[39;49;00m(\u001b[33m'\u001b[39;49;00m\u001b[33mModel has not been loaded properly, no word_dict.\u001b[39;49;00m\u001b[33m'\u001b[39;49;00m)\r\n",
      "    \r\n",
      "    \u001b[37m# TODO: Process input_data so that it is ready to be sent to our model.\u001b[39;49;00m\r\n",
      "    \u001b[37m#       You should produce two variables:\u001b[39;49;00m\r\n",
      "    \u001b[37m#         data_X   - A sequence of length 500 which represents the converted review\u001b[39;49;00m\r\n",
      "    \u001b[37m#         data_len - The length of the review\u001b[39;49;00m\r\n",
      "    input_words = review_to_words(input_data)\r\n",
      "    data_X, data_len = convert_and_pad(model.word_dict, input_words)\r\n",
      "\r\n",
      "    \u001b[37m# Using data_X and data_len we construct an appropriate input tensor. Remember\u001b[39;49;00m\r\n",
      "    \u001b[37m# that our model expects input data of the form 'len, review[500]'.\u001b[39;49;00m\r\n",
      "    data_pack = np.hstack((data_len, data_X))\r\n",
      "    data_pack = data_pack.reshape(\u001b[34m1\u001b[39;49;00m, -\u001b[34m1\u001b[39;49;00m)\r\n",
      "    \r\n",
      "    data = torch.from_numpy(data_pack)\r\n",
      "    data = data.to(device)\r\n",
      "\r\n",
      "    \u001b[37m# Make sure to put the model into evaluation mode\u001b[39;49;00m\r\n",
      "    model.eval()\r\n",
      "\r\n",
      "    \u001b[37m# TODO: Compute the result of applying the model to the input data. The variable `result` should\u001b[39;49;00m\r\n",
      "    \u001b[37m#       be a numpy array which contains a single integer which is either 1 or 0\u001b[39;49;00m\r\n",
      "\r\n",
      "    result = model.forward(data)\r\n",
      "    result = np.round(result.detach().numpy())\r\n",
      "\r\n",
      "    \u001b[34mreturn\u001b[39;49;00m result\r\n"
     ]
    }
   ],
   "source": [
    "!pygmentize serve/predict.py"
   ]
  },
  {
   "cell_type": "markdown",
   "metadata": {},
   "source": [
    "As mentioned earlier, the `model_fn` method is the same as the one provided in the training code and the `input_fn` and `output_fn` methods are very simple and your task will be to complete the `predict_fn` method. Make sure that you save the completed file as `predict.py` in the `serve` directory.\n",
    "\n",
    "**TODO**: Complete the `predict_fn()` method in the `serve/predict.py` file."
   ]
  },
  {
   "cell_type": "markdown",
   "metadata": {},
   "source": [
    "### Deploying the model\n",
    "\n",
    "Now that the custom inference code has been written, we will create and deploy our model. To begin with, we need to construct a new PyTorchModel object which points to the model artifacts created during training and also points to the inference code that we wish to use. Then we can call the deploy method to launch the deployment container.\n",
    "\n",
    "**NOTE**: The default behaviour for a deployed PyTorch model is to assume that any input passed to the predictor is a `numpy` array. In our case we want to send a string so we need to construct a simple wrapper around the `RealTimePredictor` class to accomodate simple strings. In a more complicated situation you may want to provide a serialization object, for example if you wanted to sent image data."
   ]
  },
  {
   "cell_type": "code",
   "execution_count": 39,
   "metadata": {},
   "outputs": [
    {
     "name": "stderr",
     "output_type": "stream",
     "text": [
      "Parameter image will be renamed to image_uri in SageMaker Python SDK v2.\n",
      "'create_image_uri' will be deprecated in favor of 'ImageURIProvider' class in SageMaker Python SDK v2.\n"
     ]
    },
    {
     "name": "stdout",
     "output_type": "stream",
     "text": [
      "-------------!"
     ]
    }
   ],
   "source": [
    "from sagemaker.predictor import RealTimePredictor\n",
    "from sagemaker.pytorch import PyTorchModel\n",
    "\n",
    "class StringPredictor(RealTimePredictor):\n",
    "    def __init__(self, endpoint_name, sagemaker_session):\n",
    "        super(StringPredictor, self).__init__(endpoint_name, sagemaker_session, content_type='text/plain')\n",
    "\n",
    "model = PyTorchModel(model_data=estimator.model_data,\n",
    "                     role = role,\n",
    "                     framework_version='0.4.0',\n",
    "                     entry_point='predict.py',\n",
    "                     source_dir='serve',\n",
    "                     predictor_cls=StringPredictor)\n",
    "predictor = model.deploy(initial_instance_count=1, instance_type='ml.m4.xlarge')"
   ]
  },
  {
   "cell_type": "markdown",
   "metadata": {},
   "source": [
    "### Testing the model\n",
    "\n",
    "Now that we have deployed our model with the custom inference code, we should test to see if everything is working. Here we test our model by loading the first `250` positive and negative reviews and send them to the endpoint, then collect the results. The reason for only sending some of the data is that the amount of time it takes for our model to process the input and then perform inference is quite long and so testing the entire data set would be prohibitive."
   ]
  },
  {
   "cell_type": "code",
   "execution_count": 40,
   "metadata": {},
   "outputs": [],
   "source": [
    "import glob\n",
    "\n",
    "def test_reviews(data_dir='../data/aclImdb', stop=250):\n",
    "    \n",
    "    results = []\n",
    "    ground = []\n",
    "    \n",
    "    # We make sure to test both positive and negative reviews    \n",
    "    for sentiment in ['pos', 'neg']:\n",
    "        \n",
    "        path = os.path.join(data_dir, 'test', sentiment, '*.txt')\n",
    "        files = glob.glob(path)\n",
    "        \n",
    "        files_read = 0\n",
    "        \n",
    "        print('Starting ', sentiment, ' files')\n",
    "        \n",
    "        # Iterate through the files and send them to the predictor\n",
    "        for f in files:\n",
    "            with open(f) as review:\n",
    "                # First, we store the ground truth (was the review positive or negative)\n",
    "                if sentiment == 'pos':\n",
    "                    ground.append(1)\n",
    "                else:\n",
    "                    ground.append(0)\n",
    "                # Read in the review and convert to 'utf-8' for transmission via HTTP\n",
    "                review_input = review.read().encode('utf-8')\n",
    "                # Send the review to the predictor and store the results\n",
    "                results.append(float(predictor.predict(review_input)))\n",
    "                \n",
    "            # Sending reviews to our endpoint one at a time takes a while so we\n",
    "            # only send a small number of reviews\n",
    "            files_read += 1\n",
    "            if files_read == stop:\n",
    "                break\n",
    "            \n",
    "    return ground, results"
   ]
  },
  {
   "cell_type": "code",
   "execution_count": 41,
   "metadata": {},
   "outputs": [
    {
     "name": "stdout",
     "output_type": "stream",
     "text": [
      "Starting  pos  files\n",
      "Starting  neg  files\n"
     ]
    }
   ],
   "source": [
    "#!pip install pandas==0.22\n",
    "ground, results = test_reviews()"
   ]
  },
  {
   "cell_type": "code",
   "execution_count": 42,
   "metadata": {},
   "outputs": [
    {
     "data": {
      "text/plain": [
       "0.848"
      ]
     },
     "execution_count": 42,
     "metadata": {},
     "output_type": "execute_result"
    }
   ],
   "source": [
    "from sklearn.metrics import accuracy_score\n",
    "accuracy_score(ground, results)"
   ]
  },
  {
   "cell_type": "markdown",
   "metadata": {},
   "source": [
    "As an additional test, we can try sending the `test_review` that we looked at earlier."
   ]
  },
  {
   "cell_type": "code",
   "execution_count": 45,
   "metadata": {},
   "outputs": [
    {
     "data": {
      "text/plain": [
       "b'1.0'"
      ]
     },
     "execution_count": 45,
     "metadata": {},
     "output_type": "execute_result"
    }
   ],
   "source": [
    "predictor.predict(test_review)"
   ]
  },
  {
   "cell_type": "markdown",
   "metadata": {},
   "source": [
    "Now that we know our endpoint is working as expected, we can set up the web page that will interact with it. If you don't have time to finish the project now, make sure to skip down to the end of this notebook and shut down your endpoint. You can deploy it again when you come back."
   ]
  },
  {
   "cell_type": "markdown",
   "metadata": {},
   "source": [
    "## Step 7 (again): Use the model for the web app\n",
    "\n",
    "> **TODO:** This entire section and the next contain tasks for you to complete, mostly using the AWS console.\n",
    "\n",
    "So far we have been accessing our model endpoint by constructing a predictor object which uses the endpoint and then just using the predictor object to perform inference. What if we wanted to create a web app which accessed our model? The way things are set up currently makes that not possible since in order to access a SageMaker endpoint the app would first have to authenticate with AWS using an IAM role which included access to SageMaker endpoints. However, there is an easier way! We just need to use some additional AWS services.\n",
    "\n",
    "<img src=\"Web App Diagram.svg\">\n",
    "\n",
    "The diagram above gives an overview of how the various services will work together. On the far right is the model which we trained above and which is deployed using SageMaker. On the far left is our web app that collects a user's movie review, sends it off and expects a positive or negative sentiment in return.\n",
    "\n",
    "In the middle is where some of the magic happens. We will construct a Lambda function, which you can think of as a straightforward Python function that can be executed whenever a specified event occurs. We will give this function permission to send and recieve data from a SageMaker endpoint.\n",
    "\n",
    "Lastly, the method we will use to execute the Lambda function is a new endpoint that we will create using API Gateway. This endpoint will be a url that listens for data to be sent to it. Once it gets some data it will pass that data on to the Lambda function and then return whatever the Lambda function returns. Essentially it will act as an interface that lets our web app communicate with the Lambda function.\n",
    "\n",
    "### Setting up a Lambda function\n",
    "\n",
    "The first thing we are going to do is set up a Lambda function. This Lambda function will be executed whenever our public API has data sent to it. When it is executed it will receive the data, perform any sort of processing that is required, send the data (the review) to the SageMaker endpoint we've created and then return the result.\n",
    "\n",
    "#### Part A: Create an IAM Role for the Lambda function\n",
    "\n",
    "Since we want the Lambda function to call a SageMaker endpoint, we need to make sure that it has permission to do so. To do this, we will construct a role that we can later give the Lambda function.\n",
    "\n",
    "Using the AWS Console, navigate to the **IAM** page and click on **Roles**. Then, click on **Create role**. Make sure that the **AWS service** is the type of trusted entity selected and choose **Lambda** as the service that will use this role, then click **Next: Permissions**.\n",
    "\n",
    "In the search box type `sagemaker` and select the check box next to the **AmazonSageMakerFullAccess** policy. Then, click on **Next: Review**.\n",
    "\n",
    "Lastly, give this role a name. Make sure you use a name that you will remember later on, for example `LambdaSageMakerRole`. Then, click on **Create role**.\n",
    "\n",
    "#### Part B: Create a Lambda function\n",
    "\n",
    "Now it is time to actually create the Lambda function.\n",
    "\n",
    "Using the AWS Console, navigate to the AWS Lambda page and click on **Create a function**. When you get to the next page, make sure that **Author from scratch** is selected. Now, name your Lambda function, using a name that you will remember later on, for example `sentiment_analysis_func`. Make sure that the **Python 3.6** runtime is selected and then choose the role that you created in the previous part. Then, click on **Create Function**.\n",
    "\n",
    "On the next page you will see some information about the Lambda function you've just created. If you scroll down you should see an editor in which you can write the code that will be executed when your Lambda function is triggered. In our example, we will use the code below. \n",
    "\n",
    "```python\n",
    "# We need to use the low-level library to interact with SageMaker since the SageMaker API\n",
    "# is not available natively through Lambda.\n",
    "import boto3\n",
    "\n",
    "def lambda_handler(event, context):\n",
    "\n",
    "    # The SageMaker runtime is what allows us to invoke the endpoint that we've created.\n",
    "    runtime = boto3.Session().client('sagemaker-runtime')\n",
    "\n",
    "    # Now we use the SageMaker runtime to invoke our endpoint, sending the review we were given\n",
    "    response = runtime.invoke_endpoint(EndpointName = '**ENDPOINT NAME HERE**',    # The name of the endpoint we created\n",
    "                                       ContentType = 'text/plain',                 # The data format that is expected\n",
    "                                       Body = event['body'])                       # The actual review\n",
    "\n",
    "    # The response is an HTTP response whose body contains the result of our inference\n",
    "    result = response['Body'].read().decode('utf-8')\n",
    "\n",
    "    return {\n",
    "        'statusCode' : 200,\n",
    "        'headers' : { 'Content-Type' : 'text/plain', 'Access-Control-Allow-Origin' : '*' },\n",
    "        'body' : result\n",
    "    }\n",
    "```\n",
    "\n",
    "Once you have copy and pasted the code above into the Lambda code editor, replace the `**ENDPOINT NAME HERE**` portion with the name of the endpoint that we deployed earlier. You can determine the name of the endpoint using the code cell below."
   ]
  },
  {
   "cell_type": "code",
   "execution_count": 46,
   "metadata": {},
   "outputs": [
    {
     "data": {
      "text/plain": [
       "'sagemaker-pytorch-2021-05-20-19-54-07-859'"
      ]
     },
     "execution_count": 46,
     "metadata": {},
     "output_type": "execute_result"
    }
   ],
   "source": [
    "predictor.endpoint"
   ]
  },
  {
   "cell_type": "markdown",
   "metadata": {},
   "source": [
    "Once you have added the endpoint name to the Lambda function, click on **Save**. Your Lambda function is now up and running. Next we need to create a way for our web app to execute the Lambda function.\n",
    "\n",
    "### Setting up API Gateway\n",
    "\n",
    "Now that our Lambda function is set up, it is time to create a new API using API Gateway that will trigger the Lambda function we have just created.\n",
    "\n",
    "Using AWS Console, navigate to **Amazon API Gateway** and then click on **Get started**.\n",
    "\n",
    "On the next page, make sure that **New API** is selected and give the new api a name, for example, `sentiment_analysis_api`. Then, click on **Create API**.\n",
    "\n",
    "Now we have created an API, however it doesn't currently do anything. What we want it to do is to trigger the Lambda function that we created earlier.\n",
    "\n",
    "Select the **Actions** dropdown menu and click **Create Method**. A new blank method will be created, select its dropdown menu and select **POST**, then click on the check mark beside it.\n",
    "\n",
    "For the integration point, make sure that **Lambda Function** is selected and click on the **Use Lambda Proxy integration**. This option makes sure that the data that is sent to the API is then sent directly to the Lambda function with no processing. It also means that the return value must be a proper response object as it will also not be processed by API Gateway.\n",
    "\n",
    "Type the name of the Lambda function you created earlier into the **Lambda Function** text entry box and then click on **Save**. Click on **OK** in the pop-up box that then appears, giving permission to API Gateway to invoke the Lambda function you created.\n",
    "\n",
    "The last step in creating the API Gateway is to select the **Actions** dropdown and click on **Deploy API**. You will need to create a new Deployment stage and name it anything you like, for example `prod`.\n",
    "\n",
    "You have now successfully set up a public API to access your SageMaker model. Make sure to copy or write down the URL provided to invoke your newly created public API as this will be needed in the next step. This URL can be found at the top of the page, highlighted in blue next to the text **Invoke URL**."
   ]
  },
  {
   "cell_type": "markdown",
   "metadata": {},
   "source": [
    "## Step 4: Deploying our web app\n",
    "\n",
    "Now that we have a publicly available API, we can start using it in a web app. For our purposes, we have provided a simple static html file which can make use of the public api you created earlier.\n",
    "\n",
    "In the `website` folder there should be a file called `index.html`. Download the file to your computer and open that file up in a text editor of your choice. There should be a line which contains **\\*\\*REPLACE WITH PUBLIC API URL\\*\\***. Replace this string with the url that you wrote down in the last step and then save the file.\n",
    "\n",
    "Now, if you open `index.html` on your local computer, your browser will behave as a local web server and you can use the provided site to interact with your SageMaker model.\n",
    "\n",
    "If you'd like to go further, you can host this html file anywhere you'd like, for example using github or hosting a static site on Amazon's S3. Once you have done this you can share the link with anyone you'd like and have them play with it too!\n",
    "\n",
    "> **Important Note** In order for the web app to communicate with the SageMaker endpoint, the endpoint has to actually be deployed and running. This means that you are paying for it. Make sure that the endpoint is running when you want to use the web app but that you shut it down when you don't need it, otherwise you will end up with a surprisingly large AWS bill.\n",
    "\n",
    "**TODO:** Make sure that you include the edited `index.html` file in your project submission."
   ]
  },
  {
   "cell_type": "markdown",
   "metadata": {},
   "source": [
    "Now that your web app is working, trying playing around with it and see how well it works.\n",
    "\n",
    "**Question**: Give an example of a review that you entered into your web app. What was the predicted sentiment of your example review?"
   ]
  },
  {
   "cell_type": "markdown",
   "metadata": {},
   "source": [
    "**Answer:**\n",
    "So great, loved it\n",
    "Your review was POSITIVE!"
   ]
  },
  {
   "cell_type": "markdown",
   "metadata": {},
   "source": [
    "### Delete the endpoint\n",
    "\n",
    "Remember to always shut down your endpoint if you are no longer using it. You are charged for the length of time that the endpoint is running so if you forget and leave it on you could end up with an unexpectedly large bill."
   ]
  },
  {
   "cell_type": "code",
   "execution_count": null,
   "metadata": {},
   "outputs": [],
   "source": [
    "predictor.delete_endpoint()"
   ]
  },
  {
   "cell_type": "code",
   "execution_count": null,
   "metadata": {},
   "outputs": [],
   "source": []
  }
 ],
 "metadata": {
  "kernelspec": {
   "display_name": "conda_pytorch_p36",
   "language": "python",
   "name": "conda_pytorch_p36"
  },
  "language_info": {
   "codemirror_mode": {
    "name": "ipython",
    "version": 3
   },
   "file_extension": ".py",
   "mimetype": "text/x-python",
   "name": "python",
   "nbconvert_exporter": "python",
   "pygments_lexer": "ipython3",
   "version": "3.6.13"
  }
 },
 "nbformat": 4,
 "nbformat_minor": 2
}
