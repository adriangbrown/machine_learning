{
 "cells": [
  {
   "cell_type": "markdown",
   "metadata": {},
   "source": [
    "# Project: Identify Customer Segments\n",
    "\n",
    "In this project, you will apply unsupervised learning techniques to identify segments of the population that form the core customer base for a mail-order sales company in Germany. These segments can then be used to direct marketing campaigns towards audiences that will have the highest expected rate of returns. The data that you will use has been provided by our partners at Bertelsmann Arvato Analytics, and represents a real-life data science task.\n",
    "\n",
    "This notebook will help you complete this task by providing a framework within which you will perform your analysis steps. In each step of the project, you will see some text describing the subtask that you will perform, followed by one or more code cells for you to complete your work. **Feel free to add additional code and markdown cells as you go along so that you can explore everything in precise chunks.** The code cells provided in the base template will outline only the major tasks, and will usually not be enough to cover all of the minor tasks that comprise it.\n",
    "\n",
    "It should be noted that while there will be precise guidelines on how you should handle certain tasks in the project, there will also be places where an exact specification is not provided. **There will be times in the project where you will need to make and justify your own decisions on how to treat the data.** These are places where there may not be only one way to handle the data. In real-life tasks, there may be many valid ways to approach an analysis task. One of the most important things you can do is clearly document your approach so that other scientists can understand the decisions you've made.\n",
    "\n",
    "At the end of most sections, there will be a Markdown cell labeled **Discussion**. In these cells, you will report your findings for the completed section, as well as document the decisions that you made in your approach to each subtask. **Your project will be evaluated not just on the code used to complete the tasks outlined, but also your communication about your observations and conclusions at each stage.**"
   ]
  },
  {
   "cell_type": "code",
   "execution_count": 1,
   "metadata": {},
   "outputs": [
    {
     "data": {
      "text/plain": [
       "'\\nImport note: The classroom currently uses sklearn version 0.19.\\nIf you need to use an imputer, it is available in sklearn.preprocessing.Imputer,\\ninstead of sklearn.impute as in newer versions of sklearn.\\n'"
      ]
     },
     "execution_count": 1,
     "metadata": {},
     "output_type": "execute_result"
    }
   ],
   "source": [
    "# import libraries here; add more as necessary\n",
    "import numpy as np\n",
    "import pandas as pd\n",
    "import matplotlib.pyplot as plt\n",
    "import seaborn as sns\n",
    "import json\n",
    "\n",
    "# magic word for producing visualizations in notebook\n",
    "%matplotlib inline\n",
    "\n",
    "'''\n",
    "Import note: The classroom currently uses sklearn version 0.19.\n",
    "If you need to use an imputer, it is available in sklearn.preprocessing.Imputer,\n",
    "instead of sklearn.impute as in newer versions of sklearn.\n",
    "'''"
   ]
  },
  {
   "cell_type": "markdown",
   "metadata": {},
   "source": [
    "### Step 0: Load the Data\n",
    "\n",
    "There are four files associated with this project (not including this one):\n",
    "\n",
    "- `Udacity_AZDIAS_Subset.csv`: Demographics data for the general population of Germany; 891211 persons (rows) x 85 features (columns).\n",
    "- `Udacity_CUSTOMERS_Subset.csv`: Demographics data for customers of a mail-order company; 191652 persons (rows) x 85 features (columns).\n",
    "- `Data_Dictionary.md`: Detailed information file about the features in the provided datasets.\n",
    "- `AZDIAS_Feature_Summary.csv`: Summary of feature attributes for demographics data; 85 features (rows) x 4 columns\n",
    "\n",
    "Each row of the demographics files represents a single person, but also includes information outside of individuals, including information about their household, building, and neighborhood. You will use this information to cluster the general population into groups with similar demographic properties. Then, you will see how the people in the customers dataset fit into those created clusters. The hope here is that certain clusters are over-represented in the customers data, as compared to the general population; those over-represented clusters will be assumed to be part of the core userbase. This information can then be used for further applications, such as targeting for a marketing campaign.\n",
    "\n",
    "To start off with, load in the demographics data for the general population into a pandas DataFrame, and do the same for the feature attributes summary. Note for all of the `.csv` data files in this project: they're semicolon (`;`) delimited, so you'll need an additional argument in your [`read_csv()`](https://pandas.pydata.org/pandas-docs/stable/generated/pandas.read_csv.html) call to read in the data properly. Also, considering the size of the main dataset, it may take some time for it to load completely.\n",
    "\n",
    "Once the dataset is loaded, it's recommended that you take a little bit of time just browsing the general structure of the dataset and feature summary file. You'll be getting deep into the innards of the cleaning in the first major step of the project, so gaining some general familiarity can help you get your bearings."
   ]
  },
  {
   "cell_type": "code",
   "execution_count": 2,
   "metadata": {},
   "outputs": [],
   "source": [
    "# Load in the general demographics data.\n",
    "azdias = pd.read_csv('Udacity_AZDIAS_Subset.csv', sep=';')\n",
    "\n",
    "# Load in the feature summary file.\n",
    "feat_info = pd.read_csv('AZDIAS_Feature_Summary.csv', sep=';')"
   ]
  },
  {
   "cell_type": "code",
   "execution_count": 41,
   "metadata": {},
   "outputs": [
    {
     "name": "stdout",
     "output_type": "stream",
     "text": [
      "(891221, 85)\n",
      "   AGER_TYP  ALTERSKATEGORIE_GROB  ANREDE_KZ  CJT_GESAMTTYP  \\\n",
      "0       NaN                   2.0          1            2.0   \n",
      "1       NaN                   1.0          2            5.0   \n",
      "2       NaN                   3.0          2            3.0   \n",
      "3       2.0                   4.0          2            2.0   \n",
      "4       NaN                   3.0          1            5.0   \n",
      "\n",
      "   FINANZ_MINIMALIST  FINANZ_SPARER  FINANZ_VORSORGER  FINANZ_ANLEGER  \\\n",
      "0                  3              4                 3               5   \n",
      "1                  1              5                 2               5   \n",
      "2                  1              4                 1               2   \n",
      "3                  4              2                 5               2   \n",
      "4                  4              3                 4               1   \n",
      "\n",
      "   FINANZ_UNAUFFAELLIGER  FINANZ_HAUSBAUER    ...     PLZ8_ANTG1  PLZ8_ANTG2  \\\n",
      "0                      5                 3    ...            NaN         NaN   \n",
      "1                      4                 5    ...            2.0         3.0   \n",
      "2                      3                 5    ...            3.0         3.0   \n",
      "3                      1                 2    ...            2.0         2.0   \n",
      "4                      3                 2    ...            2.0         4.0   \n",
      "\n",
      "   PLZ8_ANTG3  PLZ8_ANTG4  PLZ8_BAUMAX  PLZ8_HHZ  PLZ8_GBZ  ARBEIT  \\\n",
      "0         NaN         NaN          NaN       NaN       NaN     NaN   \n",
      "1         2.0         1.0          1.0       5.0       4.0     3.0   \n",
      "2         1.0         0.0          1.0       4.0       4.0     3.0   \n",
      "3         2.0         0.0          1.0       3.0       4.0     2.0   \n",
      "4         2.0         1.0          2.0       3.0       3.0     4.0   \n",
      "\n",
      "   ORTSGR_KLS9  RELAT_AB  \n",
      "0          NaN       NaN  \n",
      "1          5.0       4.0  \n",
      "2          5.0       2.0  \n",
      "3          3.0       3.0  \n",
      "4          6.0       5.0  \n",
      "\n",
      "[5 rows x 85 columns]\n",
      "(85, 4)\n",
      "              attribute information_level         type missing_or_unknown\n",
      "0              AGER_TYP            person  categorical            [-1, 0]\n",
      "1  ALTERSKATEGORIE_GROB            person      ordinal         [-1, 0, 9]\n",
      "2             ANREDE_KZ            person  categorical            [-1, 0]\n",
      "3         CJT_GESAMTTYP            person  categorical                [0]\n",
      "4     FINANZ_MINIMALIST            person      ordinal               [-1]\n"
     ]
    }
   ],
   "source": [
    "# Check the structure of the data after it's loaded (e.g. print the number of\n",
    "# rows and columns, print the first few rows).\n",
    "print(azdias.shape)\n",
    "print(azdias.head())\n",
    "print(feat_info.shape)\n",
    "print(feat_info.head())\n"
   ]
  },
  {
   "cell_type": "markdown",
   "metadata": {},
   "source": [
    "> **Tip**: Add additional cells to keep everything in reasonably-sized chunks! Keyboard shortcut `esc --> a` (press escape to enter command mode, then press the 'A' key) adds a new cell before the active cell, and `esc --> b` adds a new cell after the active cell. If you need to convert an active cell to a markdown cell, use `esc --> m` and to convert to a code cell, use `esc --> y`. \n",
    "\n",
    "## Step 1: Preprocessing\n",
    "\n",
    "### Step 1.1: Assess Missing Data\n",
    "\n",
    "The feature summary file contains a summary of properties for each demographics data column. You will use this file to help you make cleaning decisions during this stage of the project. First of all, you should assess the demographics data in terms of missing data. Pay attention to the following points as you perform your analysis, and take notes on what you observe. Make sure that you fill in the **Discussion** cell with your findings and decisions at the end of each step that has one!\n",
    "\n",
    "#### Step 1.1.1: Convert Missing Value Codes to NaNs\n",
    "The fourth column of the feature attributes summary (loaded in above as `feat_info`) documents the codes from the data dictionary that indicate missing or unknown data. While the file encodes this as a list (e.g. `[-1,0]`), this will get read in as a string object. You'll need to do a little bit of parsing to make use of it to identify and clean the data. Convert data that matches a 'missing' or 'unknown' value code into a numpy NaN value. You might want to see how much data takes on a 'missing' or 'unknown' code, and how much data is naturally missing, as a point of interest.\n",
    "\n",
    "**As one more reminder, you are encouraged to add additional cells to break up your analysis into manageable chunks.**"
   ]
  },
  {
   "cell_type": "code",
   "execution_count": 4,
   "metadata": {},
   "outputs": [
    {
     "name": "stdout",
     "output_type": "stream",
     "text": [
      "              attribute information_level         type missing_or_unknown\n",
      "0              AGER_TYP            person  categorical             [-1,0]\n",
      "1  ALTERSKATEGORIE_GROB            person      ordinal           [-1,0,9]\n",
      "2             ANREDE_KZ            person  categorical             [-1,0]\n",
      "3         CJT_GESAMTTYP            person  categorical                [0]\n",
      "4     FINANZ_MINIMALIST            person      ordinal               [-1]\n"
     ]
    }
   ],
   "source": [
    "# Identify missing or unknown data values and convert them to NaNs.\n",
    "\n",
    "# Convert string list to true list\n",
    "feat_info['missing_or_unknown'] = feat_info['missing_or_unknown'].map(lambda x: x.strip('[]').split(','))\n",
    "\n",
    "# Convert to dictionary\n",
    "feat_dict = feat_info.set_index('attribute').to_dict('index')\n"
   ]
  },
  {
   "cell_type": "code",
   "execution_count": 5,
   "metadata": {},
   "outputs": [],
   "source": [
    "for (columnName, columnData) in azdias.iteritems():\n",
    "    for item in feat_dict[columnName]['missing_or_unknown']:\n",
    "        if len(item) > 0:\n",
    "            try:\n",
    "                # replace float items with NaN\n",
    "                azdias[columnName] = azdias[columnName].replace(float(item), np.nan, regex=True)\n",
    "            except:\n",
    "                # replace string items with NaN\n",
    "                azdias[columnName] = azdias[columnName].replace(str(item), np.nan, regex=True)\n",
    "        else:\n",
    "            pass"
   ]
  },
  {
   "cell_type": "markdown",
   "metadata": {},
   "source": [
    "#### Step 1.1.2: Assess Missing Data in Each Column\n",
    "\n",
    "How much missing data is present in each column? There are a few columns that are outliers in terms of the proportion of values that are missing. You will want to use matplotlib's [`hist()`](https://matplotlib.org/api/_as_gen/matplotlib.pyplot.hist.html) function to visualize the distribution of missing value counts to find these columns. Identify and document these columns. While some of these columns might have justifications for keeping or re-encoding the data, for this project you should just remove them from the dataframe. (Feel free to make remarks about these outlier columns in the discussion, however!)\n",
    "\n",
    "For the remaining features, are there any patterns in which columns have, or share, missing data?"
   ]
  },
  {
   "cell_type": "code",
   "execution_count": 61,
   "metadata": {},
   "outputs": [
    {
     "name": "stdout",
     "output_type": "stream",
     "text": [
      "TITEL_KZ          0.997576\n",
      "AGER_TYP          0.769554\n",
      "KK_KUNDENTYP      0.655967\n",
      "KBA05_BAUMAX      0.534687\n",
      "GEBURTSJAHR       0.440203\n",
      "ALTER_HH          0.348137\n",
      "REGIOTYP          0.177357\n",
      "KKK               0.177357\n",
      "W_KEIT_KIND_HH    0.166051\n",
      "KBA05_ANTG4       0.149597\n",
      "KBA05_GBZ         0.149597\n",
      "MOBI_REGIO        0.149597\n",
      "KBA05_ANTG1       0.149597\n",
      "KBA05_ANTG2       0.149597\n",
      "KBA05_ANTG3       0.149597\n",
      "PLZ8_GBZ          0.130736\n",
      "PLZ8_HHZ          0.130736\n",
      "PLZ8_BAUMAX       0.130736\n",
      "PLZ8_ANTG4        0.130736\n",
      "PLZ8_ANTG1        0.130736\n",
      "dtype: float64\n"
     ]
    }
   ],
   "source": [
    "# Perform an assessment of how much missing data there is in each column of the\n",
    "# dataset.\n",
    "# Percent of data missing\n",
    "missing_column_data = (azdias.isnull().sum().sort_values(ascending=False)/azdias.shape[0])\n",
    "print(missing_column_data.head(20))"
   ]
  },
  {
   "cell_type": "code",
   "execution_count": 8,
   "metadata": {},
   "outputs": [
    {
     "name": "stdout",
     "output_type": "stream",
     "text": [
      "['AGER_TYP', 'GEBURTSJAHR', 'TITEL_KZ', 'ALTER_HH', 'KK_KUNDENTYP', 'KBA05_BAUMAX']\n"
     ]
    }
   ],
   "source": [
    "# Investigate patterns in the amount of missing data in each column.\n",
    "\n",
    "# Outlier columns where missing data is greater than 20% of values\n",
    "outlier_columns = list(azdias.isnull().sum()[azdias.isnull().sum()/azdias.shape[0]>.2].index)\n",
    "print(outlier_columns)"
   ]
  },
  {
   "cell_type": "code",
   "execution_count": 9,
   "metadata": {},
   "outputs": [],
   "source": [
    "# Remove the outlier columns from the dataset. (You'll perform other data\n",
    "# engineering tasks such as re-encoding and imputation later.)\n",
    "\n",
    "outliers = azdias.drop(outlier_columns, axis=1)"
   ]
  },
  {
   "cell_type": "markdown",
   "metadata": {},
   "source": [
    "#### Discussion 1.1.2: Assess Missing Data in Each Column\n",
    "\n",
    "Certain columns had significant amounts of missing data, over 50% in some cases.  I chose to remove columns where missing data exceeded 20%.  Certain columns had the same amount of missing data suggesting some certain data points only include a subset of data.  "
   ]
  },
  {
   "cell_type": "markdown",
   "metadata": {},
   "source": [
    "#### Step 1.1.3: Assess Missing Data in Each Row\n",
    "\n",
    "Now, you'll perform a similar assessment for the rows of the dataset. How much data is missing in each row? As with the columns, you should see some groups of points that have a very different numbers of missing values. Divide the data into two subsets: one for data points that are above some threshold for missing values, and a second subset for points below that threshold.\n",
    "\n",
    "In order to know what to do with the outlier rows, we should see if the distribution of data values on columns that are not missing data (or are missing very little data) are similar or different between the two groups. Select at least five of these columns and compare the distribution of values.\n",
    "- You can use seaborn's [`countplot()`](https://seaborn.pydata.org/generated/seaborn.countplot.html) function to create a bar chart of code frequencies and matplotlib's [`subplot()`](https://matplotlib.org/api/_as_gen/matplotlib.pyplot.subplot.html) function to put bar charts for the two subplots side by side.\n",
    "- To reduce repeated code, you might want to write a function that can perform this comparison, taking as one of its arguments a column to be compared.\n",
    "\n",
    "Depending on what you observe in your comparison, this will have implications on how you approach your conclusions later in the analysis. If the distributions of non-missing features look similar between the data with many missing values and the data with few or no missing values, then we could argue that simply dropping those points from the analysis won't present a major issue. On the other hand, if the data with many missing values looks very different from the data with few or no missing values, then we should make a note on those data as special. We'll revisit these data later on. **Either way, you should continue your analysis for now using just the subset of the data with few or no missing values.**"
   ]
  },
  {
   "cell_type": "code",
   "execution_count": 48,
   "metadata": {},
   "outputs": [
    {
     "name": "stdout",
     "output_type": "stream",
     "text": [
      "643174    49\n",
      "732775    49\n",
      "472919    48\n",
      "183108    47\n",
      "139316    47\n",
      "dtype: int64\n"
     ]
    }
   ],
   "source": [
    "# How much data is missing in each row of the dataset?\n",
    "missing_row_data = outliers.isnull().sum(axis=1).sort_values(ascending=False)\n",
    "print(missing_row_data.head())"
   ]
  },
  {
   "cell_type": "code",
   "execution_count": 49,
   "metadata": {},
   "outputs": [
    {
     "name": "stdout",
     "output_type": "stream",
     "text": [
      "               0\n",
      "643174  0.576471\n",
      "732775  0.576471\n",
      "472919  0.564706\n",
      "183108  0.552941\n",
      "139316  0.552941\n"
     ]
    }
   ],
   "source": [
    "# Write code to divide the data into two subsets based on the number of missing\n",
    "# values in each row.\n",
    "\n",
    "# Determine total column count\n",
    "total_col = azdias.shape[1]\n",
    "# Assign percent missing\n",
    "percent = missing_row_data/total_col\n",
    "percent = pd.DataFrame(percent)\n",
    "\n",
    "percent.columns = ['perc']\n",
    "\n",
    "# Use loc to divide rows into two subsets\n",
    "missing_more = percent.loc[percent['perc']>=0.5] # Greater than 50% missing data\n",
    "missing_less = percent.loc[percent['perc']<0.5] # Less than 50% missing data\n",
    "more = outliers.loc[missing_more.index]\n",
    "less = outliers.loc[missing_less.index]\n"
   ]
  },
  {
   "cell_type": "code",
   "execution_count": 50,
   "metadata": {},
   "outputs": [
    {
     "name": "stdout",
     "output_type": "stream",
     "text": [
      "       ALTERSKATEGORIE_GROB     ANREDE_KZ  CJT_GESAMTTYP  FINANZ_MINIMALIST  \\\n",
      "count          73599.000000  73599.000000   73499.000000       73599.000000   \n",
      "mean               2.343755      1.525591       5.065049           3.001590   \n",
      "std                0.800682      0.499348       1.516120           0.057439   \n",
      "min                1.000000      1.000000       1.000000           1.000000   \n",
      "25%                2.000000      1.000000       4.000000           3.000000   \n",
      "50%                3.000000      2.000000       6.000000           3.000000   \n",
      "75%                3.000000      2.000000       6.000000           3.000000   \n",
      "max                4.000000      2.000000       6.000000           5.000000   \n",
      "\n",
      "       FINANZ_SPARER  \n",
      "count   73599.000000  \n",
      "mean        3.997948  \n",
      "std         0.075605  \n",
      "min         1.000000  \n",
      "25%         4.000000  \n",
      "50%         4.000000  \n",
      "75%         4.000000  \n",
      "max         5.000000  \n",
      "       ALTERSKATEGORIE_GROB      ANREDE_KZ  CJT_GESAMTTYP  FINANZ_MINIMALIST  \\\n",
      "count         814741.000000  817622.000000  812868.000000      817622.000000   \n",
      "mean               2.794567       1.521784       3.503339           3.081094   \n",
      "std                1.018524       0.499526       1.537547           1.378935   \n",
      "min                1.000000       1.000000       1.000000           1.000000   \n",
      "25%                2.000000       1.000000       2.000000           2.000000   \n",
      "50%                3.000000       2.000000       4.000000           3.000000   \n",
      "75%                4.000000       2.000000       5.000000           4.000000   \n",
      "max                4.000000       2.000000       6.000000           5.000000   \n",
      "\n",
      "       FINANZ_SPARER  \n",
      "count  817622.000000  \n",
      "mean        2.715098  \n",
      "std         1.483980  \n",
      "min         1.000000  \n",
      "25%         1.000000  \n",
      "50%         3.000000  \n",
      "75%         4.000000  \n",
      "max         5.000000  \n"
     ]
    }
   ],
   "source": [
    "# Compare the distribution of values for at least five columns where there are\n",
    "# no or few missing values, between the two subsets.\n",
    "\n",
    "clean_columns = list(outliers.isnull().sum()[azdias.isnull().sum()/azdias.shape[0]<.05].index)\n",
    "print(more[clean_columns[0:5]].describe())\n",
    "print(less[clean_columns[0:5]].describe())\n",
    "\n"
   ]
  },
  {
   "cell_type": "markdown",
   "metadata": {},
   "source": [
    "#### Discussion 1.1.3: Assess Missing Data in Each Row\n",
    "\n",
    "\n",
    "The data with fewer missing row data points tends to have a higher standard deviation of data compared to those rows where data is fairly complete.  The mean does not tend to be that different, fluctuates up and down depending on column.  "
   ]
  },
  {
   "cell_type": "markdown",
   "metadata": {},
   "source": [
    "### Step 1.2: Select and Re-Encode Features\n",
    "\n",
    "Checking for missing data isn't the only way in which you can prepare a dataset for analysis. Since the unsupervised learning techniques to be used will only work on data that is encoded numerically, you need to make a few encoding changes or additional assumptions to be able to make progress. In addition, while almost all of the values in the dataset are encoded using numbers, not all of them represent numeric values. Check the third column of the feature summary (`feat_info`) for a summary of types of measurement.\n",
    "- For numeric and interval data, these features can be kept without changes.\n",
    "- Most of the variables in the dataset are ordinal in nature. While ordinal values may technically be non-linear in spacing, make the simplifying assumption that the ordinal variables can be treated as being interval in nature (that is, kept without any changes).\n",
    "- Special handling may be necessary for the remaining two variable types: categorical, and 'mixed'.\n",
    "\n",
    "In the first two parts of this sub-step, you will perform an investigation of the categorical and mixed-type features and make a decision on each of them, whether you will keep, drop, or re-encode each. Then, in the last part, you will create a new data frame with only the selected and engineered columns.\n",
    "\n",
    "Data wrangling is often the trickiest part of the data analysis process, and there's a lot of it to be done here. But stick with it: once you're done with this step, you'll be ready to get to the machine learning parts of the project!"
   ]
  },
  {
   "cell_type": "code",
   "execution_count": 51,
   "metadata": {},
   "outputs": [
    {
     "name": "stdout",
     "output_type": "stream",
     "text": [
      "type\n",
      "categorical    21\n",
      "interval        1\n",
      "mixed           7\n",
      "numeric         7\n",
      "ordinal        49\n",
      "Name: attribute, dtype: int64\n"
     ]
    }
   ],
   "source": [
    "# How many features are there of each data type?\n",
    "print(feat_info.groupby('type')['attribute'].count())"
   ]
  },
  {
   "cell_type": "markdown",
   "metadata": {},
   "source": [
    "#### Step 1.2.1: Re-Encode Categorical Features\n",
    "\n",
    "For categorical data, you would ordinarily need to encode the levels as dummy variables. Depending on the number of categories, perform one of the following:\n",
    "- For binary (two-level) categoricals that take numeric values, you can keep them without needing to do anything.\n",
    "- There is one binary variable that takes on non-numeric values. For this one, you need to re-encode the values as numbers or create a dummy variable.\n",
    "- For multi-level categoricals (three or more values), you can choose to encode the values using multiple dummy variables (e.g. via [OneHotEncoder](http://scikit-learn.org/stable/modules/generated/sklearn.preprocessing.OneHotEncoder.html)), or (to keep things straightforward) just drop them from the analysis. As always, document your choices in the Discussion section."
   ]
  },
  {
   "cell_type": "code",
   "execution_count": 14,
   "metadata": {},
   "outputs": [
    {
     "name": "stdout",
     "output_type": "stream",
     "text": [
      "['ANREDE_KZ', 'GREEN_AVANTGARDE'] ['CJT_GESAMTTYP', 'FINANZTYP', 'GFK_URLAUBERTYP', 'LP_FAMILIE_FEIN', 'LP_FAMILIE_GROB', 'LP_STATUS_FEIN', 'LP_STATUS_GROB', 'NATIONALITAET_KZ', 'SHOPPER_TYP', 'SOHO_KZ', 'VERS_TYP', 'ZABEOTYP', 'GEBAEUDETYP', 'OST_WEST_KZ', 'CAMEO_DEUG_2015', 'CAMEO_DEU_2015']\n"
     ]
    }
   ],
   "source": [
    "# Assess categorical variables: which are binary, which are multi-level, and\n",
    "# which one needs to be re-encoded?\n",
    "categorical = feat_info[feat_info['type']=='categorical'].attribute\n",
    "binary = []\n",
    "multi = []\n",
    "\n",
    "for item in categorical:\n",
    "    if item in outliers.columns:\n",
    "        # Categorical with two values\n",
    "        if len(outliers[item].unique()) == 2:\n",
    "            binary.append(item)\n",
    "        # Categorical with greater than two values\n",
    "        if len(outliers[item].unique()) > 2:\n",
    "            multi.append(item)\n",
    "    else:\n",
    "        pass\n",
    "print(binary, multi)"
   ]
  },
  {
   "cell_type": "code",
   "execution_count": 52,
   "metadata": {},
   "outputs": [],
   "source": [
    "# Re-encode categorical variable(s) to be kept in the analysis.\n",
    "\n",
    "# Create dummies for binary columns\n",
    "dummies = pd.get_dummies(outliers, columns=['ANREDE_KZ', 'GREEN_AVANTGARDE'])\n",
    "# Drop multi-level columns\n",
    "multi_drop = dummies.drop(multi, axis=1)"
   ]
  },
  {
   "cell_type": "markdown",
   "metadata": {},
   "source": [
    "#### Discussion 1.2.1: Re-Encode Categorical Features\n",
    "\n",
    "For categorical columns (['ANREDE_KZ', 'GREEN_AVANTGARDE']) that contained 2 (binary) values, created dummy columns using pandas get_dummies().  For categorical variables with greater than 2 values, we dropped those columns using the pandas drop command"
   ]
  },
  {
   "cell_type": "markdown",
   "metadata": {},
   "source": [
    "#### Step 1.2.2: Engineer Mixed-Type Features\n",
    "\n",
    "There are a handful of features that are marked as \"mixed\" in the feature summary that require special treatment in order to be included in the analysis. There are two in particular that deserve attention; the handling of the rest are up to your own choices:\n",
    "- \"PRAEGENDE_JUGENDJAHRE\" combines information on three dimensions: generation by decade, movement (mainstream vs. avantgarde), and nation (east vs. west). While there aren't enough levels to disentangle east from west, you should create two new variables to capture the other two dimensions: an interval-type variable for decade, and a binary variable for movement.\n",
    "- \"CAMEO_INTL_2015\" combines information on two axes: wealth and life stage. Break up the two-digit codes by their 'tens'-place and 'ones'-place digits into two new ordinal variables (which, for the purposes of this project, is equivalent to just treating them as their raw numeric values).\n",
    "- If you decide to keep or engineer new features around the other mixed-type features, make sure you note your steps in the Discussion section.\n",
    "\n",
    "Be sure to check `Data_Dictionary.md` for the details needed to finish these tasks."
   ]
  },
  {
   "cell_type": "code",
   "execution_count": 53,
   "metadata": {},
   "outputs": [],
   "source": [
    "# Investigate \"PRAEGENDE_JUGENDJAHRE\" and engineer two new variables.\n",
    "\n",
    "# Create dictionaries for mapping\n",
    "\n",
    "decade_dict = {1: 40, \n",
    "          2: 40, \n",
    "          3: 50, \n",
    "          4: 50, \n",
    "          5: 60, \n",
    "          6: 60, \n",
    "          7: 60,\n",
    "          8: 70, \n",
    "          9: 70, \n",
    "          10: 80,\n",
    "          11: 80,\n",
    "          12: 80,\n",
    "          13: 80,\n",
    "          14: 90,\n",
    "          15: 90}\n",
    "\n",
    "movement_dict = {1: False,\n",
    "             2: True,\n",
    "             3: False,\n",
    "             4: True,\n",
    "             5: False,\n",
    "             6: True,\n",
    "             7: True,\n",
    "             8: False,\n",
    "             9: True,\n",
    "             10: False,\n",
    "             11: True,\n",
    "             12: False,\n",
    "             13: True,\n",
    "             14: False,\n",
    "             15: True}\n"
   ]
  },
  {
   "cell_type": "code",
   "execution_count": 73,
   "metadata": {},
   "outputs": [],
   "source": [
    "# Investigate \"CAMEO_INTL_2015\" and engineer two new variables.\n",
    "\n",
    "# Create dictionaries for mapping\n",
    "\n",
    "wealth_dict = {'11':1, \n",
    "               '12':1, \n",
    "               '13':1, \n",
    "               '14':1, \n",
    "               '15':1, \n",
    "               '21':2, \n",
    "               '22':2, \n",
    "               '23':2, \n",
    "               '24':2, \n",
    "               '25':2, \n",
    "               '31':3, \n",
    "               '32':3, \n",
    "               '33':3, \n",
    "               '34':3, \n",
    "               '35':3, \n",
    "               '41':4, \n",
    "               '42':4, \n",
    "               '43':4, \n",
    "               '44':4, \n",
    "               '45':4, \n",
    "               '51':5, \n",
    "               '52':5, \n",
    "               '53':5, \n",
    "               '54':5, \n",
    "               '55':5} \n",
    "\n",
    "life_stage_dict = {'11':1, \n",
    "                   '12':2, \n",
    "                   '13':3, \n",
    "                   '14':4, \n",
    "                   '15':5, \n",
    "                   '21':1, \n",
    "                   '22':2, \n",
    "                   '23':3, \n",
    "                   '24':4, \n",
    "                   '25':5, \n",
    "                   '31':1, \n",
    "                   '32':2, \n",
    "                   '33':3, \n",
    "                   '34':4, \n",
    "                   '35':5, \n",
    "                   '41':1, \n",
    "                   '42':2, \n",
    "                   '43':3, \n",
    "                   '44':4, \n",
    "                   '45':5, \n",
    "                   '51':1, \n",
    "                   '52':2, \n",
    "                   '53':3, \n",
    "                   '54':4, \n",
    "                   '55':5}\n",
    "\n"
   ]
  },
  {
   "cell_type": "markdown",
   "metadata": {},
   "source": [
    "#### Discussion 1.2.2: Engineer Mixed-Type Features\n",
    "\n",
    "Kept two mixed data type columns 'PRAEGENDE_JUGENDJAHRE' and 'CAMEO_INTL_2015' and dropped the rest (all done below).  Used the pandas map function to create new columns with appropriate mapping of variables for each column and pandas drop function for dropping columns not of interest (done below)"
   ]
  },
  {
   "cell_type": "markdown",
   "metadata": {},
   "source": [
    "#### Step 1.2.3: Complete Feature Selection\n",
    "\n",
    "In order to finish this step up, you need to make sure that your data frame now only has the columns that you want to keep. To summarize, the dataframe should consist of the following:\n",
    "- All numeric, interval, and ordinal type columns from the original dataset.\n",
    "- Binary categorical features (all numerically-encoded).\n",
    "- Engineered features from other multi-level categorical features and mixed features.\n",
    "\n",
    "Make sure that for any new columns that you have engineered, that you've excluded the original columns from the final dataset. Otherwise, their values will interfere with the analysis later on the project. For example, you should not keep \"PRAEGENDE_JUGENDJAHRE\", since its values won't be useful for the algorithm: only the values derived from it in the engineered features you created should be retained. As a reminder, your data should only be from **the subset with few or no missing values**."
   ]
  },
  {
   "cell_type": "code",
   "execution_count": 74,
   "metadata": {},
   "outputs": [],
   "source": [
    "# If there are other re-engineering tasks you need to perform, make sure you\n",
    "# take care of them here. (Dealing with missing data will come in step 2.1.)\n",
    "\n",
    "multi_drop['decade'] = multi_drop['PRAEGENDE_JUGENDJAHRE'].map(decade_dict)\n",
    "multi_drop['movement'] = multi_drop['PRAEGENDE_JUGENDJAHRE'].map(movement_dict)\n",
    "multi_drop['wealth'] = multi_drop['CAMEO_INTL_2015'].map(wealth_dict)\n",
    "multi_drop['life_stage'] = multi_drop['CAMEO_INTL_2015'].map(life_stage_dict)"
   ]
  },
  {
   "cell_type": "code",
   "execution_count": 75,
   "metadata": {},
   "outputs": [],
   "source": [
    "# Do whatever you need to in order to ensure that the dataframe only contains\n",
    "# the columns that should be passed to the algorithm functions.\n",
    "\n",
    "# Denote mixed type columns for dropping\n",
    "mixed = list(feat_info[feat_info['type']=='mixed'].attribute)\n",
    "cleaned = multi_drop.drop(mixed, axis=1, errors='ignore')"
   ]
  },
  {
   "cell_type": "markdown",
   "metadata": {},
   "source": [
    "### Step 1.3: Create a Cleaning Function\n",
    "\n",
    "Even though you've finished cleaning up the general population demographics data, it's important to look ahead to the future and realize that you'll need to perform the same cleaning steps on the customer demographics data. In this substep, complete the function below to execute the main feature selection, encoding, and re-engineering steps you performed above. Then, when it comes to looking at the customer data in Step 3, you can just run this function on that DataFrame to get the trimmed dataset in a single step."
   ]
  },
  {
   "cell_type": "code",
   "execution_count": 76,
   "metadata": {},
   "outputs": [],
   "source": [
    "def clean_data(df):\n",
    "    \"\"\"\n",
    "    Perform feature trimming, re-encoding, and engineering for demographics\n",
    "    data\n",
    "    \n",
    "    INPUT: Demographics DataFrame\n",
    "    OUTPUT: Trimmed and cleaned demographics DataFrame\n",
    "    \"\"\"\n",
    "    \n",
    "    feat_info = pd.read_csv('AZDIAS_Feature_Summary.csv', sep=';')\n",
    "    feat_info['missing_or_unknown'] = feat_info['missing_or_unknown'].map(lambda x: x.strip('[]').split(','))\n",
    "    feat_dict = feat_info.set_index('attribute').to_dict('index')\n",
    "\n",
    "    # Put in code here to execute all main cleaning steps:\n",
    "    # convert missing value codes into NaNs, ...\n",
    "    for (columnName, columnData) in df.iteritems():\n",
    "        for item in feat_dict[columnName]['missing_or_unknown']:\n",
    "            if len(item) > 0:\n",
    "                try:\n",
    "                    df[columnName] = df[columnName].replace(float(item), np.nan, regex=True)\n",
    "                except:\n",
    "                    df[columnName] = df[columnName].replace(str(item), np.nan, regex=True)\n",
    "            else:\n",
    "                pass\n",
    "    \n",
    "    # remove selected columns and rows, ...\n",
    "    # Column drop\n",
    "    outlier_columns = list(df.isnull().sum()[df.isnull().sum()/df.shape[0]>.2].index)\n",
    "    df = df.drop(outlier_columns, axis=1)\n",
    "    \n",
    "    # Row drop\n",
    "    total_col = df.shape[1]\n",
    "    row_detail = df.isnull().sum(axis=1).sort_values(ascending=False)\n",
    "    percent = row_detail/total_col\n",
    "    percent = pd.DataFrame(percent)\n",
    "    percent.columns = ['perc']\n",
    "    missing_more = percent.loc[percent['perc']>=0.5]\n",
    "    missing_less = percent.loc[percent['perc']<0.5]\n",
    "    df = df.loc[missing_less.index]\n",
    "    \n",
    "    # select, re-encode, and engineer column values.\n",
    "    categorical = feat_info[feat_info['type']=='categorical'].attribute\n",
    "    binary = []\n",
    "    multi = []\n",
    "    for item in categorical:\n",
    "        if item in df.columns:\n",
    "            if len(df[item].unique()) == 2:\n",
    "                binary.append(item)\n",
    "            if len(df[item].unique()) > 2:\n",
    "                multi.append(item)\n",
    "        else:\n",
    "            pass\n",
    "    df = pd.get_dummies(df, columns=['ANREDE_KZ', 'GREEN_AVANTGARDE'])\n",
    "    # Drop multi-level\n",
    "    df = df.drop(multi, axis=1)\n",
    "    \n",
    "    decade_dict = {1: 40, 2: 40, 3: 50, 4: 50, 5: 60, 6: 60, 7: 60, 8: 70, 9: 70, 10: 80, \\\n",
    "                   11: 80, 12: 80, 13: 80, 14: 90,15: 90}\n",
    "    movement_dict = {1: False, 2: True, 3: False, 4: True, 5: False, 6: True, 7: True, 8: False, \\\n",
    "                     9: True, 10: False, 11: True, 12: False, 13: True, 14: False, 15: True}\n",
    "    wealth_dict = {'11':1, '12':1, '13':1, '14':1, '15':1, '21':2, '22':2, '23':2, '24':2, \\\n",
    "                   '25':2, '31':3, '32':3, '33':3, '34':3, '35':3, '41':4, '42':4, '43':4, \\\n",
    "                   '44':4, '45':4, '51':5, '52':5, '53':5, '54':5, '55':5} \n",
    "    life_stage_dict = {'11':1, '12':2, '13':3, '14':4, '15':5, '21':1, '22':2, '23':3, '24':4, \\\n",
    "                       '25':5, '31':1, '32':2, '33':3, '34':4, '35':5, '41':1, '42':2, '43':3, \\\n",
    "                       '44':4, '45':5, '51':1, '52':2, '53':3, '54':4, '55':5}\n",
    "    if 'PRAEGENDE_JUGENDJAHRE' in df.columns:\n",
    "        df['decade'] = df['PRAEGENDE_JUGENDJAHRE'].map(decade_dict)\n",
    "        df['movement'] = df['PRAEGENDE_JUGENDJAHRE'].map(movement_dict)\n",
    "    if 'CAMEO_INTL_2015' in df.columns:\n",
    "        df['wealth'] = df['CAMEO_INTL_2015'].map(wealth_dict)\n",
    "        df['life_stage'] = df['CAMEO_INTL_2015'].map(life_stage_dict)\n",
    "    \n",
    "    feat_info = pd.read_csv('AZDIAS_Feature_Summary.csv', sep=';')\n",
    "    mixed = list(feat_info[feat_info['type']=='mixed'].attribute)\n",
    "    df = df.drop(mixed, axis=1, errors='ignore')\n",
    "   \n",
    "    # Return cleaned dataframe.\n",
    "    return df"
   ]
  },
  {
   "cell_type": "markdown",
   "metadata": {},
   "source": [
    "## Step 2: Feature Transformation\n",
    "\n",
    "### Step 2.1: Apply Feature Scaling\n",
    "\n",
    "Before we apply dimensionality reduction techniques to the data, we need to perform feature scaling so that the principal component vectors are not influenced by the natural differences in scale for features. Starting from this part of the project, you'll want to keep an eye on the [API reference page for sklearn](http://scikit-learn.org/stable/modules/classes.html) to help you navigate to all of the classes and functions that you'll need. In this substep, you'll need to check the following:\n",
    "\n",
    "- sklearn requires that data not have missing values in order for its estimators to work properly. So, before applying the scaler to your data, make sure that you've cleaned the DataFrame of the remaining missing values. This can be as simple as just removing all data points with missing data, or applying an [Imputer](http://scikit-learn.org/stable/modules/generated/sklearn.preprocessing.Imputer.html) to replace all missing values. You might also try a more complicated procedure where you temporarily remove missing values in order to compute the scaling parameters before re-introducing those missing values and applying imputation. Think about how much missing data you have and what possible effects each approach might have on your analysis, and justify your decision in the discussion section below.\n",
    "- For the actual scaling function, a [StandardScaler](http://scikit-learn.org/stable/modules/generated/sklearn.preprocessing.StandardScaler.html) instance is suggested, scaling each feature to mean 0 and standard deviation 1.\n",
    "- For these classes, you can make use of the `.fit_transform()` method to both fit a procedure to the data as well as apply the transformation to the data at the same time. Don't forget to keep the fit sklearn objects handy, since you'll be applying them to the customer demographics data towards the end of the project."
   ]
  },
  {
   "cell_type": "code",
   "execution_count": 77,
   "metadata": {},
   "outputs": [],
   "source": [
    "# If you've not yet cleaned the dataset of all NaN values, then investigate and\n",
    "# do that now.\n",
    "\n",
    "from sklearn.preprocessing import Imputer\n",
    "imp = Imputer(strategy='mean') \n",
    "cleaned_impute = pd.DataFrame(imp.fit_transform(cleaned))"
   ]
  },
  {
   "cell_type": "code",
   "execution_count": 79,
   "metadata": {},
   "outputs": [],
   "source": [
    "# Apply feature scaling to the general population demographics data.\n",
    "from sklearn import preprocessing as p\n",
    "\n",
    "df_ss = p.StandardScaler().fit_transform(cleaned_impute)\n",
    "df_scaled = pd.DataFrame(df_ss)\n",
    "df_scaled.columns = cleaned.columns"
   ]
  },
  {
   "cell_type": "markdown",
   "metadata": {},
   "source": [
    "### Discussion 2.1: Apply Feature Scaling\n",
    "\n",
    "I chose to use the Imputer method and apply the mean as I assume removing NaN values would potentially cause the data set to be viewed with more lower end or zero values and thus be misinterpreted."
   ]
  },
  {
   "cell_type": "markdown",
   "metadata": {},
   "source": [
    "### Step 2.2: Perform Dimensionality Reduction\n",
    "\n",
    "On your scaled data, you are now ready to apply dimensionality reduction techniques.\n",
    "\n",
    "- Use sklearn's [PCA](http://scikit-learn.org/stable/modules/generated/sklearn.decomposition.PCA.html) class to apply principal component analysis on the data, thus finding the vectors of maximal variance in the data. To start, you should not set any parameters (so all components are computed) or set a number of components that is at least half the number of features (so there's enough features to see the general trend in variability).\n",
    "- Check out the ratio of variance explained by each principal component as well as the cumulative variance explained. Try plotting the cumulative or sequential values using matplotlib's [`plot()`](https://matplotlib.org/api/_as_gen/matplotlib.pyplot.plot.html) function. Based on what you find, select a value for the number of transformed features you'll retain for the clustering part of the project.\n",
    "- Once you've made a choice for the number of components to keep, make sure you re-fit a PCA instance to perform the decided-on transformation."
   ]
  },
  {
   "cell_type": "code",
   "execution_count": 80,
   "metadata": {},
   "outputs": [],
   "source": [
    "# Apply PCA to the data.\n",
    "from sklearn.decomposition import PCA\n",
    "import matplotlib.pyplot as plt\n",
    "\n",
    "pca = PCA()\n",
    "pca_test = pca.fit(df_scaled)"
   ]
  },
  {
   "cell_type": "code",
   "execution_count": 81,
   "metadata": {},
   "outputs": [
    {
     "data": {
      "image/png": "[encoded data removed]",
      "text/plain": [
       "<matplotlib.figure.Figure at 0x7fc716c0a710>"
      ]
     },
     "metadata": {
      "needs_background": "light"
     },
     "output_type": "display_data"
    }
   ],
   "source": [
    "# Investigate the variance accounted for by each principal component.\n",
    "num_components = len(pca_test.explained_variance_ratio_)\n",
    "ind = np.arange(num_components)\n",
    "vals = pca_test.explained_variance_ratio_\n",
    "\n",
    "plt.figure(figsize=(10, 6))\n",
    "ax = plt.subplot(111)\n",
    "cumvals = np.cumsum(vals)\n",
    "ax.bar(ind, vals)\n",
    "ax.plot(ind, cumvals)\n",
    "for i in range(num_components):\n",
    "    ax.annotate(r\"%s%%\" % ((str(vals[i]*100)[:4])), (ind[i]+0.2, vals[i]), va=\"bottom\", ha=\"center\", fontsize=12)\n",
    " \n",
    "    ax.xaxis.set_tick_params(width=0)\n",
    "    ax.yaxis.set_tick_params(width=2, length=12)\n",
    " \n",
    "    ax.set_xlabel(\"Principal Component\")\n",
    "    ax.set_ylabel(\"Variance Explained (%)\")\n",
    "    plt.title('Explained Variance Per Principal Component')\n"
   ]
  },
  {
   "cell_type": "code",
   "execution_count": 82,
   "metadata": {},
   "outputs": [],
   "source": [
    "# Re-apply PCA to the data while selecting for number of components to retain.\n",
    "pca = PCA(n_components=20)\n",
    "df_pca = pca.fit_transform(df_scaled)"
   ]
  },
  {
   "cell_type": "markdown",
   "metadata": {},
   "source": [
    "### Discussion 2.2: Perform Dimensionality Reduction\n",
    "\n",
    "Approximately 20 principal components make up around 80% of the total variance explained.  For that reason we will retain 20 components. "
   ]
  },
  {
   "cell_type": "markdown",
   "metadata": {},
   "source": [
    "### Step 2.3: Interpret Principal Components\n",
    "\n",
    "Now that we have our transformed principal components, it's a nice idea to check out the weight of each variable on the first few components to see if they can be interpreted in some fashion.\n",
    "\n",
    "As a reminder, each principal component is a unit vector that points in the direction of highest variance (after accounting for the variance captured by earlier principal components). The further a weight is from zero, the more the principal component is in the direction of the corresponding feature. If two features have large weights of the same sign (both positive or both negative), then increases in one tend expect to be associated with increases in the other. To contrast, features with different signs can be expected to show a negative correlation: increases in one variable should result in a decrease in the other.\n",
    "\n",
    "- To investigate the features, you should map each weight to their corresponding feature name, then sort the features according to weight. The most interesting features for each principal component, then, will be those at the beginning and end of the sorted list. Use the data dictionary document to help you understand these most prominent features, their relationships, and what a positive or negative value on the principal component might indicate.\n",
    "- You should investigate and interpret feature associations from the first three principal components in this substep. To help facilitate this, you should write a function that you can call at any time to print the sorted list of feature weights, for the *i*-th principal component. This might come in handy in the next step of the project, when you interpret the tendencies of the discovered clusters."
   ]
  },
  {
   "cell_type": "code",
   "execution_count": 83,
   "metadata": {},
   "outputs": [
    {
     "name": "stdout",
     "output_type": "stream",
     "text": [
      "Most wieghted features for the component  0\n",
      "                     weight\n",
      "MOBI_REGIO        -0.246004\n",
      "KBA05_ANTG1       -0.229528\n",
      "PLZ8_ANTG1        -0.228272\n",
      "KBA05_GBZ         -0.221099\n",
      "FINANZ_MINIMALIST -0.217210\n",
      "               weight\n",
      "EWDICHTE     0.196203\n",
      "ORTSGR_KLS9  0.197331\n",
      "wealth       0.210758\n",
      "PLZ8_ANTG4   0.221630\n",
      "PLZ8_ANTG3   0.228444\n"
     ]
    }
   ],
   "source": [
    "# Map weights for the first principal component to corresponding feature names\n",
    "# and then print the linked values, sorted by weight.\n",
    "# HINT: Try defining a function here or in a new cell that you can reuse in the\n",
    "# other cells.\n",
    "\n",
    "def print_component(pca, comp):\n",
    "    if comp <= len(pca.components_):\n",
    "        weight_df = pd.DataFrame({'weight': pca.components_[comp]}, index=cleaned.columns)\n",
    "        print(\"Most wieghted features for the component \", comp)\n",
    "        print(weight_df.sort_values(by=['weight']).head(5))\n",
    "        print(weight_df.sort_values(by=['weight']).tail(5))\n",
    "    else:\n",
    "        print('That is not the right input, please read the docstring before continuing.')\n",
    "        \n",
    "#Plot the first component\n",
    "print_component(pca, 0)"
   ]
  },
  {
   "cell_type": "code",
   "execution_count": 84,
   "metadata": {},
   "outputs": [
    {
     "name": "stdout",
     "output_type": "stream",
     "text": [
      "Most wieghted features for the component  1\n",
      "                         weight\n",
      "decade                -0.258214\n",
      "SEMIO_REL             -0.255517\n",
      "FINANZ_SPARER         -0.249656\n",
      "SEMIO_PFLICHT         -0.238073\n",
      "FINANZ_UNAUFFAELLIGER -0.230602\n",
      "                        weight\n",
      "RETOURTYP_BK_S        0.165531\n",
      "SEMIO_LUST            0.182655\n",
      "SEMIO_ERL             0.237629\n",
      "FINANZ_VORSORGER      0.244707\n",
      "ALTERSKATEGORIE_GROB  0.265390\n"
     ]
    }
   ],
   "source": [
    "# Map weights for the second principal component to corresponding feature names\n",
    "# and then print the linked values, sorted by weight.\n",
    "\n",
    "print_component(pca, 1)"
   ]
  },
  {
   "cell_type": "code",
   "execution_count": 85,
   "metadata": {},
   "outputs": [
    {
     "name": "stdout",
     "output_type": "stream",
     "text": [
      "Most wieghted features for the component  2\n",
      "               weight\n",
      "ANREDE_KZ_2 -0.342134\n",
      "SEMIO_KAEM  -0.327186\n",
      "SEMIO_DOM   -0.302695\n",
      "SEMIO_KRIT  -0.274402\n",
      "SEMIO_RAT   -0.190244\n",
      "               weight\n",
      "SEMIO_FAM    0.209259\n",
      "SEMIO_KULT   0.244713\n",
      "SEMIO_SOZ    0.261549\n",
      "SEMIO_VERT   0.325109\n",
      "ANREDE_KZ_1  0.342134\n"
     ]
    }
   ],
   "source": [
    "# Map weights for the third principal component to corresponding feature names\n",
    "# and then print the linked values, sorted by weight.\n",
    "\n",
    "print_component(pca, 2)"
   ]
  },
  {
   "cell_type": "markdown",
   "metadata": {},
   "source": [
    "### Discussion 2.3: Interpret Principal Components\n",
    "\n",
    "If we deem any correlation over 30% is significant then the first two components do not exhibit strong correlation compared to the features.  The third component has a strong negative correlation with ANDREDE_KZ_2, SEMEO_KAEM, and SEMIO_DOM and positive correlation SEMIO_VERT and ANDREDE_KZ_1."
   ]
  },
  {
   "cell_type": "markdown",
   "metadata": {},
   "source": [
    "## Step 3: Clustering\n",
    "\n",
    "### Step 3.1: Apply Clustering to General Population\n",
    "\n",
    "You've assessed and cleaned the demographics data, then scaled and transformed them. Now, it's time to see how the data clusters in the principal components space. In this substep, you will apply k-means clustering to the dataset and use the average within-cluster distances from each point to their assigned cluster's centroid to decide on a number of clusters to keep.\n",
    "\n",
    "- Use sklearn's [KMeans](http://scikit-learn.org/stable/modules/generated/sklearn.cluster.KMeans.html#sklearn.cluster.KMeans) class to perform k-means clustering on the PCA-transformed data.\n",
    "- Then, compute the average difference from each point to its assigned cluster's center. **Hint**: The KMeans object's `.score()` method might be useful here, but note that in sklearn, scores tend to be defined so that larger is better. Try applying it to a small, toy dataset, or use an internet search to help your understanding.\n",
    "- Perform the above two steps for a number of different cluster counts. You can then see how the average distance decreases with an increasing number of clusters. However, each additional cluster provides a smaller net benefit. Use this fact to select a final number of clusters in which to group the data. **Warning**: because of the large size of the dataset, it can take a long time for the algorithm to resolve. The more clusters to fit, the longer the algorithm will take. You should test for cluster counts through at least 10 clusters to get the full picture, but you shouldn't need to test for a number of clusters above about 30.\n",
    "- Once you've selected a final number of clusters to use, re-fit a KMeans instance to perform the clustering operation. Make sure that you also obtain the cluster assignments for the general demographics data, since you'll be using them in the final Step 3.3."
   ]
  },
  {
   "cell_type": "code",
   "execution_count": 112,
   "metadata": {},
   "outputs": [
    {
     "name": "stdout",
     "output_type": "stream",
     "text": [
      "[3, 6, 9, 12, 15, 18, 21, 24, 27]\n",
      "model_complete\n",
      "predict_complete\n",
      "score_complete\n",
      "34866572.9685\n",
      "model_complete\n",
      "predict_complete\n",
      "score_complete\n",
      "28841591.5822\n",
      "model_complete\n",
      "predict_complete\n",
      "score_complete\n",
      "25520319.6277\n",
      "model_complete\n",
      "predict_complete\n",
      "score_complete\n",
      "24866408.4531\n",
      "model_complete\n",
      "predict_complete\n",
      "score_complete\n",
      "21983911.7235\n",
      "model_complete\n",
      "predict_complete\n",
      "score_complete\n",
      "21994502.163\n",
      "model_complete\n",
      "predict_complete\n",
      "score_complete\n",
      "20644022.6301\n",
      "model_complete\n",
      "predict_complete\n",
      "score_complete\n",
      "20387490.9344\n",
      "model_complete\n",
      "predict_complete\n",
      "score_complete\n",
      "19261946.2404\n"
     ]
    }
   ],
   "source": [
    "# Over a number of different cluster counts...\n",
    "from sklearn.cluster import MiniBatchKMeans\n",
    "\n",
    "cluster_count = list(range(3,30,3))\n",
    "print(cluster_count)\n",
    "clusters = []\n",
    "scores = []\n",
    "for cluster in cluster_count:\n",
    "    clusters.append(cluster)\n",
    "    kmeans = MiniBatchKMeans(cluster)\n",
    "    # run k-means clustering on the data and...\n",
    "    model = kmeans.fit(df_pca)\n",
    "    print('model_complete')\n",
    "    labels = model.predict(df_pca)\n",
    "    print('predict_complete')\n",
    "    score = np.abs(model.score(df_pca))\n",
    "    print('score_complete')\n",
    "    print(score)\n",
    "    scores.append(score)    "
   ]
  },
  {
   "cell_type": "code",
   "execution_count": 113,
   "metadata": {},
   "outputs": [
    {
     "name": "stdout",
     "output_type": "stream",
     "text": [
      "[0 1 2 3 4 5 6 7 8]\n"
     ]
    },
    {
     "data": {
      "text/plain": [
       "Text(0.5,1,'Cluster Distances')"
      ]
     },
     "execution_count": 113,
     "metadata": {},
     "output_type": "execute_result"
    },
    {
     "data": {
      "image/png": "[encoded data removed]",
      "text/plain": [
       "<matplotlib.figure.Figure at 0x7fc716947e10>"
      ]
     },
     "metadata": {
      "needs_background": "light"
     },
     "output_type": "display_data"
    }
   ],
   "source": [
    "# Investigate the change in within-cluster distance across number of clusters.\n",
    "# HINT: Use matplotlib's plot function to visualize this relationship.\n",
    "import matplotlib.pyplot as plt\n",
    "fig, ax = plt.subplots()\n",
    "\n",
    "clusters = clusters\n",
    "y_pos = np.arange(len(clusters))\n",
    "print(y_pos)\n",
    "scores = scores\n",
    "\n",
    "ax.barh(y_pos, scores, align='center',\n",
    "        color='pink')\n",
    "ax.set_yticks(y_pos)\n",
    "ax.set_yticklabels(clusters)\n",
    "ax.invert_yaxis()  # labels read top-to-bottom\n",
    "ax.set_xlabel('Scores')\n",
    "ax.set_ylabel('Clusters')\n",
    "\n",
    "ax.set_title('Cluster Distances')"
   ]
  },
  {
   "cell_type": "code",
   "execution_count": 114,
   "metadata": {},
   "outputs": [
    {
     "name": "stdout",
     "output_type": "stream",
     "text": [
      "22520482.1955\n"
     ]
    }
   ],
   "source": [
    "# Re-fit the k-means model with the selected number of clusters and obtain\n",
    "# cluster predictions for the general population demographics data.\n",
    "\n",
    "kmeans = MiniBatchKMeans(n_clusters=15)\n",
    "model_pop = kmeans.fit(df_pca)\n",
    "labels_pop = model_pop.predict(df_pca)\n",
    "score_pop = np.abs(model_pop.score(df_pca))\n",
    "print(score_pop)"
   ]
  },
  {
   "cell_type": "markdown",
   "metadata": {},
   "source": [
    "### Discussion 3.1: Apply Clustering to General Population\n",
    "\n",
    "Running KMeans at various cluster sizes yielded an optimal cluster size of 15.  This number was selected because it represented a significant drop in cluster distance from the previous cluster size and subsequent distances were not signficantly improved."
   ]
  },
  {
   "cell_type": "markdown",
   "metadata": {},
   "source": [
    "### Step 3.2: Apply All Steps to the Customer Data\n",
    "\n",
    "Now that you have clusters and cluster centers for the general population, it's time to see how the customer data maps on to those clusters. Take care to not confuse this for re-fitting all of the models to the customer data. Instead, you're going to use the fits from the general population to clean, transform, and cluster the customer data. In the last step of the project, you will interpret how the general population fits apply to the customer data.\n",
    "\n",
    "- Don't forget when loading in the customers data, that it is semicolon (`;`) delimited.\n",
    "- Apply the same feature wrangling, selection, and engineering steps to the customer demographics using the `clean_data()` function you created earlier. (You can assume that the customer demographics data has similar meaning behind missing data patterns as the general demographics data.)\n",
    "- Use the sklearn objects from the general demographics data, and apply their transformations to the customers data. That is, you should not be using a `.fit()` or `.fit_transform()` method to re-fit the old objects, nor should you be creating new sklearn objects! Carry the data through the feature scaling, PCA, and clustering steps, obtaining cluster assignments for all of the data in the customer demographics data."
   ]
  },
  {
   "cell_type": "code",
   "execution_count": 115,
   "metadata": {},
   "outputs": [
    {
     "name": "stdout",
     "output_type": "stream",
     "text": [
      "(191652, 85)\n"
     ]
    }
   ],
   "source": [
    "# Load in the customer demographics data.\n",
    "customers = pd.read_csv('Udacity_CUSTOMERS_Subset.csv', sep=';')\n",
    "print(customers.shape)"
   ]
  },
  {
   "cell_type": "code",
   "execution_count": 116,
   "metadata": {},
   "outputs": [],
   "source": [
    "# Apply preprocessing, feature transformation, and clustering from the general\n",
    "# demographics onto the customer data, obtaining cluster predictions for the\n",
    "# customer demographics data.\n",
    "cust_df = clean_data(customers)"
   ]
  },
  {
   "cell_type": "code",
   "execution_count": 117,
   "metadata": {},
   "outputs": [],
   "source": [
    "impute_cust_df = pd.DataFrame(imp.fit_transform(cust_df))\n",
    "scaled_cust_df = p.StandardScaler().fit_transform(impute_cust_df)\n",
    "scaled_cust = p.StandardScaler().fit(impute_cust_df)\n",
    "pca_cust = pca.fit(scaled_cust_df)\n",
    "pca_cust_df = pca.fit_transform(scaled_cust_df)\n",
    "model_cust = kmeans.fit(pca_cust_df)"
   ]
  },
  {
   "cell_type": "code",
   "execution_count": 118,
   "metadata": {},
   "outputs": [
    {
     "name": "stdout",
     "output_type": "stream",
     "text": [
      "[ 8  8 13 ...,  9  2 12]\n"
     ]
    }
   ],
   "source": [
    "labels_cust = model_cust.predict(pca_cust_df)\n",
    "score_cust = np.abs(model_cust.score(pca_cust_df))\n",
    "print(labels_cust)"
   ]
  },
  {
   "cell_type": "markdown",
   "metadata": {},
   "source": [
    "### Step 3.3: Compare Customer Data to Demographics Data\n",
    "\n",
    "At this point, you have clustered data based on demographics of the general population of Germany, and seen how the customer data for a mail-order sales company maps onto those demographic clusters. In this final substep, you will compare the two cluster distributions to see where the strongest customer base for the company is.\n",
    "\n",
    "Consider the proportion of persons in each cluster for the general population, and the proportions for the customers. If we think the company's customer base to be universal, then the cluster assignment proportions should be fairly similar between the two. If there are only particular segments of the population that are interested in the company's products, then we should see a mismatch from one to the other. If there is a higher proportion of persons in a cluster for the customer data compared to the general population (e.g. 5% of persons are assigned to a cluster for the general population, but 15% of the customer data is closest to that cluster's centroid) then that suggests the people in that cluster to be a target audience for the company. On the other hand, the proportion of the data in a cluster being larger in the general population than the customer data (e.g. only 2% of customers closest to a population centroid that captures 6% of the data) suggests that group of persons to be outside of the target demographics.\n",
    "\n",
    "Take a look at the following points in this step:\n",
    "\n",
    "- Compute the proportion of data points in each cluster for the general population and the customer data. Visualizations will be useful here: both for the individual dataset proportions, but also to visualize the ratios in cluster representation between groups. Seaborn's [`countplot()`](https://seaborn.pydata.org/generated/seaborn.countplot.html) or [`barplot()`](https://seaborn.pydata.org/generated/seaborn.barplot.html) function could be handy.\n",
    "  - Recall the analysis you performed in step 1.1.3 of the project, where you separated out certain data points from the dataset if they had more than a specified threshold of missing values. If you found that this group was qualitatively different from the main bulk of the data, you should treat this as an additional data cluster in this analysis. Make sure that you account for the number of data points in this subset, for both the general population and customer datasets, when making your computations!\n",
    "- Which cluster or clusters are overrepresented in the customer dataset compared to the general population? Select at least one such cluster and infer what kind of people might be represented by that cluster. Use the principal component interpretations from step 2.3 or look at additional components to help you make this inference. Alternatively, you can use the `.inverse_transform()` method of the PCA and StandardScaler objects to transform centroids back to the original data space and interpret the retrieved values directly.\n",
    "- Perform a similar investigation for the underrepresented clusters. Which cluster or clusters are underrepresented in the customer dataset compared to the general population, and what kinds of people are typified by these clusters?"
   ]
  },
  {
   "cell_type": "code",
   "execution_count": 119,
   "metadata": {},
   "outputs": [
    {
     "name": "stdout",
     "output_type": "stream",
     "text": [
      "cluster    191652\n",
      "dtype: int64\n"
     ]
    },
    {
     "data": {
      "text/plain": [
       "<matplotlib.axes._subplots.AxesSubplot at 0x7fc716ab7828>"
      ]
     },
     "execution_count": 119,
     "metadata": {},
     "output_type": "execute_result"
    },
    {
     "data": {
      "image/png": "[encoded data removed]",
      "text/plain": [
       "<matplotlib.figure.Figure at 0x7fc716aa9400>"
      ]
     },
     "metadata": {
      "needs_background": "light"
     },
     "output_type": "display_data"
    }
   ],
   "source": [
    "# Compare the proportion of data in each cluster for the customer data to the\n",
    "# proportion of data in each cluster for the general population.\n",
    "import seaborn as sns\n",
    "plot_df = pd.DataFrame(labels_cust,columns=['cluster'])\n",
    "counts = plot_df['cluster'].value_counts()\n",
    "counts_df = pd.DataFrame(counts)\n",
    "total = plot_df.count()\n",
    "print(total)\n",
    "counts_df['percent'] = counts_df['cluster']/plot_df['cluster'].count()\n",
    "sns.barplot(y='percent', x=counts_df.index, data=counts_df)\n"
   ]
  },
  {
   "cell_type": "code",
   "execution_count": 120,
   "metadata": {},
   "outputs": [
    {
     "name": "stdout",
     "output_type": "stream",
     "text": [
      "cluster    191652\n",
      "dtype: int64\n"
     ]
    },
    {
     "data": {
      "text/plain": [
       "<matplotlib.axes._subplots.AxesSubplot at 0x7fc716adf2b0>"
      ]
     },
     "execution_count": 120,
     "metadata": {},
     "output_type": "execute_result"
    },
    {
     "data": {
      "image/png": "[encoded data removed]",
      "text/plain": [
       "<matplotlib.figure.Figure at 0x7fc6d708b898>"
      ]
     },
     "metadata": {
      "needs_background": "light"
     },
     "output_type": "display_data"
    }
   ],
   "source": [
    "plot_pop_df = pd.DataFrame(labels_pop,columns=['cluster'])\n",
    "counts = plot_pop_df['cluster'].value_counts()\n",
    "counts_df = pd.DataFrame(counts)\n",
    "total = plot_df.count()\n",
    "print(total)\n",
    "counts_df['percent'] = counts_df['cluster']/plot_pop_df['cluster'].count()\n",
    "sns.barplot(y='percent', x=counts_df.index, data=counts_df)"
   ]
  },
  {
   "cell_type": "code",
   "execution_count": 123,
   "metadata": {},
   "outputs": [
    {
     "name": "stdout",
     "output_type": "stream",
     "text": [
      "ALTERSKATEGORIE_GROB     1.699692\n",
      "FINANZ_MINIMALIST        2.992287\n",
      "FINANZ_SPARER            4.027916\n",
      "FINANZ_VORSORGER         2.988641\n",
      "FINANZ_ANLEGER           4.987919\n",
      "FINANZ_UNAUFFAELLIGER    4.953001\n",
      "FINANZ_HAUSBAUER         3.003838\n",
      "RETOURTYP_BK_S           3.105921\n",
      "SEMIO_SOZ                1.984684\n",
      "SEMIO_FAM                6.006896\n",
      "SEMIO_REL                7.042058\n",
      "SEMIO_MAT                4.978261\n",
      "SEMIO_VERT               1.114203\n",
      "SEMIO_LUST               4.996214\n",
      "SEMIO_ERL                3.030264\n",
      "SEMIO_KULT               2.939424\n",
      "SEMIO_RAT                4.008610\n",
      "SEMIO_KRIT               7.037396\n",
      "SEMIO_DOM                6.037343\n",
      "SEMIO_KAEM               5.878874\n",
      "SEMIO_PFLICHT            5.007061\n",
      "SEMIO_TRADV              2.997637\n",
      "HH_EINKOMMEN_SCORE       1.980866\n",
      "ONLINE_AFFINITAET        2.212521\n",
      "ANREDE_KZ_1              0.998470\n",
      "ANREDE_KZ_2              0.001530\n",
      "GREEN_AVANTGARDE_0       1.001395\n",
      "GREEN_AVANTGARDE_1      -0.001395\n",
      "dtype: float64\n"
     ]
    }
   ],
   "source": [
    "# What kinds of people are part of a cluster that is overrepresented in the\n",
    "# customer data compared to the general population?\n",
    "\n",
    "cluster_over = scaled_cust.inverse_transform(pca_cust.inverse_transform(kmeans.cluster_centers_[2]))\n",
    "cluster_over = pd.Series(data=cluster_over, index=cust_df.columns)\n",
    "print(cluster_over)"
   ]
  },
  {
   "cell_type": "code",
   "execution_count": 125,
   "metadata": {},
   "outputs": [
    {
     "name": "stdout",
     "output_type": "stream",
     "text": [
      "ALTERSKATEGORIE_GROB     1.596483\n",
      "FINANZ_MINIMALIST        2.759573\n",
      "FINANZ_SPARER            2.744808\n",
      "FINANZ_VORSORGER         3.481717\n",
      "FINANZ_ANLEGER           3.141873\n",
      "FINANZ_UNAUFFAELLIGER    2.779371\n",
      "FINANZ_HAUSBAUER         3.539630\n",
      "RETOURTYP_BK_S           2.880911\n",
      "SEMIO_SOZ                3.153116\n",
      "SEMIO_FAM                4.081487\n",
      "SEMIO_REL                5.377059\n",
      "SEMIO_MAT                5.069422\n",
      "SEMIO_VERT               2.549325\n",
      "SEMIO_LUST               3.367539\n",
      "SEMIO_ERL                4.467390\n",
      "SEMIO_KULT               4.305373\n",
      "SEMIO_RAT                6.644593\n",
      "SEMIO_KRIT               5.574445\n",
      "SEMIO_DOM                6.296250\n",
      "SEMIO_KAEM               5.954577\n",
      "SEMIO_PFLICHT            6.128127\n",
      "SEMIO_TRADV              6.132027\n",
      "HH_EINKOMMEN_SCORE       4.475161\n",
      "ONLINE_AFFINITAET        3.499257\n",
      "ANREDE_KZ_1             -0.002717\n",
      "ANREDE_KZ_2              1.002717\n",
      "GREEN_AVANTGARDE_0       0.810850\n",
      "GREEN_AVANTGARDE_1       0.189150\n",
      "dtype: float64\n"
     ]
    }
   ],
   "source": [
    "# What kinds of people are part of a cluster that is underrepresented in the\n",
    "# customer data compared to the general population?\n",
    "cluster_under = scaled_cust.inverse_transform(pca_cust.inverse_transform(kmeans.cluster_centers_[14]))\n",
    "cluster_under = pd.Series(data=cluster_under, index=cust_df.columns)\n",
    "print(cluster_under)"
   ]
  },
  {
   "cell_type": "markdown",
   "metadata": {},
   "source": [
    "### Discussion 3.3: Compare Customer Data to Demographics Data\n",
    "\n",
    "(Double-click this cell and replace this text with your own text, reporting findings and conclusions from the clustering analysis. Can we describe segments of the population that are relatively popular with the mail-order company, or relatively unpopular with the company?)\n",
    "\n",
    "Cluster 2 was overrepresented in the customer dataset compared to population; this cluster tended to have more religious and family-minded people compared to the population.  We can think of these folks as more popular with the mail-order company.\n",
    "\n",
    "Cluster 14 was underrepresented in the customer dataset compared to population; the cluster tended to be more influenced by the rational and dominant-minded people.  We can think of these folks as more popular with the mail-order company.  "
   ]
  },
  {
   "cell_type": "markdown",
   "metadata": {},
   "source": [
    "> Congratulations on making it this far in the project! Before you finish, make sure to check through the entire notebook from top to bottom to make sure that your analysis follows a logical flow and all of your findings are documented in **Discussion** cells. Once you've checked over all of your work, you should export the notebook as an HTML document to submit for evaluation. You can do this from the menu, navigating to **File -> Download as -> HTML (.html)**. You will submit both that document and this notebook for your project submission."
   ]
  },
  {
   "cell_type": "code",
   "execution_count": null,
   "metadata": {},
   "outputs": [],
   "source": []
  }
 ],
 "metadata": {
  "kernelspec": {
   "display_name": "Python 3",
   "language": "python",
   "name": "python3"
  },
  "language_info": {
   "codemirror_mode": {
    "name": "ipython",
    "version": 3
   },
   "file_extension": ".py",
   "mimetype": "text/x-python",
   "name": "python",
   "nbconvert_exporter": "python",
   "pygments_lexer": "ipython3",
   "version": "3.6.3"
  }
 },
 "nbformat": 4,
 "nbformat_minor": 2
}
